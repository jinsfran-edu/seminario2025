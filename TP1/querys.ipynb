{
 "cells": [
  {
   "cell_type": "markdown",
   "id": "4cda89ed",
   "metadata": {},
   "source": [
    "# Consultas"
   ]
  },
  {
   "cell_type": "code",
   "execution_count": null,
   "id": "f034717f",
   "metadata": {
    "language_info": {
     "name": "polyglot-notebook"
    },
    "polyglot_notebook": {
     "kernelName": "csharp"
    }
   },
   "outputs": [],
   "source": [
    "#r \"nuget: Microsoft.DotNet.Interactive.SqlServer, *-*\""
   ]
  },
  {
   "cell_type": "code",
   "execution_count": null,
   "id": "88cd0835",
   "metadata": {
    "language_info": {
     "name": "polyglot-notebook"
    },
    "polyglot_notebook": {
     "kernelName": "csharp"
    }
   },
   "outputs": [],
   "source": [
    "foreach (var line in System.IO.File.ReadLines(\".env\"))\n",
    "{\n",
    "    var parts = line.Split('=');\n",
    "    if (parts.Length == 2)\n",
    "    {\n",
    "        var key = parts[0].Trim();\n",
    "        var value = parts[1].Trim();\n",
    "        Environment.SetEnvironmentVariable(key, value);\n",
    "    }\n",
    "}\n",
    "\n",
    "string connectionString = \"Server=\" + Environment.GetEnvironmentVariable(\"Server\") + \";Database=\" + Environment.GetEnvironmentVariable(\"Database\") + \";User Id=\" + Environment.GetEnvironmentVariable(\"User\") + \";Password=\" + Environment.GetEnvironmentVariable(\"Password\") + \";Encrypt=True;TrustServerCertificate=True;Connection Timeout=30;\";\n"
   ]
  },
  {
   "cell_type": "code",
   "execution_count": null,
   "id": "fc34d511",
   "metadata": {
    "language_info": {
     "name": "polyglot-notebook"
    },
    "polyglot_notebook": {
     "kernelName": "csharp"
    }
   },
   "outputs": [],
   "source": [
    "#!connect mssql --kernel-name Empleados @csharp:connectionString"
   ]
  },
  {
   "cell_type": "code",
   "execution_count": null,
   "id": "441dc7b2",
   "metadata": {
    "language_info": {
     "name": "polyglot-notebook"
    },
    "polyglot_notebook": {
     "kernelName": "sql-Empleados"
    }
   },
   "outputs": [],
   "source": [
    "DECLARE @id_emp INT = 15678;\n",
    "DECLARE @id_dept CHAR(4) = 'd008';\n",
    "\n",
    "-- a) Devolver los datos (id, fecha de nacimiento, nombre y apellido concatenados, género y fecha de alta) del empleado asignado si alguna vez trabajó en el departamento asignado.\n",
    "SELECT id_emp, fecha_nacimiento, CONCAT(nombre, ' ', apellido) AS nombre_completo, genero, fecha_alta\n",
    "FROM empleados \n",
    "WHERE id_emp = @id_emp\n",
    "AND EXISTS ( SELECT 1 FROM dept_emp WHERE id_dept = @id_dept AND id_emp = @id_emp);\n",
    "\n",
    "-- b) Devolver los datos (id, fecha de nacimiento, nombre y apellido concatenados, género y fecha de alta) del empleado asignado si no trabaja actualmente en el departamento asignado.\n",
    "SELECT id_emp, fecha_nacimiento, CONCAT(nombre, ' ', apellido) AS nombre_completo, genero, fecha_alta\n",
    "FROM empleados\n",
    "WHERE id_emp = @id_emp\n",
    "AND NOT EXISTS ( SELECT 1 FROM dept_emp WHERE id_dept = @id_dept AND id_emp = @id_emp AND fecha_hasta = '99990101');\n",
    "\n",
    "-- c) Devolver los datos (id, nombre y apellido concatenados) del responsable actual del departamento asignado.\n",
    "SELECT id_emp, CONCAT(nombre, ' ', apellido) AS nombre_completo\n",
    "FROM empleados\n",
    "WHERE id_emp = (SELECT id_emp FROM dept_respo WHERE id_dept = @id_dept AND fecha_hasta = '99990101');\n",
    "\n",
    "-- d) Devolver los datos del empleado asignado, incluyendo el nombre del departamento en el que trabaja actualmente (realizar la consulta considerando la posibilidad de que el empleado ya no trabaje en la compañía, y en ese caso se debería mostrar el último departamento al que estuvo asignado).\n",
    "-- Con Subconsulta\n",
    "SELECT E.id_emp, fecha_nacimiento, CONCAT(nombre, ' ', apellido) AS nombrecompleto, genero, fecha_alta, D.nombre_dept\n",
    "FROM empleados AS E JOIN dept_emp AS DE ON E.id_emp = DE.id_emp\n",
    "JOIN departamentos AS D ON DE.id_dept = D.id_dept\n",
    "WHERE E.id_emp = @id_emp AND\n",
    "DE.fecha_hasta = (SELECT MAX(fecha_hasta) FROM dept_emp AS DEI WHERE DEI.id_emp = E.id_emp);\n",
    "-- Con Order y Top\n",
    "SELECT TOP 1 E.id_emp, fecha_nacimiento, CONCAT(nombre, ' ', apellido) AS nombrecompleto, genero, fecha_alta, D.nombre_dept\n",
    "FROM empleados AS E JOIN dept_emp AS DE ON E.id_emp = DE.id_emp\n",
    "JOIN departamentos AS D ON DE.id_dept = D.id_dept\n",
    "WHERE E.id_emp = @id_emp \n",
    "ORDER BY DE.fecha_hasta DESC;\n",
    "\n",
    "-- e) Agregar a la consulta anterior, el apellido del responsable del departamento.\n",
    "SELECT E.id_emp, E.fecha_nacimiento, CONCAT(E.nombre, ' ', E.apellido) AS nombrecompleto, E.genero, E.fecha_nacimiento, D.nombre_dept, J.apellido\n",
    "FROM empleados AS E JOIN dept_emp AS DE ON E.id_emp = DE.id_emp\n",
    "JOIN departamentos AS D ON DE.id_dept = D.id_dept\n",
    "JOIN dept_respo AS DR ON DR.id_dept = D.id_dept\n",
    "JOIN empleados AS J ON J.id_emp = DR.id_emp\n",
    "WHERE E.id_emp = @id_emp\n",
    "AND DE.fecha_hasta = (SELECT MAX(fecha_hasta) FROM dept_emp AS DEI WHERE DEI.id_emp = E.id_emp)\n",
    "AND DR.fecha_hasta = '99990101'; \n",
    "\n",
    "-- f) Considerando el menor y el mayor sueldo, ¿qué porcentaje de aumento recibió el empleado asignado? El formato de la respuesta deberá contar con dos decimales y el símbolo de porcentaje, por ejemplo 20.50%\n",
    "SELECT CONCAT(CAST(MAX(sueldo)*100.00/MIN(sueldo)-100.00 AS DECIMAL(19,2)),'%') as Porcentaje\n",
    "FROM sueldos\n",
    "WHERE id_emp = @id_emp;\n",
    "\n",
    "-- g) Obtener la lista de empleados (emp_id, fecha_nacimiento, nombre, apellido y género) que trabajan actualmente en el departamento asignado, cuyo sueldo actual es mayor a 120.000. El puesto que ocupa debe ser Ingeniero (el nombre del puesto debe contener “Engineer”) o tener categoría Senior (el nombre del puesto contiene “Senior”).\n",
    "SELECT E.id_emp, fecha_nacimiento, E.nombre, E.apellido, E.genero\n",
    "FROM dept_emp AS DE JOIN empleados AS E ON DE.id_emp=E.id_emp\n",
    "JOIN puestos AS P ON P.id_emp=E.id_emp\n",
    "JOIN puesto_descr AS PD ON P.id_puesto=PD.id_puesto\n",
    "JOIN sueldos AS S ON E.id_emp=S.id_emp\n",
    "WHERE DE.id_dept = @id_dept\n",
    "AND DE.fecha_hasta = '99990101'\n",
    "AND P.fecha_hasta = '99990101'\n",
    "AND S.fecha_hasta = '99990101'\n",
    "AND sueldo > 120000\n",
    "AND (puesto LIKE '%Engineer%' OR puesto LIKE '%Senior%');\n",
    "\n",
    "-- h) Agregar un nuevo departamento, con el código d010 y el nombre “Inteligencia Artificial”.\n",
    "INSERT INTO departamentos (id_dept, nombre_dept) VALUES ('d010', 'Inteligencia Artificial');\n",
    "\n",
    "-- i) Con vigencia desde el 01/01/2023, asigne los empleados obtenidos en la consulta g al nuevo departamento d010 y otórgueles un 15% de aumento de sueldo. Realice todos los comandos DML necesarios para que estos cambios queden reflejados correctamente en la base de datos.\n",
    "BEGIN TRANSACTION;\n",
    "UPDATE dept_emp SET fecha_hasta = '20230101'\n",
    "WHERE fecha_hasta = '99990101' AND id_dept = @id_dept\n",
    "AND id_emp IN (\n",
    "SELECT E.id_emp\n",
    "FROM dept_emp AS DE JOIN empleados AS E ON DE.id_emp=E.id_emp\n",
    "JOIN puestos AS P ON P.id_emp=E.id_emp\n",
    "JOIN puesto_descr AS PD ON P.id_puesto=PD.id_puesto\n",
    "JOIN sueldos AS S ON E.id_emp=S.id_emp\n",
    "WHERE DE.id_dept = @id_dept\n",
    "AND DE.fecha_hasta = '99990101'\n",
    "AND P.fecha_hasta = '99990101'\n",
    "AND S.fecha_hasta = '99990101'\n",
    "AND sueldo > 120000\n",
    "AND (puesto LIKE '%Engineer%' OR puesto LIKE '%Senior%'));\n",
    "\n",
    "INSERT INTO dept_emp (id_emp, id_dept, fecha_desde, fecha_hasta)\n",
    "SELECT E.id_emp, 'd010', '20230101', '99990101'\n",
    "FROM dept_emp AS DE JOIN empleados AS E ON DE.id_emp=E.id_emp\n",
    "JOIN puestos AS P ON P.id_emp=E.id_emp\n",
    "JOIN puesto_descr AS PD ON P.id_puesto=PD.id_puesto\n",
    "JOIN sueldos AS S ON E.id_emp=S.id_emp\n",
    "WHERE DE.id_dept = @id_dept\n",
    "AND DE.fecha_hasta = '20230101'\n",
    "AND P.fecha_hasta = '99990101'\n",
    "AND S.fecha_hasta = '99990101'\n",
    "AND sueldo > 120000\n",
    "AND (puesto LIKE '%Engineer%' OR puesto LIKE '%Senior%');\n",
    "\n",
    "UPDATE sueldos SET fecha_hasta = '20230101'\n",
    "WHERE fecha_hasta = '99990101' \n",
    "AND id_emp IN (\n",
    "SELECT E.id_emp\n",
    "FROM empleados AS E JOIN dept_emp AS DE ON E.id_emp=DE.id_emp\n",
    "WHERE DE.id_dept='d010'\n",
    ");\n",
    "\n",
    "INSERT INTO sueldos (id_emp, sueldo, fecha_desde, fecha_hasta)\n",
    "SELECT E.id_emp, sueldo * 1.15 as aumento, '20230101', '99990101'\n",
    "FROM empleados AS E JOIN dept_emp AS DE ON E.id_emp=DE.id_emp\n",
    "JOIN sueldos AS S ON E.id_emp = S.id_emp\n",
    "WHERE DE.id_dept='d010' AND S.fecha_hasta = '20230101';\n",
    "COMMIT;"
   ]
  },
  {
   "cell_type": "code",
   "execution_count": null,
   "id": "6322b5f2",
   "metadata": {
    "language_info": {
     "name": "polyglot-notebook"
    },
    "polyglot_notebook": {
     "kernelName": "sql-Empleados"
    }
   },
   "outputs": [],
   "source": [
    "-- j) Liste la cantidad de empleados de empleados y sueldo promedio de cada departamento, considerado solamente a los empleados que trabajan actualmente.\n",
    "SELECT D.id_dept, D.nombre_dept, COUNT(E.id_emp) AS CantEmpl, AVG(CONVERT(DECIMAL(19,4),S.sueldo)) AS SueldoProm\n",
    "FROM departamentos AS D JOIN dept_emp AS DE ON D.id_dept = DE.id_dept\n",
    "JOIN empleados AS E ON DE.id_emp = E.id_emp\n",
    "JOIN sueldos AS S ON E.id_emp = S.id_emp\n",
    "WHERE DE.fecha_hasta = '99990101'\n",
    "AND S.fecha_hasta = '99990101'\n",
    "GROUP BY D.id_dept, D.nombre_dept\n",
    "ORDER BY D.id_dept, D.nombre_dept;"
   ]
  }
 ],
 "metadata": {
  "kernelspec": {
   "display_name": ".NET (C#)",
   "language": "C#",
   "name": ".net-csharp"
  },
  "language_info": {
   "name": "polyglot-notebook"
  },
  "polyglot_notebook": {
   "kernelInfo": {
    "defaultKernelName": "csharp",
    "items": [
     {
      "aliases": [],
      "name": "csharp"
     },
     {
      "aliases": [],
      "languageName": "T-SQL",
      "name": "sql-Empleados"
     }
    ]
   }
  }
 },
 "nbformat": 4,
 "nbformat_minor": 5
}
