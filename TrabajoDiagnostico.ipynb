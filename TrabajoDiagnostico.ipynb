{
 "cells": [
  {
   "cell_type": "markdown",
   "id": "ee963bd2",
   "metadata": {},
   "source": [
    "# Trabajo Diagnóstico"
   ]
  },
  {
   "cell_type": "code",
   "execution_count": null,
   "id": "201de3dd",
   "metadata": {
    "polyglot_notebook": {
     "kernelName": "csharp"
    }
   },
   "outputs": [],
   "source": [
    "#r \"nuget: Microsoft.DotNet.Interactive.SqlServer, *-*\""
   ]
  },
  {
   "cell_type": "code",
   "execution_count": null,
   "id": "a030ca0d",
   "metadata": {
    "polyglot_notebook": {
     "kernelName": "csharp"
    }
   },
   "outputs": [],
   "source": [
    "foreach (var line in System.IO.File.ReadLines(\".env\"))\n",
    "{\n",
    "    var parts = line.Split('=');\n",
    "    if (parts.Length == 2)\n",
    "    {\n",
    "        var key = parts[0].Trim();\n",
    "        var value = parts[1].Trim();\n",
    "        Environment.SetEnvironmentVariable(key, value);\n",
    "    }\n",
    "}\n",
    "\n",
    "string connectionString = \"Server=\" + Environment.GetEnvironmentVariable(\"Server\") + \";Database=\" + Environment.GetEnvironmentVariable(\"Database\") + \";User Id=\" + Environment.GetEnvironmentVariable(\"User\") + \";Password=\" + Environment.GetEnvironmentVariable(\"Password\") + \";Encrypt=True;TrustServerCertificate=True;Connection Timeout=30;\";\n"
   ]
  },
  {
   "cell_type": "code",
   "execution_count": null,
   "id": "b086b62f",
   "metadata": {
    "polyglot_notebook": {
     "kernelName": "csharp"
    }
   },
   "outputs": [],
   "source": [
    "#!connect mssql --kernel-name Pampero @csharp:connectionString"
   ]
  },
  {
   "cell_type": "markdown",
   "id": "1d979d52",
   "metadata": {},
   "source": [
    "a. Verificar si la persona con DNI 38.987.765 es un paciente válido, y en caso de serlo devolver como respuesta el código de Obra Social que tiene"
   ]
  },
  {
   "cell_type": "code",
   "execution_count": null,
   "id": "901f553d",
   "metadata": {
    "polyglot_notebook": {
     "kernelName": "sql-Pampero"
    }
   },
   "outputs": [],
   "source": [
    "USE Hospital\n",
    "SELECT O.NombreOS\n",
    "FROM Pacientes P \n",
    "JOIN ObrasSociales O ON O.[Cod-OS] = P.[Cod-OS]\n",
    "WHERE P.DNI = '38987765';"
   ]
  },
  {
   "cell_type": "markdown",
   "id": "9443fb05",
   "metadata": {},
   "source": [
    "b. Listar los médicos, cuyo nombre sea “José Hernandez” o cualquier “Hernadez”"
   ]
  },
  {
   "cell_type": "code",
   "execution_count": null,
   "metadata": {
    "polyglot_notebook": {
     "kernelName": "sql-Pampero"
    }
   },
   "outputs": [],
   "source": [
    "use HOSPITAL\n",
    "SELECT Matricula, Nombre, Apellido, DNI, email, celular\n",
    "FROM Medicos\n",
    "WHERE Nombre = 'José' AND Apellido = 'Hernandez'\n",
    "   OR Apellido LIKE '%Hernadez%';"
   ]
  },
  {
   "cell_type": "markdown",
   "id": "937c1eb1",
   "metadata": {},
   "source": [
    "c. Listar los pacientes (DNI, Nombre y Apellido) junto con la cantidad veces que han estado internados (incluir en el listado TODOS los pacientes)."
   ]
  },
  {
   "cell_type": "code",
   "execution_count": null,
   "metadata": {
    "polyglot_notebook": {
     "kernelName": "sql-Pampero"
    }
   },
   "outputs": [],
   "source": [
    "USE HOSPITAL\n",
    "SELECT P.DNI, P.Nombre, P.Apellido, COUNT(H.DNI) AS CantidadInternaciones\n",
    "FROM Pacientes P\n",
    "LEFT JOIN HistoriasClinicas H ON H.DNI = P.DNI\n",
    "GROUP BY P.DNI, P.Nombre, P.Apellido;\n",
    "\n"
   ]
  },
  {
   "cell_type": "markdown",
   "id": "bcdd425e",
   "metadata": {},
   "source": [
    "d. Listar los horarios de atención de los cardiólogos."
   ]
  },
  {
   "cell_type": "code",
   "execution_count": null,
   "metadata": {
    "polyglot_notebook": {
     "kernelName": "sql-Pampero"
    }
   },
   "outputs": [],
   "source": [
    "USE HOSPITAL\n",
    "SELECT M.Matricula, M.Nombre, M.Apellido, E.Descripcion, H.Dia, H.Horario\n",
    "FROM Medicos M JOIN [Med-Esps] ME ON ME.Matricula = M.Matricula\n",
    "JOIN Especialidades E ON E.[Cod-Esp] = ME.[Cod-Esp]\n",
    "JOIN Horarios H ON H.Matricula = M.Matricula AND H.[Cod-Esp] = ME.[Cod-Esp]\n",
    "WHERE E.Descripcion = 'Cardiología';\n",
    "\n"
   ]
  },
  {
   "cell_type": "markdown",
   "id": "8b13c288",
   "metadata": {},
   "source": [
    "e. Listar la cantidad de camas libres que hay en este momento."
   ]
  },
  {
   "cell_type": "code",
   "execution_count": null,
   "metadata": {
    "polyglot_notebook": {
     "kernelName": "sql-Pampero"
    }
   },
   "outputs": [],
   "source": [
    "USE HOSPITAL\n",
    "SELECT COUNT(*) AS CantidadCamasLibres\n",
    "FROM Camas C\n",
    "WHERE NOT EXISTS (\n",
    "    SELECT 1\n",
    "    FROM HistoriasClinicas H\n",
    "    WHERE H.NroSala = C.NroSala AND H.NroCama = C.NroCama AND H.FechaHasta IS NULL\n",
    ");"
   ]
  }
 ],
 "metadata": {
  "kernelspec": {
   "display_name": ".NET (C#)",
   "language": "C#",
   "name": ".net-csharp"
  },
  "language_info": {
   "name": "polyglot-notebook"
  },
  "polyglot_notebook": {
   "kernelInfo": {
    "defaultKernelName": "csharp",
    "items": [
     {
      "aliases": [],
      "languageName": "csharp",
      "name": "csharp"
     },
     {
      "aliases": [],
      "languageName": "T-SQL",
      "name": "sql-Pampero"
     }
    ]
   }
  }
 },
 "nbformat": 4,
 "nbformat_minor": 5
}
