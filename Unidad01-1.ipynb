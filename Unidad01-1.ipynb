{
    "cells": [
        {
            "cell_type": "markdown",
            "metadata": {
                "azdata_cell_guid": "e486b2d2-1d56-4b40-b54b-5a596895544d"
            },
            "source": [
                "# UNIDAD 01"
            ]
        },
        {
            "cell_type": "code",
            "execution_count": null,
            "metadata": {
                "azdata_cell_guid": "b202e4b7-5577-4012-9846-98d08b1da3c3",
                "language": "sql",
                "polyglot_notebook": {
                    "kernelName": "csharp"
                },
                "vscode": {
                    "languageId": "polyglot-notebook"
                }
            },
            "outputs": [],
            "source": [
                "#r \"nuget: Microsoft.DotNet.Interactive.SqlServer, *-*\"\n"
            ]
        },
        {
            "cell_type": "code",
            "execution_count": null,
            "metadata": {
                "polyglot_notebook": {
                    "kernelName": "csharp"
                },
                "vscode": {
                    "languageId": "polyglot-notebook"
                }
            },
            "outputs": [],
            "source": [
                "foreach (var line in System.IO.File.ReadLines(\".env\"))\n",
                "{\n",
                "    var parts = line.Split('=');\n",
                "    if (parts.Length == 2)\n",
                "    {\n",
                "        var key = parts[0].Trim();\n",
                "        var value = parts[1].Trim();\n",
                "        Environment.SetEnvironmentVariable(key, value);\n",
                "    }\n",
                "}\n",
                "\n",
                "string connectionString = \"Server=\" + Environment.GetEnvironmentVariable(\"Server\") + \";Database=\" + Environment.GetEnvironmentVariable(\"Database\") + \";User Id=\" + Environment.GetEnvironmentVariable(\"User\") + \";Password=\" + Environment.GetEnvironmentVariable(\"Password\") + \";Encrypt=True;TrustServerCertificate=True;Connection Timeout=30;\";\n"
            ]
        },
        {
            "cell_type": "code",
            "execution_count": null,
            "metadata": {
                "azdata_cell_guid": "a4d0edf3-4948-438f-9847-39a1fa2bc37a",
                "language": "sql",
                "polyglot_notebook": {
                    "kernelName": "csharp"
                },
                "vscode": {
                    "languageId": "polyglot-notebook"
                }
            },
            "outputs": [],
            "source": [
                "#!connect mssql --kernel-name Pampero @csharp:connectionString"
            ]
        },
        {
            "cell_type": "code",
            "execution_count": null,
            "metadata": {
                "polyglot_notebook": {
                    "kernelName": "sql-Pampero"
                },
                "vscode": {
                    "languageId": "polyglot-notebook"
                }
            },
            "outputs": [],
            "source": [
                "USE Pampero;\n",
                "SELECT TOP (4) IDPedido, FechaEnvio, IDCliente, IDEmpleado\n",
                "FROM Pedidos\n",
                "ORDER BY FechaEnvio DESC;"
            ]
        },
        {
            "cell_type": "code",
            "execution_count": null,
            "metadata": {
                "polyglot_notebook": {
                    "kernelName": "sql-Pampero"
                },
                "vscode": {
                    "languageId": "polyglot-notebook"
                }
            },
            "outputs": [],
            "source": [
                "USE Pampero;\n",
                "SELECT TOP (1) PERCENT IDPedido, FechaEnvio, IDCliente, IDEmpleado\n",
                "FROM Pedidos\n",
                "ORDER BY FechaEnvio DESC;"
            ]
        },
        {
            "cell_type": "code",
            "execution_count": null,
            "metadata": {
                "polyglot_notebook": {
                    "kernelName": "sql-Pampero"
                },
                "vscode": {
                    "languageId": "polyglot-notebook"
                }
            },
            "outputs": [],
            "source": [
                "USE Pampero;\n",
                "SELECT TOP (4) IDPedido, FechaEnvio, IDCliente, IDEmpleado\n",
                "FROM Pedidos\n",
                "ORDER BY FechaEnvio DESC, IDPedido DESC;\n",
                "\n",
                "SELECT TOP (1) PERCENT IDPedido, FechaEnvio, IDCliente, IDEmpleado\n",
                "FROM Pedidos\n",
                "ORDER BY FechaEnvio DESC, IDPedido DESC;\n"
            ]
        },
        {
            "cell_type": "code",
            "execution_count": null,
            "metadata": {
                "polyglot_notebook": {
                    "kernelName": "sql-Pampero"
                },
                "vscode": {
                    "languageId": "polyglot-notebook"
                }
            },
            "outputs": [],
            "source": [
                "DROP TABLE IF EXISTS #podio;\n",
                "\n",
                "CREATE TABLE #podio ( \n",
                "nombre nvarchar(50) PRIMARY KEY, \n",
                "pais nvarchar(50), \n",
                "tiempo numeric(18,2) \n",
                "); "
            ]
        },
        {
            "cell_type": "code",
            "execution_count": null,
            "metadata": {
                "polyglot_notebook": {
                    "kernelName": "sql-Pampero"
                },
                "vscode": {
                    "languageId": "polyglot-notebook"
                }
            },
            "outputs": [],
            "source": [
                "INSERT INTO #podio (nombre, pais, tiempo)\n",
                "VALUES \n",
                "('Aleksandr Sadovnikov', 'RUS', 51.84),\n",
                "('Chad Le Clos', 'RSA', 51.14),\n",
                "('Joseph Schooling', 'SGP', 50.39),\n",
                "('Laszlo Cseh', 'HUN', 51.14),\n",
                "('Medhy Metella', 'FRA', 51.58),\n",
                "('Michael Phelps', 'USA', 51.14),\n",
                "('Tom Shields', 'USA', 51.73),\n",
                "('Zhuhao Li', 'CHN', 51.26);"
            ]
        },
        {
            "cell_type": "code",
            "execution_count": null,
            "metadata": {
                "polyglot_notebook": {
                    "kernelName": "sql-Pampero"
                },
                "vscode": {
                    "languageId": "polyglot-notebook"
                }
            },
            "outputs": [],
            "source": [
                "SELECT * FROM #podio;"
            ]
        },
        {
            "cell_type": "code",
            "execution_count": null,
            "metadata": {
                "polyglot_notebook": {
                    "kernelName": "sql-Pampero"
                },
                "vscode": {
                    "languageId": "polyglot-notebook"
                }
            },
            "outputs": [],
            "source": [
                "SELECT TOP 3  *\n",
                "FROM #podio \n",
                "ORDER BY tiempo;"
            ]
        },
        {
            "cell_type": "code",
            "execution_count": null,
            "metadata": {
                "polyglot_notebook": {
                    "kernelName": "sql-Pampero"
                },
                "vscode": {
                    "languageId": "polyglot-notebook"
                }
            },
            "outputs": [],
            "source": [
                "SELECT TOP 3 WITH TIES *\n",
                "FROM #podio \n",
                "ORDER BY tiempo;"
            ]
        },
        {
            "cell_type": "code",
            "execution_count": null,
            "metadata": {
                "polyglot_notebook": {
                    "kernelName": "sql-Pampero"
                },
                "vscode": {
                    "languageId": "polyglot-notebook"
                }
            },
            "outputs": [],
            "source": [
                "SELECT TOP (4) WITH TIES IDPedido, FechaEnvio, IDCliente, IDEmpleado\n",
                "FROM Pedidos\n",
                "ORDER BY FechaEnvio DESC;"
            ]
        },
        {
            "cell_type": "code",
            "execution_count": null,
            "metadata": {
                "polyglot_notebook": {
                    "kernelName": "sql-Pampero"
                },
                "vscode": {
                    "languageId": "polyglot-notebook"
                }
            },
            "outputs": [],
            "source": [
                "SELECT IDPedido, FechaEnvio, IDCliente, IDEmpleado\n",
                "FROM Pedidos\n",
                "ORDER BY FechaEnvio, IDPedido\n",
                "OFFSET 50 ROWS FETCH NEXT 25 ROWS ONLY;"
            ]
        },
        {
            "cell_type": "code",
            "execution_count": null,
            "metadata": {
                "polyglot_notebook": {
                    "kernelName": "sql-Pampero"
                },
                "vscode": {
                    "languageId": "polyglot-notebook"
                }
            },
            "outputs": [],
            "source": [
                "SELECT IDPedido, IDEmpleado, FechaPedido\n",
                "FROM Pedidos\n",
                "WHERE IDPedido IN(10248, 10249, 10250);"
            ]
        },
        {
            "cell_type": "code",
            "execution_count": null,
            "metadata": {
                "polyglot_notebook": {
                    "kernelName": "sql-Pampero"
                },
                "vscode": {
                    "languageId": "polyglot-notebook"
                }
            },
            "outputs": [],
            "source": [
                "SELECT IDPedido, IDEmpleado, FechaPedido\n",
                "FROM Pedidos\n",
                "WHERE IDPedido BETWEEN 10300 AND 10310;"
            ]
        },
        {
            "cell_type": "code",
            "execution_count": null,
            "metadata": {
                "polyglot_notebook": {
                    "kernelName": "sql-Pampero"
                },
                "vscode": {
                    "languageId": "polyglot-notebook"
                }
            },
            "outputs": [],
            "source": [
                "SELECT IDEmpleado, Nombre, Apellido\n",
                "FROM Empleados\n",
                "WHERE Apellido LIKE 'D%';"
            ]
        },
        {
            "cell_type": "code",
            "execution_count": null,
            "metadata": {
                "polyglot_notebook": {
                    "kernelName": "sql-Pampero"
                },
                "vscode": {
                    "languageId": "polyglot-notebook"
                }
            },
            "outputs": [],
            "source": [
                "SELECT IDPedido, IDProducto, Cantidad, PrecioUnitario, Descuento,\n",
                "Cantidad * PrecioUnitario * (1 - Descuento) AS valorneto\n",
                "FROM [Detalles Pedido]"
            ]
        },
        {
            "cell_type": "code",
            "execution_count": null,
            "metadata": {
                "polyglot_notebook": {
                    "kernelName": "sql-Pampero"
                },
                "vscode": {
                    "languageId": "polyglot-notebook"
                }
            },
            "outputs": [],
            "source": [
                "SELECT 5/2"
            ]
        },
        {
            "cell_type": "code",
            "execution_count": null,
            "metadata": {
                "polyglot_notebook": {
                    "kernelName": "sql-Pampero"
                },
                "vscode": {
                    "languageId": "polyglot-notebook"
                }
            },
            "outputs": [],
            "source": [
                "SELECT 5/2.0"
            ]
        },
        {
            "cell_type": "code",
            "execution_count": null,
            "metadata": {
                "polyglot_notebook": {
                    "kernelName": "sql-Pampero"
                },
                "vscode": {
                    "languageId": "polyglot-notebook"
                }
            },
            "outputs": [],
            "source": [
                "SELECT IDPedido, IDCliente, \n",
                "IDEmpleado, FechaPedido\n",
                "FROM Pedidos\n",
                "WHERE IDCliente = 'ALFKI' \n",
                "AND IDEmpleado IN(1, 3, 5) \n",
                "OR IDCliente = 'VINET' \n",
                "AND IDEmpleado IN(2, 4, 6);"
            ]
        },
        {
            "cell_type": "code",
            "execution_count": null,
            "metadata": {
                "polyglot_notebook": {
                    "kernelName": "sql-Pampero"
                },
                "vscode": {
                    "languageId": "polyglot-notebook"
                }
            },
            "outputs": [],
            "source": [
                "SELECT IDProducto, NombreProducto, IDCategoria,\n",
                "CASE IDCategoria\n",
                "WHEN 1 THEN 'Bebidas'\n",
                "WHEN 2 THEN 'Condimentos'\n",
                "WHEN 3 THEN 'Confites'\n",
                "WHEN 4 THEN 'Lacteos'\n",
                "WHEN 5 THEN 'Granos/Cereales'\n",
                "WHEN 6 THEN 'Avicola'\n",
                "WHEN 7 THEN 'Frutas'\n",
                "WHEN 8 THEN 'Mariscos'\n",
                "ELSE 'Categoria Desconocida'\n",
                "END AS NombreCategoria\n",
                "FROM Productos;"
            ]
        },
        {
            "cell_type": "code",
            "execution_count": null,
            "metadata": {
                "polyglot_notebook": {
                    "kernelName": "sql-Pampero"
                },
                "vscode": {
                    "languageId": "polyglot-notebook"
                }
            },
            "outputs": [],
            "source": [
                "SELECT IDPedido, IDCliente, val,\n",
                "CASE\n",
                "WHEN val < 1000.00 THEN 'Menos de 1000'\n",
                "WHEN val BETWEEN 1000.00 AND 3000.00 THEN 'Entre 1000 y 3000'\n",
                "WHEN val > 3000.00 THEN 'Mas de 3000'\n",
                "ELSE 'Desconocido'\n",
                "END AS CategoriaValor\n",
                "FROM ValoresPedido;"
            ]
        },
        {
            "cell_type": "code",
            "execution_count": null,
            "metadata": {
                "polyglot_notebook": {
                    "kernelName": "sql-Pampero"
                },
                "vscode": {
                    "languageId": "polyglot-notebook"
                }
            },
            "outputs": [],
            "source": [
                "SELECT IDPedido, FechaRequerida, FechaEnvio,\n",
                "GREATEST(FechaRequerida, FechaEnvio) AS fechatardia,\n",
                "LEAST(Fecharequerida, FechaEnvio) AS fechatemprana\n",
                "FROM Pedidos\n",
                "WHERE IDCliente = 'BOLID';"
            ]
        },
        {
            "cell_type": "code",
            "execution_count": null,
            "metadata": {
                "polyglot_notebook": {
                    "kernelName": "sql-Pampero"
                },
                "vscode": {
                    "languageId": "polyglot-notebook"
                }
            },
            "outputs": [],
            "source": [
                "SELECT IDCliente, Pais, Region, Ciudad\n",
                "FROM Clientes;"
            ]
        },
        {
            "cell_type": "code",
            "execution_count": null,
            "metadata": {
                "polyglot_notebook": {
                    "kernelName": "sql-Pampero"
                },
                "vscode": {
                    "languageId": "polyglot-notebook"
                }
            },
            "outputs": [],
            "source": [
                "SELECT IDCliente, Pais, Region, Ciudad\n",
                "FROM Clientes\n",
                "WHERE Region = 'WA';"
            ]
        },
        {
            "cell_type": "code",
            "execution_count": null,
            "metadata": {
                "polyglot_notebook": {
                    "kernelName": "sql-Pampero"
                },
                "vscode": {
                    "languageId": "polyglot-notebook"
                }
            },
            "outputs": [],
            "source": [
                "SELECT IDCliente, Pais, Region, Ciudad\n",
                "FROM Clientes\n",
                "WHERE Region <> 'WA';"
            ]
        },
        {
            "cell_type": "code",
            "execution_count": null,
            "metadata": {
                "polyglot_notebook": {
                    "kernelName": "sql-Pampero"
                },
                "vscode": {
                    "languageId": "polyglot-notebook"
                }
            },
            "outputs": [],
            "source": [
                "SELECT IDCliente, Pais, Region, Ciudad\n",
                "FROM Clientes\n",
                "WHERE Region IS NOT DISTINCT FROM 'WA';\n",
                "\n",
                "SELECT IDCliente, Pais, Region, Ciudad\n",
                "FROM Clientes\n",
                "WHERE Region IS DISTINCT FROM 'WA';"
            ]
        }
    ],
    "metadata": {
        "kernelspec": {
            "display_name": ".NET (C#)",
            "language": "C#",
            "name": ".net-csharp"
        },
        "language_info": {
            "name": "sql",
            "version": ""
        },
        "polyglot_notebook": {
            "kernelInfo": {
                "defaultKernelName": "csharp",
                "items": [
                    {
                        "aliases": [],
                        "languageName": "csharp",
                        "name": "csharp"
                    },
                    {
                        "aliases": [],
                        "languageName": "T-SQL",
                        "name": "sql-AzurePampero"
                    },
                    {
                        "aliases": [],
                        "languageName": "T-SQL",
                        "name": "sql-Pampero"
                    }
                ]
            }
        }
    },
    "nbformat": 4,
    "nbformat_minor": 2
}
