{
 "cells": [
  {
   "cell_type": "markdown",
   "metadata": {},
   "source": [
    "# UNIDAD 01 - Parte 2"
   ]
  },
  {
   "cell_type": "code",
   "execution_count": null,
   "metadata": {
    "polyglot_notebook": {
     "kernelName": "csharp"
    },
    "vscode": {
     "languageId": "polyglot-notebook"
    }
   },
   "outputs": [],
   "source": [
    "#r \"nuget: Microsoft.DotNet.Interactive.SqlServer, *-*\""
   ]
  },
  {
   "cell_type": "code",
   "execution_count": null,
   "metadata": {
    "polyglot_notebook": {
     "kernelName": "csharp"
    },
    "vscode": {
     "languageId": "polyglot-notebook"
    }
   },
   "outputs": [],
   "source": [
    "foreach (var line in System.IO.File.ReadLines(\".env\"))\n",
    "{\n",
    "    var parts = line.Split('=');\n",
    "    if (parts.Length == 2)\n",
    "    {\n",
    "        var key = parts[0].Trim();\n",
    "        var value = parts[1].Trim();\n",
    "        Environment.SetEnvironmentVariable(key, value);\n",
    "    }\n",
    "}\n",
    "\n",
    "string connectionString = \"Server=\" + Environment.GetEnvironmentVariable(\"Server\") + \";Database=\" + Environment.GetEnvironmentVariable(\"Database\") + \";User Id=\" + Environment.GetEnvironmentVariable(\"User\") + \";Password=\" + Environment.GetEnvironmentVariable(\"Password\") + \";Encrypt=True;TrustServerCertificate=True;Connection Timeout=30;\";\n"
   ]
  },
  {
   "cell_type": "code",
   "execution_count": null,
   "metadata": {
    "polyglot_notebook": {
     "kernelName": "csharp"
    },
    "vscode": {
     "languageId": "polyglot-notebook"
    }
   },
   "outputs": [],
   "source": [
    "#!connect mssql --kernel-name Pampero @csharp:connectionString"
   ]
  },
  {
   "cell_type": "code",
   "execution_count": null,
   "metadata": {
    "polyglot_notebook": {
     "kernelName": "sql-Pampero"
    },
    "vscode": {
     "languageId": "polyglot-notebook"
    }
   },
   "outputs": [],
   "source": [
    "SELECT\n",
    "IDPedido,\n",
    "YEAR(FechaPedido) AS anioorden,\n",
    "anioorden + 1 AS aniosiguiente\n",
    "FROM Pedidos;"
   ]
  },
  {
   "cell_type": "code",
   "execution_count": null,
   "metadata": {
    "polyglot_notebook": {
     "kernelName": "sql-Pampero"
    },
    "vscode": {
     "languageId": "polyglot-notebook"
    }
   },
   "outputs": [],
   "source": [
    "SELECT name, description\n",
    "FROM sys.fn_helpcollations();"
   ]
  },
  {
   "cell_type": "code",
   "execution_count": null,
   "metadata": {
    "polyglot_notebook": {
     "kernelName": "sql-Pampero"
    },
    "vscode": {
     "languageId": "polyglot-notebook"
    }
   },
   "outputs": [],
   "source": [
    "SELECT CONVERT (varchar(256), SERVERPROPERTY('collation'));\n",
    "\n",
    "EXECUTE sp_helpsort;"
   ]
  },
  {
   "cell_type": "code",
   "execution_count": null,
   "metadata": {
    "polyglot_notebook": {
     "kernelName": "sql-Pampero"
    },
    "vscode": {
     "languageId": "polyglot-notebook"
    }
   },
   "outputs": [],
   "source": [
    "SELECT name, collation_name FROM sys.databases;\n",
    "\n",
    "SELECT CONVERT (varchar(256), DATABASEPROPERTYEX('Pampero','collation'));"
   ]
  },
  {
   "cell_type": "code",
   "execution_count": null,
   "metadata": {
    "polyglot_notebook": {
     "kernelName": "sql-Pampero"
    },
    "vscode": {
     "languageId": "polyglot-notebook"
    }
   },
   "outputs": [],
   "source": [
    "SELECT t.name TableName, c.name ColumnName, collation_name  \n",
    "FROM sys.columns c  \n",
    "inner join sys.tables t on c.object_id = t.object_id;"
   ]
  },
  {
   "cell_type": "code",
   "execution_count": null,
   "metadata": {
    "polyglot_notebook": {
     "kernelName": "sql-Pampero"
    },
    "vscode": {
     "languageId": "polyglot-notebook"
    }
   },
   "outputs": [],
   "source": [
    "SELECT IDEmpleado, Nombre + ' ' + Apellido AS nombrecompleto\n",
    "FROM Empleados;"
   ]
  },
  {
   "cell_type": "code",
   "execution_count": null,
   "metadata": {
    "polyglot_notebook": {
     "kernelName": "sql-Pampero"
    },
    "vscode": {
     "languageId": "polyglot-notebook"
    }
   },
   "outputs": [],
   "source": [
    "SELECT IDCliente, Pais, Region, Ciudad,\n",
    "Pais + ',' + Region + ',' + Ciudad AS ubicacion\n",
    "FROM Clientes;"
   ]
  },
  {
   "cell_type": "code",
   "execution_count": null,
   "metadata": {
    "polyglot_notebook": {
     "kernelName": "sql-Pampero"
    },
    "vscode": {
     "languageId": "polyglot-notebook"
    }
   },
   "outputs": [],
   "source": [
    "SELECT IDCliente, Pais, Region, Ciudad,\n",
    "CONCAT(Pais, ',', Region, ',', Ciudad) AS ubicacion\n",
    "FROM Clientes;\n",
    "\n",
    "SELECT IDCliente, Pais, Region, Ciudad,\n",
    "CONCAT_WS(',', Pais, Region, Ciudad) AS ubicacion\n",
    "FROM Clientes;"
   ]
  },
  {
   "cell_type": "code",
   "execution_count": null,
   "metadata": {
    "polyglot_notebook": {
     "kernelName": "sql-Pampero"
    },
    "vscode": {
     "languageId": "polyglot-notebook"
    }
   },
   "outputs": [],
   "source": [
    "DECLARE @d DATE = '20201122';\n",
    "SELECT FORMAT( @d, 'd', 'en-US' ) 'US English'  \n",
    "      ,FORMAT( @d, 'd', 'en-gb' ) 'British English'  \n",
    "      ,FORMAT( @d, 'd', 'de-de' ) 'German'  \n",
    "      ,FORMAT( @d, 'd', 'zh-cn' ) 'Chinese Simplified (PRC)';  \n",
    "  \n",
    "SELECT FORMAT( @d, 'D', 'en-US' ) 'US English'  \n",
    "      ,FORMAT( @d, 'D', 'en-gb' ) 'British English'  \n",
    "      ,FORMAT( @d, 'D', 'de-de' ) 'German'  \n",
    "      ,FORMAT( @d, 'D', 'zh-cn' ) 'Chinese Simplified (PRC)';"
   ]
  },
  {
   "cell_type": "code",
   "execution_count": null,
   "metadata": {
    "polyglot_notebook": {
     "kernelName": "sql-Pampero"
    },
    "vscode": {
     "languageId": "polyglot-notebook"
    }
   },
   "outputs": [],
   "source": [
    "DECLARE @d DATE = GETDATE();  \n",
    "SELECT FORMAT( @d, 'dd/MM/yyyy') AS 'Fecha'  \n",
    "       ,FORMAT(123456789,'###-##-####') AS 'Numero Personalizado';"
   ]
  },
  {
   "cell_type": "code",
   "execution_count": null,
   "metadata": {
    "polyglot_notebook": {
     "kernelName": "sql-Pampero"
    },
    "vscode": {
     "languageId": "polyglot-notebook"
    }
   },
   "outputs": [],
   "source": [
    "USE Pampero;\n",
    "SELECT TOP(5) IDProducto, PrecioUnitario  \n",
    "            ,FORMAT(PrecioUnitario, 'N', 'en-us') AS 'Formato Numerico'  \n",
    "            ,FORMAT(PrecioUnitario, 'G', 'en-us') AS 'Formato General'  \n",
    "            ,FORMAT(PrecioUnitario, 'C', 'en-us') AS 'Formato Moneda'  \n",
    "FROM Productos  \n",
    "ORDER BY IDProducto;\n",
    "SELECT TOP(5) IDProducto, PrecioUnitario  \n",
    "            ,FORMAT(PrecioUnitario, 'N', 'de-de') AS 'Formato Numerico'  \n",
    "            ,FORMAT(PrecioUnitario, 'G', 'de-de') AS 'Formato General'  \n",
    "            ,FORMAT(PrecioUnitario, 'C', 'de-de') AS 'Formato Moneda'  \n",
    "FROM Productos\n",
    "ORDER BY IDProducto;\n",
    "SELECT TOP(5) IDProducto, PrecioUnitario  \n",
    "            ,FORMAT(PrecioUnitario, 'N', 'es-ar') AS 'Formato Numerico'  \n",
    "            ,FORMAT(PrecioUnitario, 'G', 'es-ar') AS 'Formato General'  \n",
    "            ,FORMAT(PrecioUnitario, 'C', 'es-ar') AS 'Formato Moneda'  \n",
    "FROM Productos\n",
    "ORDER BY IDProducto;"
   ]
  },
  {
   "cell_type": "code",
   "execution_count": null,
   "metadata": {
    "polyglot_notebook": {
     "kernelName": "sql-Pampero"
    },
    "vscode": {
     "languageId": "polyglot-notebook"
    }
   },
   "outputs": [],
   "source": [
    "SELECT FORMAT(SYSDATETIME(), N'hh:mm tt'); \n",
    "SELECT FORMAT(SYSDATETIME(), N'hh:mm t'); \n",
    "SELECT FORMAT(SYSDATETIME(), N'HH:mm'); "
   ]
  }
 ],
 "metadata": {
  "kernelspec": {
   "display_name": ".NET (C#)",
   "language": "C#",
   "name": ".net-csharp"
  },
  "language_info": {
   "name": "python"
  },
  "polyglot_notebook": {
   "kernelInfo": {
    "defaultKernelName": "csharp",
    "items": [
     {
      "aliases": [],
      "name": "csharp"
     },
     {
      "aliases": [],
      "languageName": "T-SQL",
      "name": "sql-AzurePampero"
     },
     {
      "aliases": [],
      "languageName": "T-SQL",
      "name": "sql-DockerLocal"
     },
     {
      "aliases": [],
      "languageName": "T-SQL",
      "name": "sql-Pampero"
     }
    ]
   }
  }
 },
 "nbformat": 4,
 "nbformat_minor": 2
}
