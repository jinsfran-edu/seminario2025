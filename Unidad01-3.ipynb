{
 "cells": [
  {
   "cell_type": "markdown",
   "id": "5621b95f",
   "metadata": {},
   "source": [
    "# UNIDAD 01"
   ]
  },
  {
   "cell_type": "code",
   "execution_count": null,
   "id": "e9f43b08",
   "metadata": {
    "polyglot_notebook": {
     "kernelName": "csharp"
    }
   },
   "outputs": [],
   "source": [
    "#r \"nuget: Microsoft.DotNet.Interactive.SqlServer, *-*\""
   ]
  },
  {
   "cell_type": "code",
   "execution_count": null,
   "id": "eac2e4fa",
   "metadata": {
    "polyglot_notebook": {
     "kernelName": "csharp"
    }
   },
   "outputs": [],
   "source": [
    "foreach (var line in System.IO.File.ReadLines(\".env\"))\n",
    "{\n",
    "    var parts = line.Split('=');\n",
    "    if (parts.Length == 2)\n",
    "    {\n",
    "        var key = parts[0].Trim();\n",
    "        var value = parts[1].Trim();\n",
    "        Environment.SetEnvironmentVariable(key, value);\n",
    "    }\n",
    "}\n",
    "\n",
    "string connectionString = \"Server=\" + Environment.GetEnvironmentVariable(\"Server\") + \";Database=\" + Environment.GetEnvironmentVariable(\"Database\") + \";User Id=\" + Environment.GetEnvironmentVariable(\"User\") + \";Password=\" + Environment.GetEnvironmentVariable(\"Password\") + \";Encrypt=True;TrustServerCertificate=True;Connection Timeout=30;\";\n"
   ]
  },
  {
   "cell_type": "code",
   "execution_count": null,
   "id": "0b6fc35d",
   "metadata": {
    "polyglot_notebook": {
     "kernelName": "csharp"
    }
   },
   "outputs": [],
   "source": [
    "#!connect mssql --kernel-name Pampero @csharp:connectionString"
   ]
  },
  {
   "cell_type": "code",
   "execution_count": null,
   "id": "d9b62d0d",
   "metadata": {
    "polyglot_notebook": {
     "kernelName": "sql-Pampero"
    }
   },
   "outputs": [],
   "source": [
    "USE Pampero\n",
    "SELECT physical_name \n",
    "FROM [sys].[database_files]\n"
   ]
  },
  {
   "cell_type": "code",
   "execution_count": null,
   "id": "5cb3c70d",
   "metadata": {
    "polyglot_notebook": {
     "kernelName": "sql-Pampero"
    }
   },
   "outputs": [],
   "source": [
    "USE Pampero\n",
    "SELECT RIGHT(physical_name, CHARINDEX('/', REVERSE(physical_name))-1)\n",
    "FROM sys.database_files\n"
   ]
  },
  {
   "cell_type": "code",
   "execution_count": null,
   "id": "841a537f",
   "metadata": {
    "polyglot_notebook": {
     "kernelName": "sql-Pampero"
    }
   },
   "outputs": [],
   "source": [
    "USE Pampero\n",
    "SELECT REVERSE(SUBSTRING(REVERSE(physical_name), 1, CHARINDEX('/', REVERSE(physical_name))-1))\n",
    "FROM sys.database_files\n"
   ]
  },
  {
   "cell_type": "code",
   "execution_count": null,
   "id": "047fb049",
   "metadata": {
    "polyglot_notebook": {
     "kernelName": "sql-Pampero"
    }
   },
   "outputs": [],
   "source": [
    "USE WideWorldImporters;\n",
    "SELECT EmailAddress, STUFF(EmailAddress,1,CHARINDEX('@',EmailAddress)-1,REPLICATE('*',CHARINDEX('@',EmailAddress)-1))\n",
    "FROM Application.People\n",
    "WHERE EmailAddress IS NOT NULL;\n"
   ]
  }
 ],
 "metadata": {
  "kernelspec": {
   "display_name": ".NET (C#)",
   "language": "C#",
   "name": ".net-csharp"
  },
  "language_info": {
   "name": "polyglot-notebook"
  },
  "polyglot_notebook": {
   "kernelInfo": {
    "defaultKernelName": "csharp",
    "items": [
     {
      "aliases": [],
      "languageName": "csharp",
      "name": "csharp"
     },
     {
      "aliases": [],
      "languageName": "T-SQL",
      "name": "sql-Pampero"
     }
    ]
   }
  }
 },
 "nbformat": 4,
 "nbformat_minor": 5
}
