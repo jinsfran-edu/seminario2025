{
 "cells": [
  {
   "cell_type": "markdown",
   "id": "6d393569",
   "metadata": {},
   "source": [
    "# UNIDAD 01"
   ]
  },
  {
   "cell_type": "code",
   "execution_count": null,
   "id": "4b1d9ac9",
   "metadata": {
    "polyglot_notebook": {
     "kernelName": "csharp"
    }
   },
   "outputs": [],
   "source": [
    "#r \"nuget: Microsoft.DotNet.Interactive.SqlServer, *-*\""
   ]
  },
  {
   "cell_type": "code",
   "execution_count": null,
   "id": "b3947318",
   "metadata": {
    "polyglot_notebook": {
     "kernelName": "csharp"
    }
   },
   "outputs": [],
   "source": [
    "foreach (var line in System.IO.File.ReadLines(\".env\"))\n",
    "{\n",
    "    var parts = line.Split('=');\n",
    "    if (parts.Length == 2)\n",
    "    {\n",
    "        var key = parts[0].Trim();\n",
    "        var value = parts[1].Trim();\n",
    "        Environment.SetEnvironmentVariable(key, value);\n",
    "    }\n",
    "}\n",
    "\n",
    "string connectionString = \"Server=\" + Environment.GetEnvironmentVariable(\"Server\") + \";Database=\" + Environment.GetEnvironmentVariable(\"Database\") + \";User Id=\" + Environment.GetEnvironmentVariable(\"User\") + \";Password=\" + Environment.GetEnvironmentVariable(\"Password\") + \";Encrypt=True;TrustServerCertificate=True;Connection Timeout=30;\";\n"
   ]
  },
  {
   "cell_type": "code",
   "execution_count": null,
   "id": "e554ab4b",
   "metadata": {
    "polyglot_notebook": {
     "kernelName": "csharp"
    }
   },
   "outputs": [],
   "source": [
    "#!connect mssql --kernel-name Pampero @csharp:connectionString"
   ]
  },
  {
   "cell_type": "code",
   "execution_count": null,
   "metadata": {
    "polyglot_notebook": {
     "kernelName": "sql-Pampero"
    }
   },
   "outputs": [],
   "source": [
    "SELECT BASE64_ENCODE(CAST ('Instituto Lujan Buen Viaje' AS VARBINARY));"
   ]
  },
  {
   "cell_type": "code",
   "execution_count": null,
   "metadata": {
    "polyglot_notebook": {
     "kernelName": "sql-Pampero"
    }
   },
   "outputs": [],
   "source": [
    "SELECT BASE64_DECODE('SW5zdGl0dXRvIEx1amFuIEJ1ZW4gVmlhamU=');\n",
    "SELECT CAST(BASE64_DECODE('SW5zdGl0dXRvIEx1amFuIEJ1ZW4gVmlhamU=') AS VARCHAR(100));"
   ]
  },
  {
   "cell_type": "code",
   "execution_count": null,
   "metadata": {
    "polyglot_notebook": {
     "kernelName": "sql-Pampero"
    }
   },
   "outputs": [],
   "source": [
    "SELECT TRY_CAST('prueba' AS float) AS Resultado;\n",
    "\n",
    "SET DATEFORMAT dmy;  \n",
    "SELECT TRY_CAST('12/31/2010' AS datetime2) AS Resultado;  \n",
    "\n",
    "SET DATEFORMAT mdy;  \n",
    "SELECT CAST('12/31/2010' AS datetime2) AS Resultado;  \n",
    "\n",
    "SELECT TRY_CAST(4 AS xml) AS Resultado; \n"
   ]
  },
  {
   "cell_type": "code",
   "execution_count": null,
   "metadata": {
    "polyglot_notebook": {
     "kernelName": "sql-Pampero"
    }
   },
   "outputs": [],
   "source": [
    "SELECT CAST(10.6496 AS int) as trunc1, \n",
    "CAST(-10.6496 AS int) as trunc2, \n",
    "CAST(10.6496 AS numeric) as round1, \n",
    "CAST(-10.6496 AS numeric) as round2;\n"
   ]
  },
  {
   "cell_type": "code",
   "execution_count": null,
   "metadata": {
    "polyglot_notebook": {
     "kernelName": "sql-Pampero"
    }
   },
   "outputs": [],
   "source": [
    "SELECT CAST(10.3496847 AS money); -- Redondea"
   ]
  },
  {
   "cell_type": "code",
   "execution_count": null,
   "metadata": {
    "polyglot_notebook": {
     "kernelName": "sql-Pampero"
    }
   },
   "outputs": [],
   "source": [
    "SELECT SUBSTRING(NombreProducto, 1, 30) AS NombreProd, PrecioUnitario  \n",
    "FROM Productos\n",
    "WHERE CAST(PrecioUnitario AS numeric) LIKE '3%'; \n",
    "\n",
    "SELECT SUBSTRING(NombreProducto, 1, 30) AS NombreProd, PrecioUnitario   \n",
    "FROM Productos\n",
    "WHERE CONVERT(numeric, PrecioUnitario) LIKE '3%'; \n"
   ]
  },
  {
   "cell_type": "code",
   "execution_count": null,
   "metadata": {
    "polyglot_notebook": {
     "kernelName": "sql-Pampero"
    }
   },
   "outputs": [],
   "source": [
    "SELECT 'El precio es ' + \n",
    "CAST(PrecioUnitario AS varchar(12)) AS Precio  \n",
    "FROM Productos \n",
    "WHERE PrecioUnitario BETWEEN 35.00 AND 40.00;\n"
   ]
  },
  {
   "cell_type": "code",
   "execution_count": null,
   "metadata": {
    "polyglot_notebook": {
     "kernelName": "sql-Pampero"
    }
   },
   "outputs": [],
   "source": [
    "SELECT\n",
    " GETDATE() AS FechaHoraSinConvertir,\n",
    " CAST(GETDATE() AS nvarchar(30)) AS UsandoCast,\n",
    " CONVERT(nvarchar(30), GETDATE(), 126) AS UsandoConvertA_ISO8601,\n",
    " CONVERT(nvarchar(30), GETDATE(), 101) AS UsandoConvertA_101,\n",
    " CONVERT(nvarchar(30), GETDATE(), 103) AS UsandoConvertA_103;\n"
   ]
  },
  {
   "cell_type": "code",
   "execution_count": null,
   "metadata": {
    "polyglot_notebook": {
     "kernelName": "sql-Pampero"
    }
   },
   "outputs": [],
   "source": [
    "SELECT\n",
    "    '2006-04-25T15:50:59.997' AS TextoSinConvertir,\n",
    "    CAST('2006-04-25T15:50:59.997' AS datetime) AS UsandoCast,\n",
    "    CONVERT(datetime, '2006-04-25T15:50:59.997', 126) AS UsandoConvertDe_ISO8601;"
   ]
  },
  {
   "cell_type": "code",
   "execution_count": null,
   "metadata": {
    "polyglot_notebook": {
     "kernelName": "sql-Pampero"
    }
   },
   "outputs": [],
   "source": [
    "SELECT TRY_CAST('prueba' AS float)\n",
    "\n",
    "SET DATEFORMAT dmy;  \n",
    "SELECT TRY_CAST('12/31/2010' AS datetime2) AS Resultado;  \n",
    "SET DATEFORMAT mdy;  \n",
    "\n",
    "SELECT TRY_CAST('12/31/2010' AS datetime2) AS Resultado;  \n",
    "SELECT TRY_CAST(4 AS xml) AS Resultado;"
   ]
  },
  {
   "cell_type": "code",
   "execution_count": null,
   "metadata": {
    "polyglot_notebook": {
     "kernelName": "sql-Pampero"
    }
   },
   "outputs": [],
   "source": [
    "SELECT   \n",
    "    CASE WHEN TRY_CAST('test' AS float) IS NULL   \n",
    "    THEN 'Cast fallo'  \n",
    "    ELSE 'Cast exito'  \n",
    "END AS Resultado; \n"
   ]
  },
  {
   "cell_type": "code",
   "execution_count": null,
   "metadata": {
    "polyglot_notebook": {
     "kernelName": "sql-Pampero"
    }
   },
   "outputs": [],
   "source": [
    "SELECT\n",
    "CAST('20170212 12:00:00.0000000' AS DATETIME2)\n",
    "AT TIME ZONE 'Argentina Standard Time' AS val1,\n",
    "CAST('20170212 12:00:00.0000000' AS DATETIME2)\n",
    "AT TIME ZONE 'Pacific Standard Time' AS val2;\n"
   ]
  },
  {
   "cell_type": "code",
   "execution_count": null,
   "metadata": {
    "polyglot_notebook": {
     "kernelName": "sql-Pampero"
    }
   },
   "outputs": [],
   "source": [
    "DECLARE @d datetime2 = SYSDATETIME();\n",
    "SELECT 'Año', DATETRUNC(year, @d);\n",
    "SELECT 'Trimestre', DATETRUNC(quarter, @d);\n",
    "SELECT 'Mes', DATETRUNC(month, @d);\n",
    "SELECT 'Semana', DATETRUNC(week, @d);\n",
    "SELECT 'Iso_Semana', DATETRUNC(iso_week, @d);\n",
    "SELECT 'Dia', DATETRUNC(day, @d);\n",
    "SELECT 'Hora', DATETRUNC(hour, @d);\n",
    "SELECT 'Minuto', DATETRUNC(minute, @d);\n",
    "SELECT 'Segundo', DATETRUNC(second, @d);\n",
    "SELECT 'Milisegundo', DATETRUNC(millisecond, @d);\n",
    "SELECT 'Microsegundo', DATETRUNC(microsecond, @d);\n"
   ]
  }
 ],
 "metadata": {
  "kernelspec": {
   "display_name": ".NET (C#)",
   "language": "C#",
   "name": ".net-csharp"
  },
  "language_info": {
   "name": "polyglot-notebook"
  },
  "polyglot_notebook": {
   "kernelInfo": {
    "defaultKernelName": "csharp",
    "items": [
     {
      "aliases": [],
      "languageName": "csharp",
      "name": "csharp"
     },
     {
      "aliases": [],
      "languageName": "T-SQL",
      "name": "sql-Pampero"
     }
    ]
   }
  }
 },
 "nbformat": 4,
 "nbformat_minor": 5
}
