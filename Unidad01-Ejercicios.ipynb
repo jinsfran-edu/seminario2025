{
    "cells": [
        {
            "cell_type": "markdown",
            "metadata": {},
            "source": [
                "# UNIDAD 01 - Ejercicios"
            ]
        },
        {
            "cell_type": "code",
            "execution_count": 1,
            "metadata": {
                "polyglot_notebook": {
                    "kernelName": "csharp"
                },
                "vscode": {
                    "languageId": "polyglot-notebook"
                }
            },
            "outputs": [
                {
                    "data": {
                        "text/html": [
                            "<div><div></div><div></div><div><strong>Installed Packages</strong><ul><li><span>Microsoft.DotNet.Interactive.SqlServer, 1.0.0-beta.25177.1</span></li></ul></div></div>"
                        ]
                    },
                    "metadata": {},
                    "output_type": "display_data"
                },
                {
                    "data": {
                        "text/plain": [
                            "Loading extension script from `C:\\Users\\joi\\.nuget\\packages\\microsoft.dotnet.interactive.sqlserver\\1.0.0-beta.25177.1\\interactive-extensions\\dotnet\\extension.dib`"
                        ]
                    },
                    "metadata": {},
                    "output_type": "display_data"
                },
                {
                    "data": {
                        "text/html": [
                            "<details><summary>Query Microsoft SQL Server databases.</summary>\r\n",
                            "<p>This extension adds support for connecting to Microsoft SQL Server databases using the <code>#!connect mssql</code> magic command. For more information, run a cell using the <code>#!sql</code> magic command.</p>\r\n",
                            "</details>"
                        ]
                    },
                    "metadata": {},
                    "output_type": "display_data"
                }
            ],
            "source": [
                "#r \"nuget: Microsoft.DotNet.Interactive.SqlServer, *-*\""
            ]
        },
        {
            "cell_type": "code",
            "execution_count": 2,
            "metadata": {
                "polyglot_notebook": {
                    "kernelName": "csharp"
                },
                "vscode": {
                    "languageId": "polyglot-notebook"
                }
            },
            "outputs": [],
            "source": [
                "foreach (var line in System.IO.File.ReadLines(\".env\"))\n",
                "{\n",
                "    var parts = line.Split('=');\n",
                "    if (parts.Length == 2)\n",
                "    {\n",
                "        var key = parts[0].Trim();\n",
                "        var value = parts[1].Trim();\n",
                "        Environment.SetEnvironmentVariable(key, value);\n",
                "    }\n",
                "}\n",
                "\n",
                "string connectionString = \"Server=\" + Environment.GetEnvironmentVariable(\"Server\") + \";Database=\" + Environment.GetEnvironmentVariable(\"Database\") + \";User Id=\" + Environment.GetEnvironmentVariable(\"User\") + \";Password=\" + Environment.GetEnvironmentVariable(\"Password\") + \";Encrypt=True;TrustServerCertificate=True;Connection Timeout=30;\";\n"
            ]
        },
        {
            "cell_type": "code",
            "execution_count": 3,
            "metadata": {
                "polyglot_notebook": {
                    "kernelName": "csharp"
                },
                "vscode": {
                    "languageId": "polyglot-notebook"
                }
            },
            "outputs": [
                {
                    "data": {
                        "text/plain": [
                            "Kernel added: #!sql-Pampero"
                        ]
                    },
                    "metadata": {},
                    "output_type": "display_data"
                }
            ],
            "source": [
                "#!connect mssql --kernel-name Pampero @csharp:connectionString"
            ]
        },
        {
            "attachments": {},
            "cell_type": "markdown",
            "metadata": {
                "azdata_cell_guid": "558468ad-4f4b-43ea-80d1-2a7d341069fa"
            },
            "source": [
                "1) Consultar de la tabla Pedidos los pedidos realizados en junio de 2020."
            ]
        },
        {
            "cell_type": "code",
            "execution_count": 6,
            "metadata": {
                "polyglot_notebook": {
                    "kernelName": "sql-Pampero"
                },
                "vscode": {
                    "languageId": "polyglot-notebook"
                }
            },
            "outputs": [
                {
                    "data": {
                        "text/plain": [
                            "(30 rows affected)"
                        ]
                    },
                    "metadata": {},
                    "output_type": "display_data"
                },
                {
                    "data": {
                        "text/csv": [
                            "IdPedido,FechaPedido,IDCliente,IDEmpleado\r\n",
                            "10555,2020-06-02T16:45:00.0000000,SAVEA,6\r\n",
                            "10556,2020-06-03T13:33:00.0000000,SIMOB,2\r\n",
                            "10557,2020-06-03T13:35:00.0000000,LEHMS,9\r\n",
                            "10558,2020-06-04T16:24:00.0000000,AROUT,1\r\n",
                            "10559,2020-06-05T18:40:00.0000000,BLONP,6\r\n",
                            "10560,2020-06-06T13:17:00.0000000,FRANK,8\r\n",
                            "10561,2020-06-06T12:48:00.0000000,FOLKO,2\r\n",
                            "10562,2020-06-09T16:49:00.0000000,REGGC,1\r\n",
                            "10563,2020-06-10T18:12:00.0000000,RICAR,2\r\n",
                            "10564,2020-06-10T15:26:00.0000000,RATTC,4\r\n",
                            "10565,2020-06-11T18:35:00.0000000,MEREP,8\r\n",
                            "10566,2020-06-12T13:53:00.0000000,BLONP,9\r\n",
                            "10567,2020-06-12T15:17:00.0000000,HUNGO,1\r\n",
                            "10568,2020-06-13T16:32:00.0000000,GALED,3\r\n",
                            "10569,2020-06-16T14:14:00.0000000,RATTC,5\r\n",
                            "10570,2020-06-17T15:24:00.0000000,MEREP,3\r\n",
                            "10571,2020-06-17T15:43:00.0000000,ERNSH,8\r\n",
                            "10572,2020-06-18T12:21:00.0000000,BERGS,3\r\n",
                            "10573,2020-06-19T18:58:00.0000000,ANTON,7\r\n",
                            "10574,2020-06-19T17:17:00.0000000,TRAIH,4\r\n",
                            "10575,2020-06-20T16:27:00.0000000,MORGK,5\r\n",
                            "10576,2020-06-23T16:56:00.0000000,TORTU,3\r\n",
                            "10577,2020-06-23T15:12:00.0000000,TRAIH,9\r\n",
                            "10578,2020-06-24T17:13:00.0000000,BSBEV,4\r\n",
                            "10579,2020-06-25T13:34:00.0000000,LETSS,1\r\n",
                            "10580,2020-06-26T12:32:00.0000000,OTTIK,4\r\n",
                            "10581,2020-06-26T18:58:00.0000000,FAMIA,3\r\n",
                            "10582,2020-06-27T12:18:00.0000000,BLAUS,3\r\n",
                            "10583,2020-06-30T16:38:00.0000000,WARTH,2\r\n",
                            "10584,2020-06-30T18:24:00.0000000,BLONP,4\r\n"
                        ],
                        "text/html": [
                            "<table><thead><tr><td><span>IdPedido</span></td><td><span>FechaPedido</span></td><td><span>IDCliente</span></td><td><span>IDEmpleado</span></td></tr></thead><tbody><tr><td><div class=\"dni-plaintext\"><pre>10555</pre></div></td><td><span>2020-06-02 16:45:00Z</span></td><td>SAVEA</td><td><div class=\"dni-plaintext\"><pre>6</pre></div></td></tr><tr><td><div class=\"dni-plaintext\"><pre>10556</pre></div></td><td><span>2020-06-03 13:33:00Z</span></td><td>SIMOB</td><td><div class=\"dni-plaintext\"><pre>2</pre></div></td></tr><tr><td><div class=\"dni-plaintext\"><pre>10557</pre></div></td><td><span>2020-06-03 13:35:00Z</span></td><td>LEHMS</td><td><div class=\"dni-plaintext\"><pre>9</pre></div></td></tr><tr><td><div class=\"dni-plaintext\"><pre>10558</pre></div></td><td><span>2020-06-04 16:24:00Z</span></td><td>AROUT</td><td><div class=\"dni-plaintext\"><pre>1</pre></div></td></tr><tr><td><div class=\"dni-plaintext\"><pre>10559</pre></div></td><td><span>2020-06-05 18:40:00Z</span></td><td>BLONP</td><td><div class=\"dni-plaintext\"><pre>6</pre></div></td></tr><tr><td><div class=\"dni-plaintext\"><pre>10560</pre></div></td><td><span>2020-06-06 13:17:00Z</span></td><td>FRANK</td><td><div class=\"dni-plaintext\"><pre>8</pre></div></td></tr><tr><td><div class=\"dni-plaintext\"><pre>10561</pre></div></td><td><span>2020-06-06 12:48:00Z</span></td><td>FOLKO</td><td><div class=\"dni-plaintext\"><pre>2</pre></div></td></tr><tr><td><div class=\"dni-plaintext\"><pre>10562</pre></div></td><td><span>2020-06-09 16:49:00Z</span></td><td>REGGC</td><td><div class=\"dni-plaintext\"><pre>1</pre></div></td></tr><tr><td><div class=\"dni-plaintext\"><pre>10563</pre></div></td><td><span>2020-06-10 18:12:00Z</span></td><td>RICAR</td><td><div class=\"dni-plaintext\"><pre>2</pre></div></td></tr><tr><td><div class=\"dni-plaintext\"><pre>10564</pre></div></td><td><span>2020-06-10 15:26:00Z</span></td><td>RATTC</td><td><div class=\"dni-plaintext\"><pre>4</pre></div></td></tr><tr><td><div class=\"dni-plaintext\"><pre>10565</pre></div></td><td><span>2020-06-11 18:35:00Z</span></td><td>MEREP</td><td><div class=\"dni-plaintext\"><pre>8</pre></div></td></tr><tr><td><div class=\"dni-plaintext\"><pre>10566</pre></div></td><td><span>2020-06-12 13:53:00Z</span></td><td>BLONP</td><td><div class=\"dni-plaintext\"><pre>9</pre></div></td></tr><tr><td><div class=\"dni-plaintext\"><pre>10567</pre></div></td><td><span>2020-06-12 15:17:00Z</span></td><td>HUNGO</td><td><div class=\"dni-plaintext\"><pre>1</pre></div></td></tr><tr><td><div class=\"dni-plaintext\"><pre>10568</pre></div></td><td><span>2020-06-13 16:32:00Z</span></td><td>GALED</td><td><div class=\"dni-plaintext\"><pre>3</pre></div></td></tr><tr><td><div class=\"dni-plaintext\"><pre>10569</pre></div></td><td><span>2020-06-16 14:14:00Z</span></td><td>RATTC</td><td><div class=\"dni-plaintext\"><pre>5</pre></div></td></tr><tr><td><div class=\"dni-plaintext\"><pre>10570</pre></div></td><td><span>2020-06-17 15:24:00Z</span></td><td>MEREP</td><td><div class=\"dni-plaintext\"><pre>3</pre></div></td></tr><tr><td><div class=\"dni-plaintext\"><pre>10571</pre></div></td><td><span>2020-06-17 15:43:00Z</span></td><td>ERNSH</td><td><div class=\"dni-plaintext\"><pre>8</pre></div></td></tr><tr><td><div class=\"dni-plaintext\"><pre>10572</pre></div></td><td><span>2020-06-18 12:21:00Z</span></td><td>BERGS</td><td><div class=\"dni-plaintext\"><pre>3</pre></div></td></tr><tr><td><div class=\"dni-plaintext\"><pre>10573</pre></div></td><td><span>2020-06-19 18:58:00Z</span></td><td>ANTON</td><td><div class=\"dni-plaintext\"><pre>7</pre></div></td></tr><tr><td><div class=\"dni-plaintext\"><pre>10574</pre></div></td><td><span>2020-06-19 17:17:00Z</span></td><td>TRAIH</td><td><div class=\"dni-plaintext\"><pre>4</pre></div></td></tr><tr><td colspan=\"4\"><i>(10 more)</i></td></tr></tbody></table><style>\r\n",
                            ".dni-code-hint {\r\n",
                            "    font-style: italic;\r\n",
                            "    overflow: hidden;\r\n",
                            "    white-space: nowrap;\r\n",
                            "}\r\n",
                            ".dni-treeview {\r\n",
                            "    white-space: nowrap;\r\n",
                            "}\r\n",
                            ".dni-treeview td {\r\n",
                            "    vertical-align: top;\r\n",
                            "    text-align: start;\r\n",
                            "}\r\n",
                            "details.dni-treeview {\r\n",
                            "    padding-left: 1em;\r\n",
                            "}\r\n",
                            "table td {\r\n",
                            "    text-align: start;\r\n",
                            "}\r\n",
                            "table tr { \r\n",
                            "    vertical-align: top; \r\n",
                            "    margin: 0em 0px;\r\n",
                            "}\r\n",
                            "table tr td pre \r\n",
                            "{ \r\n",
                            "    vertical-align: top !important; \r\n",
                            "    margin: 0em 0px !important;\r\n",
                            "} \r\n",
                            "table th {\r\n",
                            "    text-align: start;\r\n",
                            "}\r\n",
                            "</style>"
                        ]
                    },
                    "metadata": {},
                    "output_type": "display_data"
                }
            ],
            "source": [
                "USE Pampero;\n",
                "SELECT IdPedido, FechaPedido, IDCliente, IDEmpleado\n",
                "FROM Pedidos\n",
                "WHERE YEAR(FechaPedido) = 2020 AND MONTH(FechaPedido) = 6;"
            ]
        },
        {
            "cell_type": "code",
            "execution_count": 7,
            "metadata": {
                "polyglot_notebook": {
                    "kernelName": "sql-Pampero"
                },
                "vscode": {
                    "languageId": "polyglot-notebook"
                }
            },
            "outputs": [
                {
                    "data": {
                        "text/plain": [
                            "(30 rows affected)"
                        ]
                    },
                    "metadata": {},
                    "output_type": "display_data"
                },
                {
                    "data": {
                        "text/csv": [
                            "IdPedido,FechaPedido,IDCliente,IDEmpleado\r\n",
                            "10555,2020-06-02T16:45:00.0000000,SAVEA,6\r\n",
                            "10556,2020-06-03T13:33:00.0000000,SIMOB,2\r\n",
                            "10557,2020-06-03T13:35:00.0000000,LEHMS,9\r\n",
                            "10558,2020-06-04T16:24:00.0000000,AROUT,1\r\n",
                            "10559,2020-06-05T18:40:00.0000000,BLONP,6\r\n",
                            "10560,2020-06-06T13:17:00.0000000,FRANK,8\r\n",
                            "10561,2020-06-06T12:48:00.0000000,FOLKO,2\r\n",
                            "10562,2020-06-09T16:49:00.0000000,REGGC,1\r\n",
                            "10563,2020-06-10T18:12:00.0000000,RICAR,2\r\n",
                            "10564,2020-06-10T15:26:00.0000000,RATTC,4\r\n",
                            "10565,2020-06-11T18:35:00.0000000,MEREP,8\r\n",
                            "10566,2020-06-12T13:53:00.0000000,BLONP,9\r\n",
                            "10567,2020-06-12T15:17:00.0000000,HUNGO,1\r\n",
                            "10568,2020-06-13T16:32:00.0000000,GALED,3\r\n",
                            "10569,2020-06-16T14:14:00.0000000,RATTC,5\r\n",
                            "10570,2020-06-17T15:24:00.0000000,MEREP,3\r\n",
                            "10571,2020-06-17T15:43:00.0000000,ERNSH,8\r\n",
                            "10572,2020-06-18T12:21:00.0000000,BERGS,3\r\n",
                            "10573,2020-06-19T18:58:00.0000000,ANTON,7\r\n",
                            "10574,2020-06-19T17:17:00.0000000,TRAIH,4\r\n",
                            "10575,2020-06-20T16:27:00.0000000,MORGK,5\r\n",
                            "10576,2020-06-23T16:56:00.0000000,TORTU,3\r\n",
                            "10577,2020-06-23T15:12:00.0000000,TRAIH,9\r\n",
                            "10578,2020-06-24T17:13:00.0000000,BSBEV,4\r\n",
                            "10579,2020-06-25T13:34:00.0000000,LETSS,1\r\n",
                            "10580,2020-06-26T12:32:00.0000000,OTTIK,4\r\n",
                            "10581,2020-06-26T18:58:00.0000000,FAMIA,3\r\n",
                            "10582,2020-06-27T12:18:00.0000000,BLAUS,3\r\n",
                            "10583,2020-06-30T16:38:00.0000000,WARTH,2\r\n",
                            "10584,2020-06-30T18:24:00.0000000,BLONP,4\r\n"
                        ],
                        "text/html": [
                            "<table><thead><tr><td><span>IdPedido</span></td><td><span>FechaPedido</span></td><td><span>IDCliente</span></td><td><span>IDEmpleado</span></td></tr></thead><tbody><tr><td><div class=\"dni-plaintext\"><pre>10555</pre></div></td><td><span>2020-06-02 16:45:00Z</span></td><td>SAVEA</td><td><div class=\"dni-plaintext\"><pre>6</pre></div></td></tr><tr><td><div class=\"dni-plaintext\"><pre>10556</pre></div></td><td><span>2020-06-03 13:33:00Z</span></td><td>SIMOB</td><td><div class=\"dni-plaintext\"><pre>2</pre></div></td></tr><tr><td><div class=\"dni-plaintext\"><pre>10557</pre></div></td><td><span>2020-06-03 13:35:00Z</span></td><td>LEHMS</td><td><div class=\"dni-plaintext\"><pre>9</pre></div></td></tr><tr><td><div class=\"dni-plaintext\"><pre>10558</pre></div></td><td><span>2020-06-04 16:24:00Z</span></td><td>AROUT</td><td><div class=\"dni-plaintext\"><pre>1</pre></div></td></tr><tr><td><div class=\"dni-plaintext\"><pre>10559</pre></div></td><td><span>2020-06-05 18:40:00Z</span></td><td>BLONP</td><td><div class=\"dni-plaintext\"><pre>6</pre></div></td></tr><tr><td><div class=\"dni-plaintext\"><pre>10560</pre></div></td><td><span>2020-06-06 13:17:00Z</span></td><td>FRANK</td><td><div class=\"dni-plaintext\"><pre>8</pre></div></td></tr><tr><td><div class=\"dni-plaintext\"><pre>10561</pre></div></td><td><span>2020-06-06 12:48:00Z</span></td><td>FOLKO</td><td><div class=\"dni-plaintext\"><pre>2</pre></div></td></tr><tr><td><div class=\"dni-plaintext\"><pre>10562</pre></div></td><td><span>2020-06-09 16:49:00Z</span></td><td>REGGC</td><td><div class=\"dni-plaintext\"><pre>1</pre></div></td></tr><tr><td><div class=\"dni-plaintext\"><pre>10563</pre></div></td><td><span>2020-06-10 18:12:00Z</span></td><td>RICAR</td><td><div class=\"dni-plaintext\"><pre>2</pre></div></td></tr><tr><td><div class=\"dni-plaintext\"><pre>10564</pre></div></td><td><span>2020-06-10 15:26:00Z</span></td><td>RATTC</td><td><div class=\"dni-plaintext\"><pre>4</pre></div></td></tr><tr><td><div class=\"dni-plaintext\"><pre>10565</pre></div></td><td><span>2020-06-11 18:35:00Z</span></td><td>MEREP</td><td><div class=\"dni-plaintext\"><pre>8</pre></div></td></tr><tr><td><div class=\"dni-plaintext\"><pre>10566</pre></div></td><td><span>2020-06-12 13:53:00Z</span></td><td>BLONP</td><td><div class=\"dni-plaintext\"><pre>9</pre></div></td></tr><tr><td><div class=\"dni-plaintext\"><pre>10567</pre></div></td><td><span>2020-06-12 15:17:00Z</span></td><td>HUNGO</td><td><div class=\"dni-plaintext\"><pre>1</pre></div></td></tr><tr><td><div class=\"dni-plaintext\"><pre>10568</pre></div></td><td><span>2020-06-13 16:32:00Z</span></td><td>GALED</td><td><div class=\"dni-plaintext\"><pre>3</pre></div></td></tr><tr><td><div class=\"dni-plaintext\"><pre>10569</pre></div></td><td><span>2020-06-16 14:14:00Z</span></td><td>RATTC</td><td><div class=\"dni-plaintext\"><pre>5</pre></div></td></tr><tr><td><div class=\"dni-plaintext\"><pre>10570</pre></div></td><td><span>2020-06-17 15:24:00Z</span></td><td>MEREP</td><td><div class=\"dni-plaintext\"><pre>3</pre></div></td></tr><tr><td><div class=\"dni-plaintext\"><pre>10571</pre></div></td><td><span>2020-06-17 15:43:00Z</span></td><td>ERNSH</td><td><div class=\"dni-plaintext\"><pre>8</pre></div></td></tr><tr><td><div class=\"dni-plaintext\"><pre>10572</pre></div></td><td><span>2020-06-18 12:21:00Z</span></td><td>BERGS</td><td><div class=\"dni-plaintext\"><pre>3</pre></div></td></tr><tr><td><div class=\"dni-plaintext\"><pre>10573</pre></div></td><td><span>2020-06-19 18:58:00Z</span></td><td>ANTON</td><td><div class=\"dni-plaintext\"><pre>7</pre></div></td></tr><tr><td><div class=\"dni-plaintext\"><pre>10574</pre></div></td><td><span>2020-06-19 17:17:00Z</span></td><td>TRAIH</td><td><div class=\"dni-plaintext\"><pre>4</pre></div></td></tr><tr><td colspan=\"4\"><i>(10 more)</i></td></tr></tbody></table><style>\r\n",
                            ".dni-code-hint {\r\n",
                            "    font-style: italic;\r\n",
                            "    overflow: hidden;\r\n",
                            "    white-space: nowrap;\r\n",
                            "}\r\n",
                            ".dni-treeview {\r\n",
                            "    white-space: nowrap;\r\n",
                            "}\r\n",
                            ".dni-treeview td {\r\n",
                            "    vertical-align: top;\r\n",
                            "    text-align: start;\r\n",
                            "}\r\n",
                            "details.dni-treeview {\r\n",
                            "    padding-left: 1em;\r\n",
                            "}\r\n",
                            "table td {\r\n",
                            "    text-align: start;\r\n",
                            "}\r\n",
                            "table tr { \r\n",
                            "    vertical-align: top; \r\n",
                            "    margin: 0em 0px;\r\n",
                            "}\r\n",
                            "table tr td pre \r\n",
                            "{ \r\n",
                            "    vertical-align: top !important; \r\n",
                            "    margin: 0em 0px !important;\r\n",
                            "} \r\n",
                            "table th {\r\n",
                            "    text-align: start;\r\n",
                            "}\r\n",
                            "</style>"
                        ]
                    },
                    "metadata": {},
                    "output_type": "display_data"
                }
            ],
            "source": [
                "SELECT IdPedido, FechaPedido, IDCliente, IDEmpleado\n",
                "FROM Pedidos\n",
                "WHERE FechaPedido >= '20200601'\n",
                "AND FechaPedido < '20200701';"
            ]
        },
        {
            "attachments": {},
            "cell_type": "markdown",
            "metadata": {
                "azdata_cell_guid": "8ce4b3fb-b80f-4cfb-ba4e-d75459a0d91a",
                "language": "sql"
            },
            "source": [
                "2) Consultar de la tabla Pedidos los pedidos realizados el último día del mes."
            ]
        },
        {
            "cell_type": "code",
            "execution_count": 8,
            "metadata": {
                "polyglot_notebook": {
                    "kernelName": "sql-Pampero"
                },
                "vscode": {
                    "languageId": "polyglot-notebook"
                }
            },
            "outputs": [
                {
                    "data": {
                        "text/plain": [
                            "(24 rows affected)"
                        ]
                    },
                    "metadata": {},
                    "output_type": "display_data"
                },
                {
                    "data": {
                        "text/csv": [
                            "IDPedido,FechaPedido,IDCliente,IDEmpleado\r\n",
                            "10269,2019-07-31T13:41:00.0000000,WHITC,5\r\n",
                            "10317,2019-09-30T15:21:00.0000000,LONEP,6\r\n",
                            "10343,2019-10-31T17:57:00.0000000,LEHMS,4\r\n",
                            "10399,2019-12-31T18:35:00.0000000,VAFFE,8\r\n",
                            "10432,2020-01-31T17:22:00.0000000,SPLIR,3\r\n",
                            "10490,2020-03-31T12:22:00.0000000,HILAA,7\r\n",
                            "10491,2020-03-31T14:32:00.0000000,FURIB,8\r\n",
                            "10522,2020-04-30T12:28:00.0000000,LEHMS,4\r\n",
                            "10583,2020-06-30T16:38:00.0000000,WARTH,2\r\n",
                            "10584,2020-06-30T18:24:00.0000000,BLONP,4\r\n",
                            "10616,2020-07-31T16:29:00.0000000,GREAL,1\r\n",
                            "10617,2020-07-31T14:20:00.0000000,GREAL,4\r\n",
                            "10686,2020-09-30T16:28:00.0000000,PICCO,2\r\n",
                            "10687,2020-09-30T16:46:00.0000000,HUNGO,9\r\n",
                            "10725,2020-10-31T14:24:00.0000000,FAMIA,4\r\n",
                            "10806,2020-12-31T15:16:00.0000000,VICTE,3\r\n",
                            "10807,2020-12-31T12:57:00.0000000,FRANS,4\r\n",
                            "10987,2021-03-31T16:48:00.0000000,EASTC,8\r\n",
                            "10988,2021-03-31T17:44:00.0000000,RATTC,3\r\n",
                            "10989,2021-03-31T18:51:00.0000000,QUEDE,2\r\n",
                            "11060,2021-04-30T15:58:00.0000000,FRANS,2\r\n",
                            "11061,2021-04-30T13:37:00.0000000,GREAL,4\r\n",
                            "11062,2021-04-30T13:40:00.0000000,REGGC,4\r\n",
                            "11063,2021-04-30T14:53:00.0000000,HUNGO,3\r\n"
                        ],
                        "text/html": [
                            "<table><thead><tr><td><span>IDPedido</span></td><td><span>FechaPedido</span></td><td><span>IDCliente</span></td><td><span>IDEmpleado</span></td></tr></thead><tbody><tr><td><div class=\"dni-plaintext\"><pre>10269</pre></div></td><td><span>2019-07-31 13:41:00Z</span></td><td>WHITC</td><td><div class=\"dni-plaintext\"><pre>5</pre></div></td></tr><tr><td><div class=\"dni-plaintext\"><pre>10317</pre></div></td><td><span>2019-09-30 15:21:00Z</span></td><td>LONEP</td><td><div class=\"dni-plaintext\"><pre>6</pre></div></td></tr><tr><td><div class=\"dni-plaintext\"><pre>10343</pre></div></td><td><span>2019-10-31 17:57:00Z</span></td><td>LEHMS</td><td><div class=\"dni-plaintext\"><pre>4</pre></div></td></tr><tr><td><div class=\"dni-plaintext\"><pre>10399</pre></div></td><td><span>2019-12-31 18:35:00Z</span></td><td>VAFFE</td><td><div class=\"dni-plaintext\"><pre>8</pre></div></td></tr><tr><td><div class=\"dni-plaintext\"><pre>10432</pre></div></td><td><span>2020-01-31 17:22:00Z</span></td><td>SPLIR</td><td><div class=\"dni-plaintext\"><pre>3</pre></div></td></tr><tr><td><div class=\"dni-plaintext\"><pre>10490</pre></div></td><td><span>2020-03-31 12:22:00Z</span></td><td>HILAA</td><td><div class=\"dni-plaintext\"><pre>7</pre></div></td></tr><tr><td><div class=\"dni-plaintext\"><pre>10491</pre></div></td><td><span>2020-03-31 14:32:00Z</span></td><td>FURIB</td><td><div class=\"dni-plaintext\"><pre>8</pre></div></td></tr><tr><td><div class=\"dni-plaintext\"><pre>10522</pre></div></td><td><span>2020-04-30 12:28:00Z</span></td><td>LEHMS</td><td><div class=\"dni-plaintext\"><pre>4</pre></div></td></tr><tr><td><div class=\"dni-plaintext\"><pre>10583</pre></div></td><td><span>2020-06-30 16:38:00Z</span></td><td>WARTH</td><td><div class=\"dni-plaintext\"><pre>2</pre></div></td></tr><tr><td><div class=\"dni-plaintext\"><pre>10584</pre></div></td><td><span>2020-06-30 18:24:00Z</span></td><td>BLONP</td><td><div class=\"dni-plaintext\"><pre>4</pre></div></td></tr><tr><td><div class=\"dni-plaintext\"><pre>10616</pre></div></td><td><span>2020-07-31 16:29:00Z</span></td><td>GREAL</td><td><div class=\"dni-plaintext\"><pre>1</pre></div></td></tr><tr><td><div class=\"dni-plaintext\"><pre>10617</pre></div></td><td><span>2020-07-31 14:20:00Z</span></td><td>GREAL</td><td><div class=\"dni-plaintext\"><pre>4</pre></div></td></tr><tr><td><div class=\"dni-plaintext\"><pre>10686</pre></div></td><td><span>2020-09-30 16:28:00Z</span></td><td>PICCO</td><td><div class=\"dni-plaintext\"><pre>2</pre></div></td></tr><tr><td><div class=\"dni-plaintext\"><pre>10687</pre></div></td><td><span>2020-09-30 16:46:00Z</span></td><td>HUNGO</td><td><div class=\"dni-plaintext\"><pre>9</pre></div></td></tr><tr><td><div class=\"dni-plaintext\"><pre>10725</pre></div></td><td><span>2020-10-31 14:24:00Z</span></td><td>FAMIA</td><td><div class=\"dni-plaintext\"><pre>4</pre></div></td></tr><tr><td><div class=\"dni-plaintext\"><pre>10806</pre></div></td><td><span>2020-12-31 15:16:00Z</span></td><td>VICTE</td><td><div class=\"dni-plaintext\"><pre>3</pre></div></td></tr><tr><td><div class=\"dni-plaintext\"><pre>10807</pre></div></td><td><span>2020-12-31 12:57:00Z</span></td><td>FRANS</td><td><div class=\"dni-plaintext\"><pre>4</pre></div></td></tr><tr><td><div class=\"dni-plaintext\"><pre>10987</pre></div></td><td><span>2021-03-31 16:48:00Z</span></td><td>EASTC</td><td><div class=\"dni-plaintext\"><pre>8</pre></div></td></tr><tr><td><div class=\"dni-plaintext\"><pre>10988</pre></div></td><td><span>2021-03-31 17:44:00Z</span></td><td>RATTC</td><td><div class=\"dni-plaintext\"><pre>3</pre></div></td></tr><tr><td><div class=\"dni-plaintext\"><pre>10989</pre></div></td><td><span>2021-03-31 18:51:00Z</span></td><td>QUEDE</td><td><div class=\"dni-plaintext\"><pre>2</pre></div></td></tr><tr><td colspan=\"4\"><i>(4 more)</i></td></tr></tbody></table><style>\r\n",
                            ".dni-code-hint {\r\n",
                            "    font-style: italic;\r\n",
                            "    overflow: hidden;\r\n",
                            "    white-space: nowrap;\r\n",
                            "}\r\n",
                            ".dni-treeview {\r\n",
                            "    white-space: nowrap;\r\n",
                            "}\r\n",
                            ".dni-treeview td {\r\n",
                            "    vertical-align: top;\r\n",
                            "    text-align: start;\r\n",
                            "}\r\n",
                            "details.dni-treeview {\r\n",
                            "    padding-left: 1em;\r\n",
                            "}\r\n",
                            "table td {\r\n",
                            "    text-align: start;\r\n",
                            "}\r\n",
                            "table tr { \r\n",
                            "    vertical-align: top; \r\n",
                            "    margin: 0em 0px;\r\n",
                            "}\r\n",
                            "table tr td pre \r\n",
                            "{ \r\n",
                            "    vertical-align: top !important; \r\n",
                            "    margin: 0em 0px !important;\r\n",
                            "} \r\n",
                            "table th {\r\n",
                            "    text-align: start;\r\n",
                            "}\r\n",
                            "</style>"
                        ]
                    },
                    "metadata": {},
                    "output_type": "display_data"
                }
            ],
            "source": [
                "USE Pampero;\n",
                "SELECT IDPedido, FechaPedido, IDCliente, IDEmpleado\n",
                "FROM Pedidos\n",
                "WHERE DAY(FechaPedido) = DAY(EOMONTH(FechaPedido));"
            ]
        },
        {
            "cell_type": "code",
            "execution_count": 9,
            "metadata": {
                "polyglot_notebook": {
                    "kernelName": "sql-Pampero"
                },
                "vscode": {
                    "languageId": "polyglot-notebook"
                }
            },
            "outputs": [
                {
                    "data": {
                        "text/plain": [
                            "(24 rows affected)"
                        ]
                    },
                    "metadata": {},
                    "output_type": "display_data"
                },
                {
                    "data": {
                        "text/csv": [
                            "IDPedido,FechaPedido,IDCliente,IDEmpleado\r\n",
                            "10269,2019-07-31T13:41:00.0000000,WHITC,5\r\n",
                            "10317,2019-09-30T15:21:00.0000000,LONEP,6\r\n",
                            "10343,2019-10-31T17:57:00.0000000,LEHMS,4\r\n",
                            "10399,2019-12-31T18:35:00.0000000,VAFFE,8\r\n",
                            "10432,2020-01-31T17:22:00.0000000,SPLIR,3\r\n",
                            "10490,2020-03-31T12:22:00.0000000,HILAA,7\r\n",
                            "10491,2020-03-31T14:32:00.0000000,FURIB,8\r\n",
                            "10522,2020-04-30T12:28:00.0000000,LEHMS,4\r\n",
                            "10583,2020-06-30T16:38:00.0000000,WARTH,2\r\n",
                            "10584,2020-06-30T18:24:00.0000000,BLONP,4\r\n",
                            "10616,2020-07-31T16:29:00.0000000,GREAL,1\r\n",
                            "10617,2020-07-31T14:20:00.0000000,GREAL,4\r\n",
                            "10686,2020-09-30T16:28:00.0000000,PICCO,2\r\n",
                            "10687,2020-09-30T16:46:00.0000000,HUNGO,9\r\n",
                            "10725,2020-10-31T14:24:00.0000000,FAMIA,4\r\n",
                            "10806,2020-12-31T15:16:00.0000000,VICTE,3\r\n",
                            "10807,2020-12-31T12:57:00.0000000,FRANS,4\r\n",
                            "10987,2021-03-31T16:48:00.0000000,EASTC,8\r\n",
                            "10988,2021-03-31T17:44:00.0000000,RATTC,3\r\n",
                            "10989,2021-03-31T18:51:00.0000000,QUEDE,2\r\n",
                            "11060,2021-04-30T15:58:00.0000000,FRANS,2\r\n",
                            "11061,2021-04-30T13:37:00.0000000,GREAL,4\r\n",
                            "11062,2021-04-30T13:40:00.0000000,REGGC,4\r\n",
                            "11063,2021-04-30T14:53:00.0000000,HUNGO,3\r\n"
                        ],
                        "text/html": [
                            "<table><thead><tr><td><span>IDPedido</span></td><td><span>FechaPedido</span></td><td><span>IDCliente</span></td><td><span>IDEmpleado</span></td></tr></thead><tbody><tr><td><div class=\"dni-plaintext\"><pre>10269</pre></div></td><td><span>2019-07-31 13:41:00Z</span></td><td>WHITC</td><td><div class=\"dni-plaintext\"><pre>5</pre></div></td></tr><tr><td><div class=\"dni-plaintext\"><pre>10317</pre></div></td><td><span>2019-09-30 15:21:00Z</span></td><td>LONEP</td><td><div class=\"dni-plaintext\"><pre>6</pre></div></td></tr><tr><td><div class=\"dni-plaintext\"><pre>10343</pre></div></td><td><span>2019-10-31 17:57:00Z</span></td><td>LEHMS</td><td><div class=\"dni-plaintext\"><pre>4</pre></div></td></tr><tr><td><div class=\"dni-plaintext\"><pre>10399</pre></div></td><td><span>2019-12-31 18:35:00Z</span></td><td>VAFFE</td><td><div class=\"dni-plaintext\"><pre>8</pre></div></td></tr><tr><td><div class=\"dni-plaintext\"><pre>10432</pre></div></td><td><span>2020-01-31 17:22:00Z</span></td><td>SPLIR</td><td><div class=\"dni-plaintext\"><pre>3</pre></div></td></tr><tr><td><div class=\"dni-plaintext\"><pre>10490</pre></div></td><td><span>2020-03-31 12:22:00Z</span></td><td>HILAA</td><td><div class=\"dni-plaintext\"><pre>7</pre></div></td></tr><tr><td><div class=\"dni-plaintext\"><pre>10491</pre></div></td><td><span>2020-03-31 14:32:00Z</span></td><td>FURIB</td><td><div class=\"dni-plaintext\"><pre>8</pre></div></td></tr><tr><td><div class=\"dni-plaintext\"><pre>10522</pre></div></td><td><span>2020-04-30 12:28:00Z</span></td><td>LEHMS</td><td><div class=\"dni-plaintext\"><pre>4</pre></div></td></tr><tr><td><div class=\"dni-plaintext\"><pre>10583</pre></div></td><td><span>2020-06-30 16:38:00Z</span></td><td>WARTH</td><td><div class=\"dni-plaintext\"><pre>2</pre></div></td></tr><tr><td><div class=\"dni-plaintext\"><pre>10584</pre></div></td><td><span>2020-06-30 18:24:00Z</span></td><td>BLONP</td><td><div class=\"dni-plaintext\"><pre>4</pre></div></td></tr><tr><td><div class=\"dni-plaintext\"><pre>10616</pre></div></td><td><span>2020-07-31 16:29:00Z</span></td><td>GREAL</td><td><div class=\"dni-plaintext\"><pre>1</pre></div></td></tr><tr><td><div class=\"dni-plaintext\"><pre>10617</pre></div></td><td><span>2020-07-31 14:20:00Z</span></td><td>GREAL</td><td><div class=\"dni-plaintext\"><pre>4</pre></div></td></tr><tr><td><div class=\"dni-plaintext\"><pre>10686</pre></div></td><td><span>2020-09-30 16:28:00Z</span></td><td>PICCO</td><td><div class=\"dni-plaintext\"><pre>2</pre></div></td></tr><tr><td><div class=\"dni-plaintext\"><pre>10687</pre></div></td><td><span>2020-09-30 16:46:00Z</span></td><td>HUNGO</td><td><div class=\"dni-plaintext\"><pre>9</pre></div></td></tr><tr><td><div class=\"dni-plaintext\"><pre>10725</pre></div></td><td><span>2020-10-31 14:24:00Z</span></td><td>FAMIA</td><td><div class=\"dni-plaintext\"><pre>4</pre></div></td></tr><tr><td><div class=\"dni-plaintext\"><pre>10806</pre></div></td><td><span>2020-12-31 15:16:00Z</span></td><td>VICTE</td><td><div class=\"dni-plaintext\"><pre>3</pre></div></td></tr><tr><td><div class=\"dni-plaintext\"><pre>10807</pre></div></td><td><span>2020-12-31 12:57:00Z</span></td><td>FRANS</td><td><div class=\"dni-plaintext\"><pre>4</pre></div></td></tr><tr><td><div class=\"dni-plaintext\"><pre>10987</pre></div></td><td><span>2021-03-31 16:48:00Z</span></td><td>EASTC</td><td><div class=\"dni-plaintext\"><pre>8</pre></div></td></tr><tr><td><div class=\"dni-plaintext\"><pre>10988</pre></div></td><td><span>2021-03-31 17:44:00Z</span></td><td>RATTC</td><td><div class=\"dni-plaintext\"><pre>3</pre></div></td></tr><tr><td><div class=\"dni-plaintext\"><pre>10989</pre></div></td><td><span>2021-03-31 18:51:00Z</span></td><td>QUEDE</td><td><div class=\"dni-plaintext\"><pre>2</pre></div></td></tr><tr><td colspan=\"4\"><i>(4 more)</i></td></tr></tbody></table><style>\r\n",
                            ".dni-code-hint {\r\n",
                            "    font-style: italic;\r\n",
                            "    overflow: hidden;\r\n",
                            "    white-space: nowrap;\r\n",
                            "}\r\n",
                            ".dni-treeview {\r\n",
                            "    white-space: nowrap;\r\n",
                            "}\r\n",
                            ".dni-treeview td {\r\n",
                            "    vertical-align: top;\r\n",
                            "    text-align: start;\r\n",
                            "}\r\n",
                            "details.dni-treeview {\r\n",
                            "    padding-left: 1em;\r\n",
                            "}\r\n",
                            "table td {\r\n",
                            "    text-align: start;\r\n",
                            "}\r\n",
                            "table tr { \r\n",
                            "    vertical-align: top; \r\n",
                            "    margin: 0em 0px;\r\n",
                            "}\r\n",
                            "table tr td pre \r\n",
                            "{ \r\n",
                            "    vertical-align: top !important; \r\n",
                            "    margin: 0em 0px !important;\r\n",
                            "} \r\n",
                            "table th {\r\n",
                            "    text-align: start;\r\n",
                            "}\r\n",
                            "</style>"
                        ]
                    },
                    "metadata": {},
                    "output_type": "display_data"
                }
            ],
            "source": [
                "SELECT IDPedido, FechaPedido, IDCliente, IDEmpleado\n",
                "FROM Pedidos\n",
                "WHERE DAY(FechaPedido) = DAY(DATEADD(day, -1, DATEADD(month, DATEDIFF(month, 0, FechaPedido) + 1, 0)));"
            ]
        },
        {
            "attachments": {},
            "cell_type": "markdown",
            "metadata": {
                "azdata_cell_guid": "d46749a9-3328-4548-a8f5-c2f5c628868a",
                "language": "sql"
            },
            "source": [
                "3) Consultar de la tabla Pedidos los pedidos realizados el día anterior al último día del mes."
            ]
        },
        {
            "cell_type": "code",
            "execution_count": 10,
            "metadata": {
                "polyglot_notebook": {
                    "kernelName": "sql-Pampero"
                },
                "vscode": {
                    "languageId": "polyglot-notebook"
                }
            },
            "outputs": [
                {
                    "data": {
                        "text/plain": [
                            "(31 rows affected)"
                        ]
                    },
                    "metadata": {},
                    "output_type": "display_data"
                },
                {
                    "data": {
                        "text/csv": [
                            "IDPedido,FechaPedido,IDCliente,IDEmpleado\r\n",
                            "10268,2019-07-30T17:30:00.0000000,GROSR,8\r\n",
                            "10294,2019-08-30T14:19:00.0000000,RATTC,4\r\n",
                            "10342,2019-10-30T16:47:00.0000000,FRANK,4\r\n",
                            "10368,2019-11-29T15:15:00.0000000,ERNSH,2\r\n",
                            "10398,2019-12-30T16:49:00.0000000,SAVEA,2\r\n",
                            "10430,2020-01-30T13:40:00.0000000,ERNSH,4\r\n",
                            "10431,2020-01-30T17:54:00.0000000,BOTTM,4\r\n",
                            "10460,2020-02-28T13:36:00.0000000,FOLKO,8\r\n",
                            "10461,2020-02-28T15:36:00.0000000,LILAS,1\r\n",
                            "10520,2020-04-29T13:55:00.0000000,SANTG,7\r\n",
                            "10521,2020-04-29T12:19:00.0000000,CACTU,8\r\n",
                            "10553,2020-05-30T18:40:00.0000000,WARTH,2\r\n",
                            "10554,2020-05-30T15:28:00.0000000,OTTIK,4\r\n",
                            "10615,2020-07-30T13:20:00.0000000,WILMK,2\r\n",
                            "10685,2020-09-29T16:48:00.0000000,GOURL,4\r\n",
                            "10723,2020-10-30T16:17:00.0000000,WHITC,3\r\n",
                            "10724,2020-10-30T14:17:00.0000000,MEREP,8\r\n",
                            "10803,2020-12-30T12:36:00.0000000,WELLI,4\r\n",
                            "10804,2020-12-30T18:25:00.0000000,SEVES,6\r\n",
                            "10805,2020-12-30T12:14:00.0000000,THEBI,2\r\n",
                            "10861,2021-01-30T16:22:00.0000000,WHITC,4\r\n",
                            "10862,2021-01-30T13:20:00.0000000,LEHMS,8\r\n",
                            "10914,2021-02-27T14:18:00.0000000,QUEEN,6\r\n",
                            "10915,2021-02-27T18:39:00.0000000,TORTU,2\r\n",
                            "10916,2021-02-27T18:10:00.0000000,RANCH,1\r\n",
                            "10984,2021-03-30T18:39:00.0000000,SAVEA,1\r\n",
                            "10985,2021-03-30T18:21:00.0000000,HUNGO,2\r\n",
                            "10986,2021-03-30T13:42:00.0000000,OCEAN,8\r\n",
                            "11057,2021-04-29T13:51:00.0000000,NORTS,3\r\n",
                            "11058,2021-04-29T16:42:00.0000000,BLAUS,9\r\n",
                            "11059,2021-04-29T15:31:00.0000000,RICAR,2\r\n"
                        ],
                        "text/html": [
                            "<table><thead><tr><td><span>IDPedido</span></td><td><span>FechaPedido</span></td><td><span>IDCliente</span></td><td><span>IDEmpleado</span></td></tr></thead><tbody><tr><td><div class=\"dni-plaintext\"><pre>10268</pre></div></td><td><span>2019-07-30 17:30:00Z</span></td><td>GROSR</td><td><div class=\"dni-plaintext\"><pre>8</pre></div></td></tr><tr><td><div class=\"dni-plaintext\"><pre>10294</pre></div></td><td><span>2019-08-30 14:19:00Z</span></td><td>RATTC</td><td><div class=\"dni-plaintext\"><pre>4</pre></div></td></tr><tr><td><div class=\"dni-plaintext\"><pre>10342</pre></div></td><td><span>2019-10-30 16:47:00Z</span></td><td>FRANK</td><td><div class=\"dni-plaintext\"><pre>4</pre></div></td></tr><tr><td><div class=\"dni-plaintext\"><pre>10368</pre></div></td><td><span>2019-11-29 15:15:00Z</span></td><td>ERNSH</td><td><div class=\"dni-plaintext\"><pre>2</pre></div></td></tr><tr><td><div class=\"dni-plaintext\"><pre>10398</pre></div></td><td><span>2019-12-30 16:49:00Z</span></td><td>SAVEA</td><td><div class=\"dni-plaintext\"><pre>2</pre></div></td></tr><tr><td><div class=\"dni-plaintext\"><pre>10430</pre></div></td><td><span>2020-01-30 13:40:00Z</span></td><td>ERNSH</td><td><div class=\"dni-plaintext\"><pre>4</pre></div></td></tr><tr><td><div class=\"dni-plaintext\"><pre>10431</pre></div></td><td><span>2020-01-30 17:54:00Z</span></td><td>BOTTM</td><td><div class=\"dni-plaintext\"><pre>4</pre></div></td></tr><tr><td><div class=\"dni-plaintext\"><pre>10460</pre></div></td><td><span>2020-02-28 13:36:00Z</span></td><td>FOLKO</td><td><div class=\"dni-plaintext\"><pre>8</pre></div></td></tr><tr><td><div class=\"dni-plaintext\"><pre>10461</pre></div></td><td><span>2020-02-28 15:36:00Z</span></td><td>LILAS</td><td><div class=\"dni-plaintext\"><pre>1</pre></div></td></tr><tr><td><div class=\"dni-plaintext\"><pre>10520</pre></div></td><td><span>2020-04-29 13:55:00Z</span></td><td>SANTG</td><td><div class=\"dni-plaintext\"><pre>7</pre></div></td></tr><tr><td><div class=\"dni-plaintext\"><pre>10521</pre></div></td><td><span>2020-04-29 12:19:00Z</span></td><td>CACTU</td><td><div class=\"dni-plaintext\"><pre>8</pre></div></td></tr><tr><td><div class=\"dni-plaintext\"><pre>10553</pre></div></td><td><span>2020-05-30 18:40:00Z</span></td><td>WARTH</td><td><div class=\"dni-plaintext\"><pre>2</pre></div></td></tr><tr><td><div class=\"dni-plaintext\"><pre>10554</pre></div></td><td><span>2020-05-30 15:28:00Z</span></td><td>OTTIK</td><td><div class=\"dni-plaintext\"><pre>4</pre></div></td></tr><tr><td><div class=\"dni-plaintext\"><pre>10615</pre></div></td><td><span>2020-07-30 13:20:00Z</span></td><td>WILMK</td><td><div class=\"dni-plaintext\"><pre>2</pre></div></td></tr><tr><td><div class=\"dni-plaintext\"><pre>10685</pre></div></td><td><span>2020-09-29 16:48:00Z</span></td><td>GOURL</td><td><div class=\"dni-plaintext\"><pre>4</pre></div></td></tr><tr><td><div class=\"dni-plaintext\"><pre>10723</pre></div></td><td><span>2020-10-30 16:17:00Z</span></td><td>WHITC</td><td><div class=\"dni-plaintext\"><pre>3</pre></div></td></tr><tr><td><div class=\"dni-plaintext\"><pre>10724</pre></div></td><td><span>2020-10-30 14:17:00Z</span></td><td>MEREP</td><td><div class=\"dni-plaintext\"><pre>8</pre></div></td></tr><tr><td><div class=\"dni-plaintext\"><pre>10803</pre></div></td><td><span>2020-12-30 12:36:00Z</span></td><td>WELLI</td><td><div class=\"dni-plaintext\"><pre>4</pre></div></td></tr><tr><td><div class=\"dni-plaintext\"><pre>10804</pre></div></td><td><span>2020-12-30 18:25:00Z</span></td><td>SEVES</td><td><div class=\"dni-plaintext\"><pre>6</pre></div></td></tr><tr><td><div class=\"dni-plaintext\"><pre>10805</pre></div></td><td><span>2020-12-30 12:14:00Z</span></td><td>THEBI</td><td><div class=\"dni-plaintext\"><pre>2</pre></div></td></tr><tr><td colspan=\"4\"><i>(11 more)</i></td></tr></tbody></table><style>\r\n",
                            ".dni-code-hint {\r\n",
                            "    font-style: italic;\r\n",
                            "    overflow: hidden;\r\n",
                            "    white-space: nowrap;\r\n",
                            "}\r\n",
                            ".dni-treeview {\r\n",
                            "    white-space: nowrap;\r\n",
                            "}\r\n",
                            ".dni-treeview td {\r\n",
                            "    vertical-align: top;\r\n",
                            "    text-align: start;\r\n",
                            "}\r\n",
                            "details.dni-treeview {\r\n",
                            "    padding-left: 1em;\r\n",
                            "}\r\n",
                            "table td {\r\n",
                            "    text-align: start;\r\n",
                            "}\r\n",
                            "table tr { \r\n",
                            "    vertical-align: top; \r\n",
                            "    margin: 0em 0px;\r\n",
                            "}\r\n",
                            "table tr td pre \r\n",
                            "{ \r\n",
                            "    vertical-align: top !important; \r\n",
                            "    margin: 0em 0px !important;\r\n",
                            "} \r\n",
                            "table th {\r\n",
                            "    text-align: start;\r\n",
                            "}\r\n",
                            "</style>"
                        ]
                    },
                    "metadata": {},
                    "output_type": "display_data"
                }
            ],
            "source": [
                "USE Pampero;\n",
                "SELECT IDPedido, FechaPedido, IDCliente, IDEmpleado\n",
                "FROM Pedidos\n",
                "WHERE DAY(FechaPedido) = DAY(EOMONTH(FechaPedido))-1;"
            ]
        },
        {
            "cell_type": "code",
            "execution_count": 11,
            "metadata": {
                "polyglot_notebook": {
                    "kernelName": "sql-Pampero"
                },
                "vscode": {
                    "languageId": "polyglot-notebook"
                }
            },
            "outputs": [
                {
                    "data": {
                        "text/plain": [
                            "(31 rows affected)"
                        ]
                    },
                    "metadata": {},
                    "output_type": "display_data"
                },
                {
                    "data": {
                        "text/csv": [
                            "IDPedido,FechaPedido,IDCliente,IDEmpleado\r\n",
                            "10268,2019-07-30T17:30:00.0000000,GROSR,8\r\n",
                            "10294,2019-08-30T14:19:00.0000000,RATTC,4\r\n",
                            "10342,2019-10-30T16:47:00.0000000,FRANK,4\r\n",
                            "10368,2019-11-29T15:15:00.0000000,ERNSH,2\r\n",
                            "10398,2019-12-30T16:49:00.0000000,SAVEA,2\r\n",
                            "10430,2020-01-30T13:40:00.0000000,ERNSH,4\r\n",
                            "10431,2020-01-30T17:54:00.0000000,BOTTM,4\r\n",
                            "10460,2020-02-28T13:36:00.0000000,FOLKO,8\r\n",
                            "10461,2020-02-28T15:36:00.0000000,LILAS,1\r\n",
                            "10520,2020-04-29T13:55:00.0000000,SANTG,7\r\n",
                            "10521,2020-04-29T12:19:00.0000000,CACTU,8\r\n",
                            "10553,2020-05-30T18:40:00.0000000,WARTH,2\r\n",
                            "10554,2020-05-30T15:28:00.0000000,OTTIK,4\r\n",
                            "10615,2020-07-30T13:20:00.0000000,WILMK,2\r\n",
                            "10685,2020-09-29T16:48:00.0000000,GOURL,4\r\n",
                            "10723,2020-10-30T16:17:00.0000000,WHITC,3\r\n",
                            "10724,2020-10-30T14:17:00.0000000,MEREP,8\r\n",
                            "10803,2020-12-30T12:36:00.0000000,WELLI,4\r\n",
                            "10804,2020-12-30T18:25:00.0000000,SEVES,6\r\n",
                            "10805,2020-12-30T12:14:00.0000000,THEBI,2\r\n",
                            "10861,2021-01-30T16:22:00.0000000,WHITC,4\r\n",
                            "10862,2021-01-30T13:20:00.0000000,LEHMS,8\r\n",
                            "10914,2021-02-27T14:18:00.0000000,QUEEN,6\r\n",
                            "10915,2021-02-27T18:39:00.0000000,TORTU,2\r\n",
                            "10916,2021-02-27T18:10:00.0000000,RANCH,1\r\n",
                            "10984,2021-03-30T18:39:00.0000000,SAVEA,1\r\n",
                            "10985,2021-03-30T18:21:00.0000000,HUNGO,2\r\n",
                            "10986,2021-03-30T13:42:00.0000000,OCEAN,8\r\n",
                            "11057,2021-04-29T13:51:00.0000000,NORTS,3\r\n",
                            "11058,2021-04-29T16:42:00.0000000,BLAUS,9\r\n",
                            "11059,2021-04-29T15:31:00.0000000,RICAR,2\r\n"
                        ],
                        "text/html": [
                            "<table><thead><tr><td><span>IDPedido</span></td><td><span>FechaPedido</span></td><td><span>IDCliente</span></td><td><span>IDEmpleado</span></td></tr></thead><tbody><tr><td><div class=\"dni-plaintext\"><pre>10268</pre></div></td><td><span>2019-07-30 17:30:00Z</span></td><td>GROSR</td><td><div class=\"dni-plaintext\"><pre>8</pre></div></td></tr><tr><td><div class=\"dni-plaintext\"><pre>10294</pre></div></td><td><span>2019-08-30 14:19:00Z</span></td><td>RATTC</td><td><div class=\"dni-plaintext\"><pre>4</pre></div></td></tr><tr><td><div class=\"dni-plaintext\"><pre>10342</pre></div></td><td><span>2019-10-30 16:47:00Z</span></td><td>FRANK</td><td><div class=\"dni-plaintext\"><pre>4</pre></div></td></tr><tr><td><div class=\"dni-plaintext\"><pre>10368</pre></div></td><td><span>2019-11-29 15:15:00Z</span></td><td>ERNSH</td><td><div class=\"dni-plaintext\"><pre>2</pre></div></td></tr><tr><td><div class=\"dni-plaintext\"><pre>10398</pre></div></td><td><span>2019-12-30 16:49:00Z</span></td><td>SAVEA</td><td><div class=\"dni-plaintext\"><pre>2</pre></div></td></tr><tr><td><div class=\"dni-plaintext\"><pre>10430</pre></div></td><td><span>2020-01-30 13:40:00Z</span></td><td>ERNSH</td><td><div class=\"dni-plaintext\"><pre>4</pre></div></td></tr><tr><td><div class=\"dni-plaintext\"><pre>10431</pre></div></td><td><span>2020-01-30 17:54:00Z</span></td><td>BOTTM</td><td><div class=\"dni-plaintext\"><pre>4</pre></div></td></tr><tr><td><div class=\"dni-plaintext\"><pre>10460</pre></div></td><td><span>2020-02-28 13:36:00Z</span></td><td>FOLKO</td><td><div class=\"dni-plaintext\"><pre>8</pre></div></td></tr><tr><td><div class=\"dni-plaintext\"><pre>10461</pre></div></td><td><span>2020-02-28 15:36:00Z</span></td><td>LILAS</td><td><div class=\"dni-plaintext\"><pre>1</pre></div></td></tr><tr><td><div class=\"dni-plaintext\"><pre>10520</pre></div></td><td><span>2020-04-29 13:55:00Z</span></td><td>SANTG</td><td><div class=\"dni-plaintext\"><pre>7</pre></div></td></tr><tr><td><div class=\"dni-plaintext\"><pre>10521</pre></div></td><td><span>2020-04-29 12:19:00Z</span></td><td>CACTU</td><td><div class=\"dni-plaintext\"><pre>8</pre></div></td></tr><tr><td><div class=\"dni-plaintext\"><pre>10553</pre></div></td><td><span>2020-05-30 18:40:00Z</span></td><td>WARTH</td><td><div class=\"dni-plaintext\"><pre>2</pre></div></td></tr><tr><td><div class=\"dni-plaintext\"><pre>10554</pre></div></td><td><span>2020-05-30 15:28:00Z</span></td><td>OTTIK</td><td><div class=\"dni-plaintext\"><pre>4</pre></div></td></tr><tr><td><div class=\"dni-plaintext\"><pre>10615</pre></div></td><td><span>2020-07-30 13:20:00Z</span></td><td>WILMK</td><td><div class=\"dni-plaintext\"><pre>2</pre></div></td></tr><tr><td><div class=\"dni-plaintext\"><pre>10685</pre></div></td><td><span>2020-09-29 16:48:00Z</span></td><td>GOURL</td><td><div class=\"dni-plaintext\"><pre>4</pre></div></td></tr><tr><td><div class=\"dni-plaintext\"><pre>10723</pre></div></td><td><span>2020-10-30 16:17:00Z</span></td><td>WHITC</td><td><div class=\"dni-plaintext\"><pre>3</pre></div></td></tr><tr><td><div class=\"dni-plaintext\"><pre>10724</pre></div></td><td><span>2020-10-30 14:17:00Z</span></td><td>MEREP</td><td><div class=\"dni-plaintext\"><pre>8</pre></div></td></tr><tr><td><div class=\"dni-plaintext\"><pre>10803</pre></div></td><td><span>2020-12-30 12:36:00Z</span></td><td>WELLI</td><td><div class=\"dni-plaintext\"><pre>4</pre></div></td></tr><tr><td><div class=\"dni-plaintext\"><pre>10804</pre></div></td><td><span>2020-12-30 18:25:00Z</span></td><td>SEVES</td><td><div class=\"dni-plaintext\"><pre>6</pre></div></td></tr><tr><td><div class=\"dni-plaintext\"><pre>10805</pre></div></td><td><span>2020-12-30 12:14:00Z</span></td><td>THEBI</td><td><div class=\"dni-plaintext\"><pre>2</pre></div></td></tr><tr><td colspan=\"4\"><i>(11 more)</i></td></tr></tbody></table><style>\r\n",
                            ".dni-code-hint {\r\n",
                            "    font-style: italic;\r\n",
                            "    overflow: hidden;\r\n",
                            "    white-space: nowrap;\r\n",
                            "}\r\n",
                            ".dni-treeview {\r\n",
                            "    white-space: nowrap;\r\n",
                            "}\r\n",
                            ".dni-treeview td {\r\n",
                            "    vertical-align: top;\r\n",
                            "    text-align: start;\r\n",
                            "}\r\n",
                            "details.dni-treeview {\r\n",
                            "    padding-left: 1em;\r\n",
                            "}\r\n",
                            "table td {\r\n",
                            "    text-align: start;\r\n",
                            "}\r\n",
                            "table tr { \r\n",
                            "    vertical-align: top; \r\n",
                            "    margin: 0em 0px;\r\n",
                            "}\r\n",
                            "table tr td pre \r\n",
                            "{ \r\n",
                            "    vertical-align: top !important; \r\n",
                            "    margin: 0em 0px !important;\r\n",
                            "} \r\n",
                            "table th {\r\n",
                            "    text-align: start;\r\n",
                            "}\r\n",
                            "</style>"
                        ]
                    },
                    "metadata": {},
                    "output_type": "display_data"
                }
            ],
            "source": [
                "SELECT IDPedido, FechaPedido, IDCliente, IDEmpleado\n",
                "FROM Pedidos\n",
                "WHERE DAY(FechaPedido) = DAY(DATEADD(day, -2, DATEADD(month, DATEDIFF(month, 0, FechaPedido) + 1, 0)));"
            ]
        },
        {
            "attachments": {},
            "cell_type": "markdown",
            "metadata": {
                "azdata_cell_guid": "f43cb2b6-f658-4383-9ba6-a80ba28c864e",
                "language": "sql"
            },
            "source": [
                "4) Consultar de la tabla Empleados los empleados cuyo apellido contenga al menos dos letras “e”."
            ]
        },
        {
            "cell_type": "code",
            "execution_count": 12,
            "metadata": {
                "polyglot_notebook": {
                    "kernelName": "sql-Pampero"
                },
                "vscode": {
                    "languageId": "polyglot-notebook"
                }
            },
            "outputs": [
                {
                    "data": {
                        "text/plain": [
                            "(1 row affected)"
                        ]
                    },
                    "metadata": {},
                    "output_type": "display_data"
                },
                {
                    "data": {
                        "text/csv": [
                            "IDEmpleado,Nombre,Apellido\r\n",
                            "3,Janet,Leverling\r\n"
                        ],
                        "text/html": [
                            "<table><thead><tr><td><span>IDEmpleado</span></td><td><span>Nombre</span></td><td><span>Apellido</span></td></tr></thead><tbody><tr><td><div class=\"dni-plaintext\"><pre>3</pre></div></td><td>Janet</td><td>Leverling</td></tr></tbody></table><style>\r\n",
                            ".dni-code-hint {\r\n",
                            "    font-style: italic;\r\n",
                            "    overflow: hidden;\r\n",
                            "    white-space: nowrap;\r\n",
                            "}\r\n",
                            ".dni-treeview {\r\n",
                            "    white-space: nowrap;\r\n",
                            "}\r\n",
                            ".dni-treeview td {\r\n",
                            "    vertical-align: top;\r\n",
                            "    text-align: start;\r\n",
                            "}\r\n",
                            "details.dni-treeview {\r\n",
                            "    padding-left: 1em;\r\n",
                            "}\r\n",
                            "table td {\r\n",
                            "    text-align: start;\r\n",
                            "}\r\n",
                            "table tr { \r\n",
                            "    vertical-align: top; \r\n",
                            "    margin: 0em 0px;\r\n",
                            "}\r\n",
                            "table tr td pre \r\n",
                            "{ \r\n",
                            "    vertical-align: top !important; \r\n",
                            "    margin: 0em 0px !important;\r\n",
                            "} \r\n",
                            "table th {\r\n",
                            "    text-align: start;\r\n",
                            "}\r\n",
                            "</style>"
                        ]
                    },
                    "metadata": {},
                    "output_type": "display_data"
                }
            ],
            "source": [
                "USE Pampero;\n",
                "SELECT IDEmpleado, Nombre, Apellido\n",
                "FROM Empleados\n",
                "WHERE Apellido LIKE '%e%e%';"
            ]
        },
        {
            "attachments": {},
            "cell_type": "markdown",
            "metadata": {
                "azdata_cell_guid": "77a5327c-c38d-4e82-b367-d42d3713fe0b",
                "language": "sql"
            },
            "source": [
                "5) De la tabla Detalles Pedido listar para cada pedido (IDPedido) y su valor total (cantidad x preciounitario), pero mostrando solo aquellos pedidos para los que el total supere los 10.000, y ordenados por este valor total de mayor a menor."
            ]
        },
        {
            "cell_type": "code",
            "execution_count": 13,
            "metadata": {
                "polyglot_notebook": {
                    "kernelName": "sql-Pampero"
                },
                "vscode": {
                    "languageId": "polyglot-notebook"
                }
            },
            "outputs": [
                {
                    "data": {
                        "text/plain": [
                            "(14 rows affected)"
                        ]
                    },
                    "metadata": {},
                    "output_type": "display_data"
                },
                {
                    "data": {
                        "text/csv": [
                            "IDPedido,valortotal\r\n",
                            "10865,17250.0000\r\n",
                            "11030,16321.9000\r\n",
                            "10981,15810.0000\r\n",
                            "10372,12281.2000\r\n",
                            "10424,11493.2000\r\n",
                            "10817,11490.7000\r\n",
                            "10889,11380.0000\r\n",
                            "10417,11283.2000\r\n",
                            "10897,10835.2400\r\n",
                            "10353,10741.6000\r\n",
                            "10515,10588.5000\r\n",
                            "10479,10495.6000\r\n",
                            "10540,10191.7000\r\n",
                            "10691,10164.8000\r\n"
                        ],
                        "text/html": [
                            "<table><thead><tr><td><span>IDPedido</span></td><td><span>valortotal</span></td></tr></thead><tbody><tr><td><div class=\"dni-plaintext\"><pre>10865</pre></div></td><td><div class=\"dni-plaintext\"><pre>17250.0000</pre></div></td></tr><tr><td><div class=\"dni-plaintext\"><pre>11030</pre></div></td><td><div class=\"dni-plaintext\"><pre>16321.9000</pre></div></td></tr><tr><td><div class=\"dni-plaintext\"><pre>10981</pre></div></td><td><div class=\"dni-plaintext\"><pre>15810.0000</pre></div></td></tr><tr><td><div class=\"dni-plaintext\"><pre>10372</pre></div></td><td><div class=\"dni-plaintext\"><pre>12281.2000</pre></div></td></tr><tr><td><div class=\"dni-plaintext\"><pre>10424</pre></div></td><td><div class=\"dni-plaintext\"><pre>11493.2000</pre></div></td></tr><tr><td><div class=\"dni-plaintext\"><pre>10817</pre></div></td><td><div class=\"dni-plaintext\"><pre>11490.7000</pre></div></td></tr><tr><td><div class=\"dni-plaintext\"><pre>10889</pre></div></td><td><div class=\"dni-plaintext\"><pre>11380.0000</pre></div></td></tr><tr><td><div class=\"dni-plaintext\"><pre>10417</pre></div></td><td><div class=\"dni-plaintext\"><pre>11283.2000</pre></div></td></tr><tr><td><div class=\"dni-plaintext\"><pre>10897</pre></div></td><td><div class=\"dni-plaintext\"><pre>10835.2400</pre></div></td></tr><tr><td><div class=\"dni-plaintext\"><pre>10353</pre></div></td><td><div class=\"dni-plaintext\"><pre>10741.6000</pre></div></td></tr><tr><td><div class=\"dni-plaintext\"><pre>10515</pre></div></td><td><div class=\"dni-plaintext\"><pre>10588.5000</pre></div></td></tr><tr><td><div class=\"dni-plaintext\"><pre>10479</pre></div></td><td><div class=\"dni-plaintext\"><pre>10495.6000</pre></div></td></tr><tr><td><div class=\"dni-plaintext\"><pre>10540</pre></div></td><td><div class=\"dni-plaintext\"><pre>10191.7000</pre></div></td></tr><tr><td><div class=\"dni-plaintext\"><pre>10691</pre></div></td><td><div class=\"dni-plaintext\"><pre>10164.8000</pre></div></td></tr></tbody></table><style>\r\n",
                            ".dni-code-hint {\r\n",
                            "    font-style: italic;\r\n",
                            "    overflow: hidden;\r\n",
                            "    white-space: nowrap;\r\n",
                            "}\r\n",
                            ".dni-treeview {\r\n",
                            "    white-space: nowrap;\r\n",
                            "}\r\n",
                            ".dni-treeview td {\r\n",
                            "    vertical-align: top;\r\n",
                            "    text-align: start;\r\n",
                            "}\r\n",
                            "details.dni-treeview {\r\n",
                            "    padding-left: 1em;\r\n",
                            "}\r\n",
                            "table td {\r\n",
                            "    text-align: start;\r\n",
                            "}\r\n",
                            "table tr { \r\n",
                            "    vertical-align: top; \r\n",
                            "    margin: 0em 0px;\r\n",
                            "}\r\n",
                            "table tr td pre \r\n",
                            "{ \r\n",
                            "    vertical-align: top !important; \r\n",
                            "    margin: 0em 0px !important;\r\n",
                            "} \r\n",
                            "table th {\r\n",
                            "    text-align: start;\r\n",
                            "}\r\n",
                            "</style>"
                        ]
                    },
                    "metadata": {},
                    "output_type": "display_data"
                }
            ],
            "source": [
                "USE Pampero;\n",
                "SELECT IDPedido, SUM(Cantidad*PrecioUnitario) AS valortotal\n",
                "FROM [Detalles Pedido]\n",
                "GROUP BY IDPedido\n",
                "HAVING SUM(Cantidad*PrecioUnitario) > 10000\n",
                "ORDER BY valortotal DESC;"
            ]
        },
        {
            "attachments": {},
            "cell_type": "markdown",
            "metadata": {
                "azdata_cell_guid": "99eeb7ec-302f-439b-ba16-969628d324c5",
                "language": "sql"
            },
            "source": [
                "6) Para realizar una validación de datos, se necesita realizar una consulta sobre la tabla Empleados, que liste los empleados cuyo apellido comience con una letra minúscula (considere que el cotejo de la base es Latin1_General_CI_AS)."
            ]
        },
        {
            "cell_type": "code",
            "execution_count": 14,
            "metadata": {
                "polyglot_notebook": {
                    "kernelName": "sql-Pampero"
                },
                "vscode": {
                    "languageId": "polyglot-notebook"
                }
            },
            "outputs": [
                {
                    "data": {
                        "text/plain": [
                            "(0 rows affected)"
                        ]
                    },
                    "metadata": {},
                    "output_type": "display_data"
                },
                {
                    "data": {
                        "text/plain": [
                            "Info: No rows were returned for query 0 in batch 0."
                        ]
                    },
                    "metadata": {},
                    "output_type": "display_data"
                }
            ],
            "source": [
                "USE Pampero;\n",
                "SELECT IDEmpleado, Apellido\n",
                "FROM Empleados\n",
                "WHERE Apellido COLLATE Latin1_General_CS_AS LIKE N'[abcdefghijklmnopqrstuvwxyz]%';"
            ]
        },
        {
            "cell_type": "code",
            "execution_count": 15,
            "metadata": {
                "polyglot_notebook": {
                    "kernelName": "sql-Pampero"
                },
                "vscode": {
                    "languageId": "polyglot-notebook"
                }
            },
            "outputs": [
                {
                    "data": {
                        "text/plain": [
                            "(0 rows affected)"
                        ]
                    },
                    "metadata": {},
                    "output_type": "display_data"
                },
                {
                    "data": {
                        "text/plain": [
                            "Info: No rows were returned for query 0 in batch 0."
                        ]
                    },
                    "metadata": {},
                    "output_type": "display_data"
                }
            ],
            "source": [
                "SELECT IDEmpleado, Apellido\n",
                "FROM Empleados\n",
                "WHERE Apellido COLLATE Latin1_General_BIN LIKE N'[a-z]%';"
            ]
        },
        {
            "attachments": {},
            "cell_type": "markdown",
            "metadata": {
                "azdata_cell_guid": "d542c938-8cac-4717-ad9f-4297da836752",
                "language": "sql"
            },
            "source": [
                "8) Escribir una consulta contra la tabla Pedidos que devuelva los tres países (PaisEnvio) con el costo promedio de flete más alto durante 2020."
            ]
        },
        {
            "cell_type": "code",
            "execution_count": 16,
            "metadata": {
                "polyglot_notebook": {
                    "kernelName": "sql-Pampero"
                },
                "vscode": {
                    "languageId": "polyglot-notebook"
                }
            },
            "outputs": [
                {
                    "data": {
                        "text/plain": [
                            "(3 rows affected)"
                        ]
                    },
                    "metadata": {},
                    "output_type": "display_data"
                },
                {
                    "data": {
                        "text/csv": [
                            "PaisEnvio,fletepromedio\r\n",
                            "Austria,178.364285\r\n",
                            "Suiza,117.177500\r\n",
                            "Suecia,105.160000\r\n"
                        ],
                        "text/html": [
                            "<table><thead><tr><td><span>PaisEnvio</span></td><td><span>fletepromedio</span></td></tr></thead><tbody><tr><td>Austria</td><td><div class=\"dni-plaintext\"><pre>178.364285</pre></div></td></tr><tr><td>Suiza</td><td><div class=\"dni-plaintext\"><pre>117.177500</pre></div></td></tr><tr><td>Suecia</td><td><div class=\"dni-plaintext\"><pre>105.160000</pre></div></td></tr></tbody></table><style>\r\n",
                            ".dni-code-hint {\r\n",
                            "    font-style: italic;\r\n",
                            "    overflow: hidden;\r\n",
                            "    white-space: nowrap;\r\n",
                            "}\r\n",
                            ".dni-treeview {\r\n",
                            "    white-space: nowrap;\r\n",
                            "}\r\n",
                            ".dni-treeview td {\r\n",
                            "    vertical-align: top;\r\n",
                            "    text-align: start;\r\n",
                            "}\r\n",
                            "details.dni-treeview {\r\n",
                            "    padding-left: 1em;\r\n",
                            "}\r\n",
                            "table td {\r\n",
                            "    text-align: start;\r\n",
                            "}\r\n",
                            "table tr { \r\n",
                            "    vertical-align: top; \r\n",
                            "    margin: 0em 0px;\r\n",
                            "}\r\n",
                            "table tr td pre \r\n",
                            "{ \r\n",
                            "    vertical-align: top !important; \r\n",
                            "    margin: 0em 0px !important;\r\n",
                            "} \r\n",
                            "table th {\r\n",
                            "    text-align: start;\r\n",
                            "}\r\n",
                            "</style>"
                        ]
                    },
                    "metadata": {},
                    "output_type": "display_data"
                }
            ],
            "source": [
                "USE Pampero;\n",
                "SELECT TOP (3) PaisEnvio, AVG(Flete) AS fletepromedio\n",
                "FROM Pedidos\n",
                "WHERE FechaPedido >= '20200101' AND FechaPedido < '20210101'\n",
                "GROUP BY PaisEnvio\n",
                "ORDER BY fletepromedio DESC;"
            ]
        },
        {
            "attachments": {},
            "cell_type": "markdown",
            "metadata": {
                "azdata_cell_guid": "227c6106-f741-4690-b180-afa6a2cb2e34",
                "language": "sql"
            },
            "source": [
                "9) Ídem consulta anterior, pero sin utilizar TOP."
            ]
        },
        {
            "cell_type": "code",
            "execution_count": 17,
            "metadata": {
                "polyglot_notebook": {
                    "kernelName": "sql-Pampero"
                },
                "vscode": {
                    "languageId": "polyglot-notebook"
                }
            },
            "outputs": [
                {
                    "data": {
                        "text/plain": [
                            "(3 rows affected)"
                        ]
                    },
                    "metadata": {},
                    "output_type": "display_data"
                },
                {
                    "data": {
                        "text/csv": [
                            "PaisEnvio,fletepromedio\r\n",
                            "Austria,178.364285\r\n",
                            "Suiza,117.177500\r\n",
                            "Suecia,105.160000\r\n"
                        ],
                        "text/html": [
                            "<table><thead><tr><td><span>PaisEnvio</span></td><td><span>fletepromedio</span></td></tr></thead><tbody><tr><td>Austria</td><td><div class=\"dni-plaintext\"><pre>178.364285</pre></div></td></tr><tr><td>Suiza</td><td><div class=\"dni-plaintext\"><pre>117.177500</pre></div></td></tr><tr><td>Suecia</td><td><div class=\"dni-plaintext\"><pre>105.160000</pre></div></td></tr></tbody></table><style>\r\n",
                            ".dni-code-hint {\r\n",
                            "    font-style: italic;\r\n",
                            "    overflow: hidden;\r\n",
                            "    white-space: nowrap;\r\n",
                            "}\r\n",
                            ".dni-treeview {\r\n",
                            "    white-space: nowrap;\r\n",
                            "}\r\n",
                            ".dni-treeview td {\r\n",
                            "    vertical-align: top;\r\n",
                            "    text-align: start;\r\n",
                            "}\r\n",
                            "details.dni-treeview {\r\n",
                            "    padding-left: 1em;\r\n",
                            "}\r\n",
                            "table td {\r\n",
                            "    text-align: start;\r\n",
                            "}\r\n",
                            "table tr { \r\n",
                            "    vertical-align: top; \r\n",
                            "    margin: 0em 0px;\r\n",
                            "}\r\n",
                            "table tr td pre \r\n",
                            "{ \r\n",
                            "    vertical-align: top !important; \r\n",
                            "    margin: 0em 0px !important;\r\n",
                            "} \r\n",
                            "table th {\r\n",
                            "    text-align: start;\r\n",
                            "}\r\n",
                            "</style>"
                        ]
                    },
                    "metadata": {},
                    "output_type": "display_data"
                }
            ],
            "source": [
                "USE Pampero;\n",
                "SELECT PaisEnvio, AVG(Flete) AS fletepromedio\n",
                "FROM Pedidos\n",
                "WHERE FechaPedido >= '20200101' AND FechaPedido < '20210101'\n",
                "GROUP BY PaisEnvio\n",
                "ORDER BY fletepromedio DESC\n",
                "OFFSET 0 ROWS FETCH NEXT 3 ROWS ONLY;"
            ]
        },
        {
            "attachments": {},
            "cell_type": "markdown",
            "metadata": {
                "azdata_cell_guid": "ecdde7cd-e399-47e9-8384-4b709e9e845e",
                "language": "sql"
            },
            "source": [
                "10) Usando la tabla Empleados, escribir una consulta que devuelva los siguientes campos: IDEmpleado, Nombre, Apellido, Saludo y Sexo. Sexo no es un campo de la tabla, es un valor que deberán devolver basado en el campo Saludo. Si saludo es “Srta.” o “Sra.” devolver “Femenino”, si es “Sr.” devolver “Masculino”, en otros casos, devolver “Desconocido”"
            ]
        },
        {
            "cell_type": "code",
            "execution_count": 18,
            "metadata": {
                "polyglot_notebook": {
                    "kernelName": "sql-Pampero"
                },
                "vscode": {
                    "languageId": "polyglot-notebook"
                }
            },
            "outputs": [
                {
                    "data": {
                        "text/plain": [
                            "(9 rows affected)"
                        ]
                    },
                    "metadata": {},
                    "output_type": "display_data"
                },
                {
                    "data": {
                        "text/csv": [
                            "IDEmpleado,Nombre,Apellido,Saludo,Sexo\r\n",
                            "1,Nancy,Davolio,Srta.,Femenino\r\n",
                            "2,Andrew,Fuller,Dr.,Desconocido\r\n",
                            "3,Janet,Leverling,Srta.,Femenino\r\n",
                            "4,Margaret,Peacock,Sra.,Femenino\r\n",
                            "5,Steven,Buchanan,Sr.,Masculino\r\n",
                            "6,Michael,Suyama,Sr.,Masculino\r\n",
                            "7,Robert,King,Sr.,Masculino\r\n",
                            "8,Laura,Callahan,Srta.,Femenino\r\n",
                            "9,Anne,Dodsworth,Srta.,Femenino\r\n"
                        ],
                        "text/html": [
                            "<table><thead><tr><td><span>IDEmpleado</span></td><td><span>Nombre</span></td><td><span>Apellido</span></td><td><span>Saludo</span></td><td><span>Sexo</span></td></tr></thead><tbody><tr><td><div class=\"dni-plaintext\"><pre>1</pre></div></td><td>Nancy</td><td>Davolio</td><td>Srta.</td><td>Femenino</td></tr><tr><td><div class=\"dni-plaintext\"><pre>2</pre></div></td><td>Andrew</td><td>Fuller</td><td>Dr.</td><td>Desconocido</td></tr><tr><td><div class=\"dni-plaintext\"><pre>3</pre></div></td><td>Janet</td><td>Leverling</td><td>Srta.</td><td>Femenino</td></tr><tr><td><div class=\"dni-plaintext\"><pre>4</pre></div></td><td>Margaret</td><td>Peacock</td><td>Sra.</td><td>Femenino</td></tr><tr><td><div class=\"dni-plaintext\"><pre>5</pre></div></td><td>Steven</td><td>Buchanan</td><td>Sr.</td><td>Masculino</td></tr><tr><td><div class=\"dni-plaintext\"><pre>6</pre></div></td><td>Michael</td><td>Suyama</td><td>Sr.</td><td>Masculino</td></tr><tr><td><div class=\"dni-plaintext\"><pre>7</pre></div></td><td>Robert</td><td>King</td><td>Sr.</td><td>Masculino</td></tr><tr><td><div class=\"dni-plaintext\"><pre>8</pre></div></td><td>Laura</td><td>Callahan</td><td>Srta.</td><td>Femenino</td></tr><tr><td><div class=\"dni-plaintext\"><pre>9</pre></div></td><td>Anne</td><td>Dodsworth</td><td>Srta.</td><td>Femenino</td></tr></tbody></table><style>\r\n",
                            ".dni-code-hint {\r\n",
                            "    font-style: italic;\r\n",
                            "    overflow: hidden;\r\n",
                            "    white-space: nowrap;\r\n",
                            "}\r\n",
                            ".dni-treeview {\r\n",
                            "    white-space: nowrap;\r\n",
                            "}\r\n",
                            ".dni-treeview td {\r\n",
                            "    vertical-align: top;\r\n",
                            "    text-align: start;\r\n",
                            "}\r\n",
                            "details.dni-treeview {\r\n",
                            "    padding-left: 1em;\r\n",
                            "}\r\n",
                            "table td {\r\n",
                            "    text-align: start;\r\n",
                            "}\r\n",
                            "table tr { \r\n",
                            "    vertical-align: top; \r\n",
                            "    margin: 0em 0px;\r\n",
                            "}\r\n",
                            "table tr td pre \r\n",
                            "{ \r\n",
                            "    vertical-align: top !important; \r\n",
                            "    margin: 0em 0px !important;\r\n",
                            "} \r\n",
                            "table th {\r\n",
                            "    text-align: start;\r\n",
                            "}\r\n",
                            "</style>"
                        ]
                    },
                    "metadata": {},
                    "output_type": "display_data"
                }
            ],
            "source": [
                "USE Pampero;\n",
                "SELECT IDEmpleado, Nombre, Apellido, Saludo, \n",
                "CASE Saludo\n",
                "WHEN 'Srta.' THEN 'Femenino'\n",
                "WHEN 'Sra.' THEN 'Femenino'\n",
                "WHEN 'Sr.' THEN 'Masculino'\n",
                "ELSE 'Desconocido'\n",
                "END AS Sexo\n",
                "FROM Empleados;"
            ]
        },
        {
            "attachments": {},
            "cell_type": "markdown",
            "metadata": {
                "azdata_cell_guid": "bd5accde-673b-4649-bb20-8b43781ea404",
                "language": "sql"
            },
            "source": [
                "11) Escribir una consulta a la tabla Clientes que devuelva para cada cliente su id (IDCliente) y la región. El resultado debe estar ordenado por región, pero aquellas filas que tengan NULL en el campo región deben quedar al final del listado (no al principio, como quedarían por default)."
            ]
        },
        {
            "cell_type": "code",
            "execution_count": 19,
            "metadata": {
                "polyglot_notebook": {
                    "kernelName": "sql-Pampero"
                },
                "vscode": {
                    "languageId": "polyglot-notebook"
                }
            },
            "outputs": [
                {
                    "data": {
                        "text/plain": [
                            "(91 rows affected)"
                        ]
                    },
                    "metadata": {},
                    "output_type": "display_data"
                },
                {
                    "data": {
                        "text/csv": [
                            "IDCliente,Region\r\n",
                            "OLDWO,AK\r\n",
                            "BOTTM,BC\r\n",
                            "LAUGB,BC\r\n",
                            "LETSS,CA\r\n",
                            "HUNGO,\"Co. Cork\"\r\n",
                            "GROSR,DF\r\n",
                            "SAVEA,ID\r\n",
                            "ISLAT,\"Isle of Wight\"\r\n",
                            "LILAS,Lara\r\n",
                            "THECR,MT\r\n",
                            "RATTC,NM\r\n",
                            "LINOD,\"Nueva Esparta\"\r\n",
                            "GREAL,OR\r\n",
                            "HUNGC,OR\r\n",
                            "LONEP,OR\r\n",
                            "THEBI,OR\r\n",
                            "MEREP,Québec\r\n",
                            "HANAR,RJ\r\n",
                            "QUEDE,RJ\r\n",
                            "RICAR,RJ\r\n",
                            "COMMI,SP\r\n",
                            "FAMIA,SP\r\n",
                            "GOURL,SP\r\n",
                            "QUEEN,SP\r\n",
                            "TRADH,SP\r\n",
                            "WELLI,SP\r\n",
                            "HILAA,Táchira\r\n",
                            "LAZYK,WA\r\n",
                            "TRAIH,WA\r\n",
                            "WHITC,WA\r\n",
                            "SPLIR,WY\r\n",
                            "ALFKI,\r\n",
                            "ANATR,\r\n",
                            "ANTON,\r\n",
                            "AROUT,\r\n",
                            "BERGS,\r\n",
                            "BLAUS,\r\n",
                            "BLONP,\r\n",
                            "BOLID,\r\n",
                            "BONAP,\r\n",
                            "BSBEV,\r\n",
                            "CACTU,\r\n",
                            "CENTC,\r\n",
                            "CONSH,\r\n",
                            "CHOPS,\r\n",
                            "DRACD,\r\n",
                            "DUMON,\r\n",
                            "EASTC,\r\n",
                            "ERNSH,\r\n",
                            "FISSA,\r\n",
                            "FOLIG,\r\n",
                            "FOLKO,\r\n",
                            "FRANK,\r\n",
                            "FRANR,\r\n",
                            "FRANS,\r\n",
                            "FURIB,\r\n",
                            "GALED,\r\n",
                            "GODOS,\r\n",
                            "KOENE,\r\n",
                            "LACOR,\r\n",
                            "LAMAI,\r\n",
                            "LEHMS,\r\n",
                            "MAGAA,\r\n",
                            "MAISD,\r\n",
                            "MORGK,\r\n",
                            "NORTS,\r\n",
                            "OCEAN,\r\n",
                            "OTTIK,\r\n",
                            "PARIS,\r\n",
                            "PERIC,\r\n",
                            "PICCO,\r\n",
                            "PRINI,\r\n",
                            "QUICK,\r\n",
                            "RANCH,\r\n",
                            "REGGC,\r\n",
                            "RICSU,\r\n",
                            "ROMEY,\r\n",
                            "SANTG,\r\n",
                            "SEVES,\r\n",
                            "SIMOB,\r\n",
                            "SPECD,\r\n",
                            "SUPRD,\r\n",
                            "TOMSP,\r\n",
                            "TORTU,\r\n",
                            "VAFFE,\r\n",
                            "VICTE,\r\n",
                            "VINET,\r\n",
                            "WANDK,\r\n",
                            "WARTH,\r\n",
                            "WILMK,\r\n",
                            "WOLZA,\r\n"
                        ],
                        "text/html": [
                            "<table><thead><tr><td><span>IDCliente</span></td><td><span>Region</span></td></tr></thead><tbody><tr><td>OLDWO</td><td>AK</td></tr><tr><td>BOTTM</td><td>BC</td></tr><tr><td>LAUGB</td><td>BC</td></tr><tr><td>LETSS</td><td>CA</td></tr><tr><td>HUNGO</td><td>Co. Cork</td></tr><tr><td>GROSR</td><td>DF</td></tr><tr><td>SAVEA</td><td>ID</td></tr><tr><td>ISLAT</td><td>Isle of Wight</td></tr><tr><td>LILAS</td><td>Lara</td></tr><tr><td>THECR</td><td>MT</td></tr><tr><td>RATTC</td><td>NM</td></tr><tr><td>LINOD</td><td>Nueva Esparta</td></tr><tr><td>GREAL</td><td>OR</td></tr><tr><td>HUNGC</td><td>OR</td></tr><tr><td>LONEP</td><td>OR</td></tr><tr><td>THEBI</td><td>OR</td></tr><tr><td>MEREP</td><td>Qu&#233;bec</td></tr><tr><td>HANAR</td><td>RJ</td></tr><tr><td>QUEDE</td><td>RJ</td></tr><tr><td>RICAR</td><td>RJ</td></tr><tr><td colspan=\"2\"><i>(71 more)</i></td></tr></tbody></table><style>\r\n",
                            ".dni-code-hint {\r\n",
                            "    font-style: italic;\r\n",
                            "    overflow: hidden;\r\n",
                            "    white-space: nowrap;\r\n",
                            "}\r\n",
                            ".dni-treeview {\r\n",
                            "    white-space: nowrap;\r\n",
                            "}\r\n",
                            ".dni-treeview td {\r\n",
                            "    vertical-align: top;\r\n",
                            "    text-align: start;\r\n",
                            "}\r\n",
                            "details.dni-treeview {\r\n",
                            "    padding-left: 1em;\r\n",
                            "}\r\n",
                            "table td {\r\n",
                            "    text-align: start;\r\n",
                            "}\r\n",
                            "table tr { \r\n",
                            "    vertical-align: top; \r\n",
                            "    margin: 0em 0px;\r\n",
                            "}\r\n",
                            "table tr td pre \r\n",
                            "{ \r\n",
                            "    vertical-align: top !important; \r\n",
                            "    margin: 0em 0px !important;\r\n",
                            "} \r\n",
                            "table th {\r\n",
                            "    text-align: start;\r\n",
                            "}\r\n",
                            "</style>"
                        ]
                    },
                    "metadata": {},
                    "output_type": "display_data"
                }
            ],
            "source": [
                "USE Pampero;\n",
                "SELECT IDCliente, Region\n",
                "FROM Clientes\n",
                "ORDER BY\n",
                "CASE WHEN Region IS NULL THEN 1 ELSE 0 END, Region;"
            ]
        },
        {
            "attachments": {},
            "cell_type": "markdown",
            "metadata": {
                "azdata_cell_guid": "f61f430b-250f-43b0-9305-59ca08ec8e49",
                "language": "sql"
            },
            "source": [
                "12) Calcule su diferencia de edad en días con cada empleado de la tabla Empleados. Ordenar de mayor a menor diferencia."
            ]
        },
        {
            "cell_type": "code",
            "execution_count": 20,
            "metadata": {
                "polyglot_notebook": {
                    "kernelName": "sql-Pampero"
                },
                "vscode": {
                    "languageId": "polyglot-notebook"
                }
            },
            "outputs": [
                {
                    "data": {
                        "text/plain": [
                            "(9 rows affected)"
                        ]
                    },
                    "metadata": {},
                    "output_type": "display_data"
                },
                {
                    "data": {
                        "text/csv": [
                            "IDEmpleado,Apellido,FechaNacimiento,DiasDif\r\n",
                            "4,Peacock,1960-09-19T00:00:00.0000000,5324\r\n",
                            "9,Dodsworth,1989-01-27T00:00:00.0000000,5033\r\n",
                            "3,Leverling,1986-08-30T00:00:00.0000000,4152\r\n",
                            "6,Suyama,1986-07-02T00:00:00.0000000,4093\r\n",
                            "7,King,1983-05-29T00:00:00.0000000,2963\r\n",
                            "8,Callahan,1981-01-09T00:00:00.0000000,2093\r\n",
                            "1,Davolio,1971-12-08T00:00:00.0000000,1227\r\n",
                            "5,Buchanan,1978-03-04T00:00:00.0000000,1051\r\n",
                            "2,Fuller,1975-02-19T00:00:00.0000000,58\r\n"
                        ],
                        "text/html": [
                            "<table><thead><tr><td><span>IDEmpleado</span></td><td><span>Apellido</span></td><td><span>FechaNacimiento</span></td><td><span>DiasDif</span></td></tr></thead><tbody><tr><td><div class=\"dni-plaintext\"><pre>4</pre></div></td><td>Peacock</td><td><span>1960-09-19 00:00:00Z</span></td><td><div class=\"dni-plaintext\"><pre>5324</pre></div></td></tr><tr><td><div class=\"dni-plaintext\"><pre>9</pre></div></td><td>Dodsworth</td><td><span>1989-01-27 00:00:00Z</span></td><td><div class=\"dni-plaintext\"><pre>5033</pre></div></td></tr><tr><td><div class=\"dni-plaintext\"><pre>3</pre></div></td><td>Leverling</td><td><span>1986-08-30 00:00:00Z</span></td><td><div class=\"dni-plaintext\"><pre>4152</pre></div></td></tr><tr><td><div class=\"dni-plaintext\"><pre>6</pre></div></td><td>Suyama</td><td><span>1986-07-02 00:00:00Z</span></td><td><div class=\"dni-plaintext\"><pre>4093</pre></div></td></tr><tr><td><div class=\"dni-plaintext\"><pre>7</pre></div></td><td>King</td><td><span>1983-05-29 00:00:00Z</span></td><td><div class=\"dni-plaintext\"><pre>2963</pre></div></td></tr><tr><td><div class=\"dni-plaintext\"><pre>8</pre></div></td><td>Callahan</td><td><span>1981-01-09 00:00:00Z</span></td><td><div class=\"dni-plaintext\"><pre>2093</pre></div></td></tr><tr><td><div class=\"dni-plaintext\"><pre>1</pre></div></td><td>Davolio</td><td><span>1971-12-08 00:00:00Z</span></td><td><div class=\"dni-plaintext\"><pre>1227</pre></div></td></tr><tr><td><div class=\"dni-plaintext\"><pre>5</pre></div></td><td>Buchanan</td><td><span>1978-03-04 00:00:00Z</span></td><td><div class=\"dni-plaintext\"><pre>1051</pre></div></td></tr><tr><td><div class=\"dni-plaintext\"><pre>2</pre></div></td><td>Fuller</td><td><span>1975-02-19 00:00:00Z</span></td><td><div class=\"dni-plaintext\"><pre>58</pre></div></td></tr></tbody></table><style>\r\n",
                            ".dni-code-hint {\r\n",
                            "    font-style: italic;\r\n",
                            "    overflow: hidden;\r\n",
                            "    white-space: nowrap;\r\n",
                            "}\r\n",
                            ".dni-treeview {\r\n",
                            "    white-space: nowrap;\r\n",
                            "}\r\n",
                            ".dni-treeview td {\r\n",
                            "    vertical-align: top;\r\n",
                            "    text-align: start;\r\n",
                            "}\r\n",
                            "details.dni-treeview {\r\n",
                            "    padding-left: 1em;\r\n",
                            "}\r\n",
                            "table td {\r\n",
                            "    text-align: start;\r\n",
                            "}\r\n",
                            "table tr { \r\n",
                            "    vertical-align: top; \r\n",
                            "    margin: 0em 0px;\r\n",
                            "}\r\n",
                            "table tr td pre \r\n",
                            "{ \r\n",
                            "    vertical-align: top !important; \r\n",
                            "    margin: 0em 0px !important;\r\n",
                            "} \r\n",
                            "table th {\r\n",
                            "    text-align: start;\r\n",
                            "}\r\n",
                            "</style>"
                        ]
                    },
                    "metadata": {},
                    "output_type": "display_data"
                }
            ],
            "source": [
                "USE Pampero;\n",
                "SELECT IDEmpleado, Apellido, FechaNacimiento, ABS(DATEDIFF(day,'19750418',FechaNacimiento)) AS DiasDif\n",
                "FROM Empleados\n",
                "ORDER BY DiasDif DESC;"
            ]
        },
        {
            "attachments": {},
            "cell_type": "markdown",
            "metadata": {
                "azdata_cell_guid": "5f8ddce0-2816-407b-8919-0d7a5f6e665e",
                "language": "sql"
            },
            "source": [
                "13. Mostrar la edad actual de los empleados en años, meses, días, horas y minutos. Resultado esperado (los números pueden dar diferentes de acuerdo con el momento en que se ejecute la consulta):"
            ]
        },
        {
            "cell_type": "code",
            "execution_count": 21,
            "metadata": {
                "polyglot_notebook": {
                    "kernelName": "sql-Pampero"
                },
                "vscode": {
                    "languageId": "polyglot-notebook"
                }
            },
            "outputs": [
                {
                    "data": {
                        "text/plain": [
                            "(9 rows affected)"
                        ]
                    },
                    "metadata": {},
                    "output_type": "display_data"
                },
                {
                    "data": {
                        "text/csv": [
                            "IDEmpleado,Apellido,FechaNacimiento,EdadAnios,EdadMeses,EdadDias,EdadHoras,EdadMinutos\r\n",
                            "1,Davolio,1971-12-08T00:00:00.0000000,54,641,19529,468719,28123154\r\n",
                            "2,Fuller,1975-02-19T00:00:00.0000000,50,603,18360,440663,26439794\r\n",
                            "3,Leverling,1986-08-30T00:00:00.0000000,39,465,14150,339623,20377394\r\n",
                            "4,Peacock,1960-09-19T00:00:00.0000000,65,776,23626,567047,34022834\r\n",
                            "5,Buchanan,1978-03-04T00:00:00.0000000,47,566,17251,414047,24842834\r\n",
                            "6,Suyama,1986-07-02T00:00:00.0000000,39,466,14209,341039,20462354\r\n",
                            "7,King,1983-05-29T00:00:00.0000000,42,504,15339,368159,22089554\r\n",
                            "8,Callahan,1981-01-09T00:00:00.0000000,44,532,16209,389039,23342354\r\n",
                            "9,Dodsworth,1989-01-27T00:00:00.0000000,36,436,13269,318479,19108754\r\n"
                        ],
                        "text/html": [
                            "<table><thead><tr><td><span>IDEmpleado</span></td><td><span>Apellido</span></td><td><span>FechaNacimiento</span></td><td><span>EdadAnios</span></td><td><span>EdadMeses</span></td><td><span>EdadDias</span></td><td><span>EdadHoras</span></td><td><span>EdadMinutos</span></td></tr></thead><tbody><tr><td><div class=\"dni-plaintext\"><pre>1</pre></div></td><td>Davolio</td><td><span>1971-12-08 00:00:00Z</span></td><td><div class=\"dni-plaintext\"><pre>54</pre></div></td><td><div class=\"dni-plaintext\"><pre>641</pre></div></td><td><div class=\"dni-plaintext\"><pre>19529</pre></div></td><td><div class=\"dni-plaintext\"><pre>468719</pre></div></td><td><div class=\"dni-plaintext\"><pre>28123154</pre></div></td></tr><tr><td><div class=\"dni-plaintext\"><pre>2</pre></div></td><td>Fuller</td><td><span>1975-02-19 00:00:00Z</span></td><td><div class=\"dni-plaintext\"><pre>50</pre></div></td><td><div class=\"dni-plaintext\"><pre>603</pre></div></td><td><div class=\"dni-plaintext\"><pre>18360</pre></div></td><td><div class=\"dni-plaintext\"><pre>440663</pre></div></td><td><div class=\"dni-plaintext\"><pre>26439794</pre></div></td></tr><tr><td><div class=\"dni-plaintext\"><pre>3</pre></div></td><td>Leverling</td><td><span>1986-08-30 00:00:00Z</span></td><td><div class=\"dni-plaintext\"><pre>39</pre></div></td><td><div class=\"dni-plaintext\"><pre>465</pre></div></td><td><div class=\"dni-plaintext\"><pre>14150</pre></div></td><td><div class=\"dni-plaintext\"><pre>339623</pre></div></td><td><div class=\"dni-plaintext\"><pre>20377394</pre></div></td></tr><tr><td><div class=\"dni-plaintext\"><pre>4</pre></div></td><td>Peacock</td><td><span>1960-09-19 00:00:00Z</span></td><td><div class=\"dni-plaintext\"><pre>65</pre></div></td><td><div class=\"dni-plaintext\"><pre>776</pre></div></td><td><div class=\"dni-plaintext\"><pre>23626</pre></div></td><td><div class=\"dni-plaintext\"><pre>567047</pre></div></td><td><div class=\"dni-plaintext\"><pre>34022834</pre></div></td></tr><tr><td><div class=\"dni-plaintext\"><pre>5</pre></div></td><td>Buchanan</td><td><span>1978-03-04 00:00:00Z</span></td><td><div class=\"dni-plaintext\"><pre>47</pre></div></td><td><div class=\"dni-plaintext\"><pre>566</pre></div></td><td><div class=\"dni-plaintext\"><pre>17251</pre></div></td><td><div class=\"dni-plaintext\"><pre>414047</pre></div></td><td><div class=\"dni-plaintext\"><pre>24842834</pre></div></td></tr><tr><td><div class=\"dni-plaintext\"><pre>6</pre></div></td><td>Suyama</td><td><span>1986-07-02 00:00:00Z</span></td><td><div class=\"dni-plaintext\"><pre>39</pre></div></td><td><div class=\"dni-plaintext\"><pre>466</pre></div></td><td><div class=\"dni-plaintext\"><pre>14209</pre></div></td><td><div class=\"dni-plaintext\"><pre>341039</pre></div></td><td><div class=\"dni-plaintext\"><pre>20462354</pre></div></td></tr><tr><td><div class=\"dni-plaintext\"><pre>7</pre></div></td><td>King</td><td><span>1983-05-29 00:00:00Z</span></td><td><div class=\"dni-plaintext\"><pre>42</pre></div></td><td><div class=\"dni-plaintext\"><pre>504</pre></div></td><td><div class=\"dni-plaintext\"><pre>15339</pre></div></td><td><div class=\"dni-plaintext\"><pre>368159</pre></div></td><td><div class=\"dni-plaintext\"><pre>22089554</pre></div></td></tr><tr><td><div class=\"dni-plaintext\"><pre>8</pre></div></td><td>Callahan</td><td><span>1981-01-09 00:00:00Z</span></td><td><div class=\"dni-plaintext\"><pre>44</pre></div></td><td><div class=\"dni-plaintext\"><pre>532</pre></div></td><td><div class=\"dni-plaintext\"><pre>16209</pre></div></td><td><div class=\"dni-plaintext\"><pre>389039</pre></div></td><td><div class=\"dni-plaintext\"><pre>23342354</pre></div></td></tr><tr><td><div class=\"dni-plaintext\"><pre>9</pre></div></td><td>Dodsworth</td><td><span>1989-01-27 00:00:00Z</span></td><td><div class=\"dni-plaintext\"><pre>36</pre></div></td><td><div class=\"dni-plaintext\"><pre>436</pre></div></td><td><div class=\"dni-plaintext\"><pre>13269</pre></div></td><td><div class=\"dni-plaintext\"><pre>318479</pre></div></td><td><div class=\"dni-plaintext\"><pre>19108754</pre></div></td></tr></tbody></table><style>\r\n",
                            ".dni-code-hint {\r\n",
                            "    font-style: italic;\r\n",
                            "    overflow: hidden;\r\n",
                            "    white-space: nowrap;\r\n",
                            "}\r\n",
                            ".dni-treeview {\r\n",
                            "    white-space: nowrap;\r\n",
                            "}\r\n",
                            ".dni-treeview td {\r\n",
                            "    vertical-align: top;\r\n",
                            "    text-align: start;\r\n",
                            "}\r\n",
                            "details.dni-treeview {\r\n",
                            "    padding-left: 1em;\r\n",
                            "}\r\n",
                            "table td {\r\n",
                            "    text-align: start;\r\n",
                            "}\r\n",
                            "table tr { \r\n",
                            "    vertical-align: top; \r\n",
                            "    margin: 0em 0px;\r\n",
                            "}\r\n",
                            "table tr td pre \r\n",
                            "{ \r\n",
                            "    vertical-align: top !important; \r\n",
                            "    margin: 0em 0px !important;\r\n",
                            "} \r\n",
                            "table th {\r\n",
                            "    text-align: start;\r\n",
                            "}\r\n",
                            "</style>"
                        ]
                    },
                    "metadata": {},
                    "output_type": "display_data"
                }
            ],
            "source": [
                "USE Pampero;\n",
                "SELECT IDEmpleado, Apellido, FechaNacimiento, DATEDIFF(year,FechaNacimiento,GETDATE()) AS EdadAnios,\n",
                "DATEDIFF(MONTH,FechaNacimiento,GETDATE()) AS EdadMeses,\n",
                "DATEDIFF(DAY,FechaNacimiento,GETDATE()) AS EdadDias,\n",
                "DATEDIFF(HOUR,FechaNacimiento,GETDATE()) AS EdadHoras,\n",
                "DATEDIFF(MINUTE,FechaNacimiento,GETDATE()) AS EdadMinutos\n",
                "FROM Empleados;"
            ]
        },
        {
            "attachments": {},
            "cell_type": "markdown",
            "metadata": {
                "azdata_cell_guid": "fa8a7079-c4ce-46ab-b56b-235b34ff5e01",
                "language": "sql"
            },
            "source": [
                "14) ¿Cuántos pedidos fueron despachados fuera de término?"
            ]
        },
        {
            "cell_type": "code",
            "execution_count": 22,
            "metadata": {
                "polyglot_notebook": {
                    "kernelName": "sql-Pampero"
                },
                "vscode": {
                    "languageId": "polyglot-notebook"
                }
            },
            "outputs": [
                {
                    "data": {
                        "text/plain": [
                            "(1 row affected)"
                        ]
                    },
                    "metadata": {},
                    "output_type": "display_data"
                },
                {
                    "data": {
                        "text/csv": [
                            "CantFT\r\n",
                            "58\r\n"
                        ],
                        "text/html": [
                            "<table><thead><tr><td><span>CantFT</span></td></tr></thead><tbody><tr><td><div class=\"dni-plaintext\"><pre>58</pre></div></td></tr></tbody></table><style>\r\n",
                            ".dni-code-hint {\r\n",
                            "    font-style: italic;\r\n",
                            "    overflow: hidden;\r\n",
                            "    white-space: nowrap;\r\n",
                            "}\r\n",
                            ".dni-treeview {\r\n",
                            "    white-space: nowrap;\r\n",
                            "}\r\n",
                            ".dni-treeview td {\r\n",
                            "    vertical-align: top;\r\n",
                            "    text-align: start;\r\n",
                            "}\r\n",
                            "details.dni-treeview {\r\n",
                            "    padding-left: 1em;\r\n",
                            "}\r\n",
                            "table td {\r\n",
                            "    text-align: start;\r\n",
                            "}\r\n",
                            "table tr { \r\n",
                            "    vertical-align: top; \r\n",
                            "    margin: 0em 0px;\r\n",
                            "}\r\n",
                            "table tr td pre \r\n",
                            "{ \r\n",
                            "    vertical-align: top !important; \r\n",
                            "    margin: 0em 0px !important;\r\n",
                            "} \r\n",
                            "table th {\r\n",
                            "    text-align: start;\r\n",
                            "}\r\n",
                            "</style>"
                        ]
                    },
                    "metadata": {},
                    "output_type": "display_data"
                }
            ],
            "source": [
                "USE Pampero;\n",
                "SELECT COUNT(IDPedido) AS CantFT\n",
                "FROM Pedidos\n",
                "WHERE FechaEnvio > FechaRequerida OR FechaEnvio IS NULL AND FechaRequerida < GETDATE();"
            ]
        },
        {
            "attachments": {},
            "cell_type": "markdown",
            "metadata": {
                "azdata_cell_guid": "7a099a1d-6fa8-435a-b359-29cb854cb964",
                "language": "sql"
            },
            "source": [
                "15) Ídem consulta anterior, pero mostrar la información agrupada por año de emisión del pedido."
            ]
        },
        {
            "cell_type": "code",
            "execution_count": 23,
            "metadata": {
                "polyglot_notebook": {
                    "kernelName": "sql-Pampero"
                },
                "vscode": {
                    "languageId": "polyglot-notebook"
                }
            },
            "outputs": [
                {
                    "data": {
                        "text/plain": [
                            "(3 rows affected)"
                        ]
                    },
                    "metadata": {},
                    "output_type": "display_data"
                },
                {
                    "data": {
                        "text/csv": [
                            "Anio,CantFT\r\n",
                            "2019,7\r\n",
                            "2020,22\r\n",
                            "2021,29\r\n"
                        ],
                        "text/html": [
                            "<table><thead><tr><td><span>Anio</span></td><td><span>CantFT</span></td></tr></thead><tbody><tr><td><div class=\"dni-plaintext\"><pre>2019</pre></div></td><td><div class=\"dni-plaintext\"><pre>7</pre></div></td></tr><tr><td><div class=\"dni-plaintext\"><pre>2020</pre></div></td><td><div class=\"dni-plaintext\"><pre>22</pre></div></td></tr><tr><td><div class=\"dni-plaintext\"><pre>2021</pre></div></td><td><div class=\"dni-plaintext\"><pre>29</pre></div></td></tr></tbody></table><style>\r\n",
                            ".dni-code-hint {\r\n",
                            "    font-style: italic;\r\n",
                            "    overflow: hidden;\r\n",
                            "    white-space: nowrap;\r\n",
                            "}\r\n",
                            ".dni-treeview {\r\n",
                            "    white-space: nowrap;\r\n",
                            "}\r\n",
                            ".dni-treeview td {\r\n",
                            "    vertical-align: top;\r\n",
                            "    text-align: start;\r\n",
                            "}\r\n",
                            "details.dni-treeview {\r\n",
                            "    padding-left: 1em;\r\n",
                            "}\r\n",
                            "table td {\r\n",
                            "    text-align: start;\r\n",
                            "}\r\n",
                            "table tr { \r\n",
                            "    vertical-align: top; \r\n",
                            "    margin: 0em 0px;\r\n",
                            "}\r\n",
                            "table tr td pre \r\n",
                            "{ \r\n",
                            "    vertical-align: top !important; \r\n",
                            "    margin: 0em 0px !important;\r\n",
                            "} \r\n",
                            "table th {\r\n",
                            "    text-align: start;\r\n",
                            "}\r\n",
                            "</style>"
                        ]
                    },
                    "metadata": {},
                    "output_type": "display_data"
                }
            ],
            "source": [
                "USE Pampero;\n",
                "SELECT YEAR(FechaPedido) AS Anio, COUNT(IDPedido) AS CantFT\n",
                "FROM Pedidos\n",
                "WHERE FechaEnvio > FechaRequerida OR FechaEnvio IS NULL AND FechaRequerida < GETDATE()\n",
                "GROUP BY YEAR(FechaPedido);"
            ]
        },
        {
            "attachments": {},
            "cell_type": "markdown",
            "metadata": {
                "azdata_cell_guid": "5b4c8344-44e2-474c-8899-128da49e9644",
                "language": "sql"
            },
            "source": [
                "16) ¿Cuál fue el año con mayor cantidad de despachos fuera de término?"
            ]
        },
        {
            "cell_type": "code",
            "execution_count": 24,
            "metadata": {
                "polyglot_notebook": {
                    "kernelName": "sql-Pampero"
                },
                "vscode": {
                    "languageId": "polyglot-notebook"
                }
            },
            "outputs": [
                {
                    "data": {
                        "text/plain": [
                            "(1 row affected)"
                        ]
                    },
                    "metadata": {},
                    "output_type": "display_data"
                },
                {
                    "data": {
                        "text/csv": [
                            "Anio\r\n",
                            "2021\r\n"
                        ],
                        "text/html": [
                            "<table><thead><tr><td><span>Anio</span></td></tr></thead><tbody><tr><td><div class=\"dni-plaintext\"><pre>2021</pre></div></td></tr></tbody></table><style>\r\n",
                            ".dni-code-hint {\r\n",
                            "    font-style: italic;\r\n",
                            "    overflow: hidden;\r\n",
                            "    white-space: nowrap;\r\n",
                            "}\r\n",
                            ".dni-treeview {\r\n",
                            "    white-space: nowrap;\r\n",
                            "}\r\n",
                            ".dni-treeview td {\r\n",
                            "    vertical-align: top;\r\n",
                            "    text-align: start;\r\n",
                            "}\r\n",
                            "details.dni-treeview {\r\n",
                            "    padding-left: 1em;\r\n",
                            "}\r\n",
                            "table td {\r\n",
                            "    text-align: start;\r\n",
                            "}\r\n",
                            "table tr { \r\n",
                            "    vertical-align: top; \r\n",
                            "    margin: 0em 0px;\r\n",
                            "}\r\n",
                            "table tr td pre \r\n",
                            "{ \r\n",
                            "    vertical-align: top !important; \r\n",
                            "    margin: 0em 0px !important;\r\n",
                            "} \r\n",
                            "table th {\r\n",
                            "    text-align: start;\r\n",
                            "}\r\n",
                            "</style>"
                        ]
                    },
                    "metadata": {},
                    "output_type": "display_data"
                }
            ],
            "source": [
                "USE Pampero;\n",
                "SELECT TOP (1) YEAR(FechaPedido) AS Anio\n",
                "FROM Pedidos\n",
                "WHERE FechaEnvio > FechaRequerida OR FechaEnvio IS NULL AND FechaRequerida < GETDATE()\n",
                "GROUP BY YEAR(FechaPedido)\n",
                "ORDER BY COUNT(IDPedido) DESC;"
            ]
        },
        {
            "attachments": {},
            "cell_type": "markdown",
            "metadata": {
                "azdata_cell_guid": "e53ec0d6-4e25-49a9-a35c-7d3f61d52f98",
                "language": "sql"
            },
            "source": [
                "17) Mostrar los números de pedido y la cantidad de días de atraso (mostrar sólo los pedidos con atraso)"
            ]
        },
        {
            "cell_type": "code",
            "execution_count": 25,
            "metadata": {
                "polyglot_notebook": {
                    "kernelName": "sql-Pampero"
                },
                "vscode": {
                    "languageId": "polyglot-notebook"
                }
            },
            "outputs": [
                {
                    "data": {
                        "text/plain": [
                            "(58 rows affected)"
                        ]
                    },
                    "metadata": {},
                    "output_type": "display_data"
                },
                {
                    "data": {
                        "text/csv": [
                            "IDPedido,DiasAtraso\r\n",
                            "10264,2\r\n",
                            "10271,1\r\n",
                            "10280,1\r\n",
                            "10302,1\r\n",
                            "10309,6\r\n",
                            "10320,1\r\n",
                            "10380,7\r\n",
                            "10423,18\r\n",
                            "10427,8\r\n",
                            "10433,1\r\n",
                            "10451,7\r\n",
                            "10483,4\r\n",
                            "10515,16\r\n",
                            "10523,1\r\n",
                            "10545,7\r\n",
                            "10578,3\r\n",
                            "10593,7\r\n",
                            "10596,4\r\n",
                            "10660,9\r\n",
                            "10663,9\r\n",
                            "10687,2\r\n",
                            "10705,6\r\n",
                            "10709,6\r\n",
                            "10726,18\r\n",
                            "10727,4\r\n",
                            "10749,1\r\n",
                            "10777,23\r\n",
                            "10779,1\r\n",
                            "10807,2\r\n",
                            "10816,1\r\n",
                            "10827,11\r\n",
                            "10828,8\r\n",
                            "10847,5\r\n",
                            "10924,7\r\n",
                            "10927,6\r\n",
                            "10960,6\r\n",
                            "10970,17\r\n",
                            "11008,1482\r\n",
                            "11019,1477\r\n",
                            "11039,1469\r\n",
                            "11040,1468\r\n",
                            "11045,1467\r\n",
                            "11051,1463\r\n",
                            "11054,1462\r\n",
                            "11058,1461\r\n",
                            "11059,1447\r\n",
                            "11061,1446\r\n",
                            "11062,1460\r\n",
                            "11065,1459\r\n",
                            "11068,1456\r\n",
                            "11070,1455\r\n",
                            "11071,1455\r\n",
                            "11072,1455\r\n",
                            "11073,1455\r\n",
                            "11074,1454\r\n",
                            "11075,1454\r\n",
                            "11076,1454\r\n",
                            "11077,1454\r\n"
                        ],
                        "text/html": [
                            "<table><thead><tr><td><span>IDPedido</span></td><td><span>DiasAtraso</span></td></tr></thead><tbody><tr><td><div class=\"dni-plaintext\"><pre>10264</pre></div></td><td><div class=\"dni-plaintext\"><pre>2</pre></div></td></tr><tr><td><div class=\"dni-plaintext\"><pre>10271</pre></div></td><td><div class=\"dni-plaintext\"><pre>1</pre></div></td></tr><tr><td><div class=\"dni-plaintext\"><pre>10280</pre></div></td><td><div class=\"dni-plaintext\"><pre>1</pre></div></td></tr><tr><td><div class=\"dni-plaintext\"><pre>10302</pre></div></td><td><div class=\"dni-plaintext\"><pre>1</pre></div></td></tr><tr><td><div class=\"dni-plaintext\"><pre>10309</pre></div></td><td><div class=\"dni-plaintext\"><pre>6</pre></div></td></tr><tr><td><div class=\"dni-plaintext\"><pre>10320</pre></div></td><td><div class=\"dni-plaintext\"><pre>1</pre></div></td></tr><tr><td><div class=\"dni-plaintext\"><pre>10380</pre></div></td><td><div class=\"dni-plaintext\"><pre>7</pre></div></td></tr><tr><td><div class=\"dni-plaintext\"><pre>10423</pre></div></td><td><div class=\"dni-plaintext\"><pre>18</pre></div></td></tr><tr><td><div class=\"dni-plaintext\"><pre>10427</pre></div></td><td><div class=\"dni-plaintext\"><pre>8</pre></div></td></tr><tr><td><div class=\"dni-plaintext\"><pre>10433</pre></div></td><td><div class=\"dni-plaintext\"><pre>1</pre></div></td></tr><tr><td><div class=\"dni-plaintext\"><pre>10451</pre></div></td><td><div class=\"dni-plaintext\"><pre>7</pre></div></td></tr><tr><td><div class=\"dni-plaintext\"><pre>10483</pre></div></td><td><div class=\"dni-plaintext\"><pre>4</pre></div></td></tr><tr><td><div class=\"dni-plaintext\"><pre>10515</pre></div></td><td><div class=\"dni-plaintext\"><pre>16</pre></div></td></tr><tr><td><div class=\"dni-plaintext\"><pre>10523</pre></div></td><td><div class=\"dni-plaintext\"><pre>1</pre></div></td></tr><tr><td><div class=\"dni-plaintext\"><pre>10545</pre></div></td><td><div class=\"dni-plaintext\"><pre>7</pre></div></td></tr><tr><td><div class=\"dni-plaintext\"><pre>10578</pre></div></td><td><div class=\"dni-plaintext\"><pre>3</pre></div></td></tr><tr><td><div class=\"dni-plaintext\"><pre>10593</pre></div></td><td><div class=\"dni-plaintext\"><pre>7</pre></div></td></tr><tr><td><div class=\"dni-plaintext\"><pre>10596</pre></div></td><td><div class=\"dni-plaintext\"><pre>4</pre></div></td></tr><tr><td><div class=\"dni-plaintext\"><pre>10660</pre></div></td><td><div class=\"dni-plaintext\"><pre>9</pre></div></td></tr><tr><td><div class=\"dni-plaintext\"><pre>10663</pre></div></td><td><div class=\"dni-plaintext\"><pre>9</pre></div></td></tr><tr><td colspan=\"2\"><i>(38 more)</i></td></tr></tbody></table><style>\r\n",
                            ".dni-code-hint {\r\n",
                            "    font-style: italic;\r\n",
                            "    overflow: hidden;\r\n",
                            "    white-space: nowrap;\r\n",
                            "}\r\n",
                            ".dni-treeview {\r\n",
                            "    white-space: nowrap;\r\n",
                            "}\r\n",
                            ".dni-treeview td {\r\n",
                            "    vertical-align: top;\r\n",
                            "    text-align: start;\r\n",
                            "}\r\n",
                            "details.dni-treeview {\r\n",
                            "    padding-left: 1em;\r\n",
                            "}\r\n",
                            "table td {\r\n",
                            "    text-align: start;\r\n",
                            "}\r\n",
                            "table tr { \r\n",
                            "    vertical-align: top; \r\n",
                            "    margin: 0em 0px;\r\n",
                            "}\r\n",
                            "table tr td pre \r\n",
                            "{ \r\n",
                            "    vertical-align: top !important; \r\n",
                            "    margin: 0em 0px !important;\r\n",
                            "} \r\n",
                            "table th {\r\n",
                            "    text-align: start;\r\n",
                            "}\r\n",
                            "</style>"
                        ]
                    },
                    "metadata": {},
                    "output_type": "display_data"
                }
            ],
            "source": [
                "USE Pampero;\n",
                "SELECT IDPedido, DATEDIFF(DAY,FechaRequerida,ISNULL(FechaEnvio,GETDATE())) AS DiasAtraso\n",
                "FROM Pedidos\n",
                "WHERE FechaEnvio > FechaRequerida OR FechaEnvio IS NULL AND FechaRequerida < GETDATE();"
            ]
        },
        {
            "attachments": {},
            "cell_type": "markdown",
            "metadata": {
                "azdata_cell_guid": "b1de6010-2e73-45fd-b111-26d2f8d3ae44",
                "language": "sql"
            },
            "source": [
                "18) Calcular la cantidad de pedidos emitidos en 2020."
            ]
        },
        {
            "cell_type": "code",
            "execution_count": 26,
            "metadata": {
                "polyglot_notebook": {
                    "kernelName": "sql-Pampero"
                },
                "vscode": {
                    "languageId": "polyglot-notebook"
                }
            },
            "outputs": [
                {
                    "data": {
                        "text/plain": [
                            "(1 row affected)"
                        ]
                    },
                    "metadata": {},
                    "output_type": "display_data"
                },
                {
                    "data": {
                        "text/csv": [
                            "Cant2020\r\n",
                            "408\r\n"
                        ],
                        "text/html": [
                            "<table><thead><tr><td><span>Cant2020</span></td></tr></thead><tbody><tr><td><div class=\"dni-plaintext\"><pre>408</pre></div></td></tr></tbody></table><style>\r\n",
                            ".dni-code-hint {\r\n",
                            "    font-style: italic;\r\n",
                            "    overflow: hidden;\r\n",
                            "    white-space: nowrap;\r\n",
                            "}\r\n",
                            ".dni-treeview {\r\n",
                            "    white-space: nowrap;\r\n",
                            "}\r\n",
                            ".dni-treeview td {\r\n",
                            "    vertical-align: top;\r\n",
                            "    text-align: start;\r\n",
                            "}\r\n",
                            "details.dni-treeview {\r\n",
                            "    padding-left: 1em;\r\n",
                            "}\r\n",
                            "table td {\r\n",
                            "    text-align: start;\r\n",
                            "}\r\n",
                            "table tr { \r\n",
                            "    vertical-align: top; \r\n",
                            "    margin: 0em 0px;\r\n",
                            "}\r\n",
                            "table tr td pre \r\n",
                            "{ \r\n",
                            "    vertical-align: top !important; \r\n",
                            "    margin: 0em 0px !important;\r\n",
                            "} \r\n",
                            "table th {\r\n",
                            "    text-align: start;\r\n",
                            "}\r\n",
                            "</style>"
                        ]
                    },
                    "metadata": {},
                    "output_type": "display_data"
                }
            ],
            "source": [
                "USE Pampero;\n",
                "SELECT COUNT(IDPedido) AS Cant2020\n",
                "FROM Pedidos\n",
                "WHERE FechaPedido >= '20200101' AND FechaPedido < '20210101';"
            ]
        },
        {
            "attachments": {},
            "cell_type": "markdown",
            "metadata": {
                "azdata_cell_guid": "fc63efd0-bdee-4166-95b3-2c79fbed538e",
                "language": "sql"
            },
            "source": [
                "19) Ídem consulta anterior, pero mostrar la información agrupada por semana (utilizar DATEPART)"
            ]
        },
        {
            "cell_type": "code",
            "execution_count": 27,
            "metadata": {
                "polyglot_notebook": {
                    "kernelName": "sql-Pampero"
                },
                "vscode": {
                    "languageId": "polyglot-notebook"
                }
            },
            "outputs": [
                {
                    "data": {
                        "text/plain": [
                            "(53 rows affected)"
                        ]
                    },
                    "metadata": {},
                    "output_type": "display_data"
                },
                {
                    "data": {
                        "text/csv": [
                            "Semana,Cant2020\r\n",
                            "1,5\r\n",
                            "2,7\r\n",
                            "3,7\r\n",
                            "4,7\r\n",
                            "5,7\r\n",
                            "6,7\r\n",
                            "7,8\r\n",
                            "8,7\r\n",
                            "9,7\r\n",
                            "10,7\r\n",
                            "11,7\r\n",
                            "12,7\r\n",
                            "13,7\r\n",
                            "14,8\r\n",
                            "15,7\r\n",
                            "16,7\r\n",
                            "17,7\r\n",
                            "18,7\r\n",
                            "19,7\r\n",
                            "20,7\r\n",
                            "21,8\r\n",
                            "22,7\r\n",
                            "23,7\r\n",
                            "24,7\r\n",
                            "25,7\r\n",
                            "26,7\r\n",
                            "27,7\r\n",
                            "28,8\r\n",
                            "29,7\r\n",
                            "30,7\r\n",
                            "31,7\r\n",
                            "32,7\r\n",
                            "33,9\r\n",
                            "34,8\r\n",
                            "35,8\r\n",
                            "36,9\r\n",
                            "37,8\r\n",
                            "38,8\r\n",
                            "39,9\r\n",
                            "40,8\r\n",
                            "41,8\r\n",
                            "42,9\r\n",
                            "43,8\r\n",
                            "44,8\r\n",
                            "45,9\r\n",
                            "46,8\r\n",
                            "47,8\r\n",
                            "48,9\r\n",
                            "49,8\r\n",
                            "50,8\r\n",
                            "51,12\r\n",
                            "52,13\r\n",
                            "53,7\r\n"
                        ],
                        "text/html": [
                            "<table><thead><tr><td><span>Semana</span></td><td><span>Cant2020</span></td></tr></thead><tbody><tr><td><div class=\"dni-plaintext\"><pre>1</pre></div></td><td><div class=\"dni-plaintext\"><pre>5</pre></div></td></tr><tr><td><div class=\"dni-plaintext\"><pre>2</pre></div></td><td><div class=\"dni-plaintext\"><pre>7</pre></div></td></tr><tr><td><div class=\"dni-plaintext\"><pre>3</pre></div></td><td><div class=\"dni-plaintext\"><pre>7</pre></div></td></tr><tr><td><div class=\"dni-plaintext\"><pre>4</pre></div></td><td><div class=\"dni-plaintext\"><pre>7</pre></div></td></tr><tr><td><div class=\"dni-plaintext\"><pre>5</pre></div></td><td><div class=\"dni-plaintext\"><pre>7</pre></div></td></tr><tr><td><div class=\"dni-plaintext\"><pre>6</pre></div></td><td><div class=\"dni-plaintext\"><pre>7</pre></div></td></tr><tr><td><div class=\"dni-plaintext\"><pre>7</pre></div></td><td><div class=\"dni-plaintext\"><pre>8</pre></div></td></tr><tr><td><div class=\"dni-plaintext\"><pre>8</pre></div></td><td><div class=\"dni-plaintext\"><pre>7</pre></div></td></tr><tr><td><div class=\"dni-plaintext\"><pre>9</pre></div></td><td><div class=\"dni-plaintext\"><pre>7</pre></div></td></tr><tr><td><div class=\"dni-plaintext\"><pre>10</pre></div></td><td><div class=\"dni-plaintext\"><pre>7</pre></div></td></tr><tr><td><div class=\"dni-plaintext\"><pre>11</pre></div></td><td><div class=\"dni-plaintext\"><pre>7</pre></div></td></tr><tr><td><div class=\"dni-plaintext\"><pre>12</pre></div></td><td><div class=\"dni-plaintext\"><pre>7</pre></div></td></tr><tr><td><div class=\"dni-plaintext\"><pre>13</pre></div></td><td><div class=\"dni-plaintext\"><pre>7</pre></div></td></tr><tr><td><div class=\"dni-plaintext\"><pre>14</pre></div></td><td><div class=\"dni-plaintext\"><pre>8</pre></div></td></tr><tr><td><div class=\"dni-plaintext\"><pre>15</pre></div></td><td><div class=\"dni-plaintext\"><pre>7</pre></div></td></tr><tr><td><div class=\"dni-plaintext\"><pre>16</pre></div></td><td><div class=\"dni-plaintext\"><pre>7</pre></div></td></tr><tr><td><div class=\"dni-plaintext\"><pre>17</pre></div></td><td><div class=\"dni-plaintext\"><pre>7</pre></div></td></tr><tr><td><div class=\"dni-plaintext\"><pre>18</pre></div></td><td><div class=\"dni-plaintext\"><pre>7</pre></div></td></tr><tr><td><div class=\"dni-plaintext\"><pre>19</pre></div></td><td><div class=\"dni-plaintext\"><pre>7</pre></div></td></tr><tr><td><div class=\"dni-plaintext\"><pre>20</pre></div></td><td><div class=\"dni-plaintext\"><pre>7</pre></div></td></tr><tr><td colspan=\"2\"><i>(33 more)</i></td></tr></tbody></table><style>\r\n",
                            ".dni-code-hint {\r\n",
                            "    font-style: italic;\r\n",
                            "    overflow: hidden;\r\n",
                            "    white-space: nowrap;\r\n",
                            "}\r\n",
                            ".dni-treeview {\r\n",
                            "    white-space: nowrap;\r\n",
                            "}\r\n",
                            ".dni-treeview td {\r\n",
                            "    vertical-align: top;\r\n",
                            "    text-align: start;\r\n",
                            "}\r\n",
                            "details.dni-treeview {\r\n",
                            "    padding-left: 1em;\r\n",
                            "}\r\n",
                            "table td {\r\n",
                            "    text-align: start;\r\n",
                            "}\r\n",
                            "table tr { \r\n",
                            "    vertical-align: top; \r\n",
                            "    margin: 0em 0px;\r\n",
                            "}\r\n",
                            "table tr td pre \r\n",
                            "{ \r\n",
                            "    vertical-align: top !important; \r\n",
                            "    margin: 0em 0px !important;\r\n",
                            "} \r\n",
                            "table th {\r\n",
                            "    text-align: start;\r\n",
                            "}\r\n",
                            "</style>"
                        ]
                    },
                    "metadata": {},
                    "output_type": "display_data"
                }
            ],
            "source": [
                "USE Pampero;\n",
                "SELECT DATEPART(WEEK, FechaPedido) AS Semana,  COUNT(IDPedido) AS Cant2020\n",
                "FROM Pedidos\n",
                "WHERE FechaPedido >= '20200101' AND FechaPedido < '20210101'\n",
                "GROUP BY DATEPART(WEEK, FechaPedido);"
            ]
        },
        {
            "attachments": {},
            "cell_type": "markdown",
            "metadata": {
                "azdata_cell_guid": "71e8e5db-f5bc-40e9-8a28-348b80076388",
                "language": "sql"
            },
            "source": [
                "20) Ídem consulta anterior, pero sin utilizar DATEPART."
            ]
        },
        {
            "cell_type": "code",
            "execution_count": 28,
            "metadata": {
                "polyglot_notebook": {
                    "kernelName": "sql-Pampero"
                },
                "vscode": {
                    "languageId": "polyglot-notebook"
                }
            },
            "outputs": [
                {
                    "data": {
                        "text/plain": [
                            "(53 rows affected)"
                        ]
                    },
                    "metadata": {},
                    "output_type": "display_data"
                },
                {
                    "data": {
                        "text/csv": [
                            "Semana,Cant2020\r\n",
                            "1,5\r\n",
                            "2,7\r\n",
                            "3,7\r\n",
                            "4,7\r\n",
                            "5,7\r\n",
                            "6,7\r\n",
                            "7,8\r\n",
                            "8,7\r\n",
                            "9,7\r\n",
                            "10,7\r\n",
                            "11,7\r\n",
                            "12,7\r\n",
                            "13,7\r\n",
                            "14,8\r\n",
                            "15,7\r\n",
                            "16,7\r\n",
                            "17,7\r\n",
                            "18,7\r\n",
                            "19,7\r\n",
                            "20,7\r\n",
                            "21,8\r\n",
                            "22,7\r\n",
                            "23,7\r\n",
                            "24,7\r\n",
                            "25,7\r\n",
                            "26,7\r\n",
                            "27,7\r\n",
                            "28,8\r\n",
                            "29,7\r\n",
                            "30,7\r\n",
                            "31,7\r\n",
                            "32,7\r\n",
                            "33,9\r\n",
                            "34,8\r\n",
                            "35,8\r\n",
                            "36,9\r\n",
                            "37,8\r\n",
                            "38,8\r\n",
                            "39,9\r\n",
                            "40,8\r\n",
                            "41,8\r\n",
                            "42,9\r\n",
                            "43,8\r\n",
                            "44,8\r\n",
                            "45,9\r\n",
                            "46,8\r\n",
                            "47,8\r\n",
                            "48,9\r\n",
                            "49,8\r\n",
                            "50,8\r\n",
                            "51,12\r\n",
                            "52,13\r\n",
                            "53,7\r\n"
                        ],
                        "text/html": [
                            "<table><thead><tr><td><span>Semana</span></td><td><span>Cant2020</span></td></tr></thead><tbody><tr><td><div class=\"dni-plaintext\"><pre>1</pre></div></td><td><div class=\"dni-plaintext\"><pre>5</pre></div></td></tr><tr><td><div class=\"dni-plaintext\"><pre>2</pre></div></td><td><div class=\"dni-plaintext\"><pre>7</pre></div></td></tr><tr><td><div class=\"dni-plaintext\"><pre>3</pre></div></td><td><div class=\"dni-plaintext\"><pre>7</pre></div></td></tr><tr><td><div class=\"dni-plaintext\"><pre>4</pre></div></td><td><div class=\"dni-plaintext\"><pre>7</pre></div></td></tr><tr><td><div class=\"dni-plaintext\"><pre>5</pre></div></td><td><div class=\"dni-plaintext\"><pre>7</pre></div></td></tr><tr><td><div class=\"dni-plaintext\"><pre>6</pre></div></td><td><div class=\"dni-plaintext\"><pre>7</pre></div></td></tr><tr><td><div class=\"dni-plaintext\"><pre>7</pre></div></td><td><div class=\"dni-plaintext\"><pre>8</pre></div></td></tr><tr><td><div class=\"dni-plaintext\"><pre>8</pre></div></td><td><div class=\"dni-plaintext\"><pre>7</pre></div></td></tr><tr><td><div class=\"dni-plaintext\"><pre>9</pre></div></td><td><div class=\"dni-plaintext\"><pre>7</pre></div></td></tr><tr><td><div class=\"dni-plaintext\"><pre>10</pre></div></td><td><div class=\"dni-plaintext\"><pre>7</pre></div></td></tr><tr><td><div class=\"dni-plaintext\"><pre>11</pre></div></td><td><div class=\"dni-plaintext\"><pre>7</pre></div></td></tr><tr><td><div class=\"dni-plaintext\"><pre>12</pre></div></td><td><div class=\"dni-plaintext\"><pre>7</pre></div></td></tr><tr><td><div class=\"dni-plaintext\"><pre>13</pre></div></td><td><div class=\"dni-plaintext\"><pre>7</pre></div></td></tr><tr><td><div class=\"dni-plaintext\"><pre>14</pre></div></td><td><div class=\"dni-plaintext\"><pre>8</pre></div></td></tr><tr><td><div class=\"dni-plaintext\"><pre>15</pre></div></td><td><div class=\"dni-plaintext\"><pre>7</pre></div></td></tr><tr><td><div class=\"dni-plaintext\"><pre>16</pre></div></td><td><div class=\"dni-plaintext\"><pre>7</pre></div></td></tr><tr><td><div class=\"dni-plaintext\"><pre>17</pre></div></td><td><div class=\"dni-plaintext\"><pre>7</pre></div></td></tr><tr><td><div class=\"dni-plaintext\"><pre>18</pre></div></td><td><div class=\"dni-plaintext\"><pre>7</pre></div></td></tr><tr><td><div class=\"dni-plaintext\"><pre>19</pre></div></td><td><div class=\"dni-plaintext\"><pre>7</pre></div></td></tr><tr><td><div class=\"dni-plaintext\"><pre>20</pre></div></td><td><div class=\"dni-plaintext\"><pre>7</pre></div></td></tr><tr><td colspan=\"2\"><i>(33 more)</i></td></tr></tbody></table><style>\r\n",
                            ".dni-code-hint {\r\n",
                            "    font-style: italic;\r\n",
                            "    overflow: hidden;\r\n",
                            "    white-space: nowrap;\r\n",
                            "}\r\n",
                            ".dni-treeview {\r\n",
                            "    white-space: nowrap;\r\n",
                            "}\r\n",
                            ".dni-treeview td {\r\n",
                            "    vertical-align: top;\r\n",
                            "    text-align: start;\r\n",
                            "}\r\n",
                            "details.dni-treeview {\r\n",
                            "    padding-left: 1em;\r\n",
                            "}\r\n",
                            "table td {\r\n",
                            "    text-align: start;\r\n",
                            "}\r\n",
                            "table tr { \r\n",
                            "    vertical-align: top; \r\n",
                            "    margin: 0em 0px;\r\n",
                            "}\r\n",
                            "table tr td pre \r\n",
                            "{ \r\n",
                            "    vertical-align: top !important; \r\n",
                            "    margin: 0em 0px !important;\r\n",
                            "} \r\n",
                            "table th {\r\n",
                            "    text-align: start;\r\n",
                            "}\r\n",
                            "</style>"
                        ]
                    },
                    "metadata": {},
                    "output_type": "display_data"
                }
            ],
            "source": [
                "USE Pampero;\n",
                "SELECT DATEDIFF(WEEK, '20200101', FechaPedido)+1 AS Semana,  COUNT(IDPedido) AS Cant2020\n",
                "FROM Pedidos\n",
                "WHERE FechaPedido >= '20200101' AND FechaPedido < '20210101'\n",
                "GROUP BY DATEDIFF(WEEK, '20200101', FechaPedido)+1;"
            ]
        },
        {
            "attachments": {},
            "cell_type": "markdown",
            "metadata": {
                "azdata_cell_guid": "e141a771-24e4-47eb-95be-b7d7cea7f1a0",
                "language": "sql"
            },
            "source": [
                "21) Ídem consulta anterior, utilizando DATEPART, pero no se puede utilizar week  como part."
            ]
        },
        {
            "cell_type": "code",
            "execution_count": 29,
            "metadata": {
                "polyglot_notebook": {
                    "kernelName": "sql-Pampero"
                },
                "vscode": {
                    "languageId": "polyglot-notebook"
                }
            },
            "outputs": [
                {
                    "data": {
                        "text/plain": [
                            "(53 rows affected)"
                        ]
                    },
                    "metadata": {},
                    "output_type": "display_data"
                },
                {
                    "data": {
                        "text/csv": [
                            "Semana,Cant2020\r\n",
                            "1,5\r\n",
                            "2,7\r\n",
                            "3,7\r\n",
                            "4,7\r\n",
                            "5,7\r\n",
                            "6,7\r\n",
                            "7,8\r\n",
                            "8,7\r\n",
                            "9,7\r\n",
                            "10,7\r\n",
                            "11,7\r\n",
                            "12,7\r\n",
                            "13,7\r\n",
                            "14,8\r\n",
                            "15,7\r\n",
                            "16,7\r\n",
                            "17,7\r\n",
                            "18,7\r\n",
                            "19,7\r\n",
                            "20,7\r\n",
                            "21,8\r\n",
                            "22,7\r\n",
                            "23,7\r\n",
                            "24,7\r\n",
                            "25,7\r\n",
                            "26,7\r\n",
                            "27,7\r\n",
                            "28,8\r\n",
                            "29,7\r\n",
                            "30,7\r\n",
                            "31,7\r\n",
                            "32,7\r\n",
                            "33,9\r\n",
                            "34,8\r\n",
                            "35,8\r\n",
                            "36,9\r\n",
                            "37,8\r\n",
                            "38,8\r\n",
                            "39,9\r\n",
                            "40,8\r\n",
                            "41,8\r\n",
                            "42,9\r\n",
                            "43,8\r\n",
                            "44,8\r\n",
                            "45,9\r\n",
                            "46,8\r\n",
                            "47,8\r\n",
                            "48,9\r\n",
                            "49,8\r\n",
                            "50,8\r\n",
                            "51,12\r\n",
                            "52,13\r\n",
                            "53,7\r\n"
                        ],
                        "text/html": [
                            "<table><thead><tr><td><span>Semana</span></td><td><span>Cant2020</span></td></tr></thead><tbody><tr><td><div class=\"dni-plaintext\"><pre>1</pre></div></td><td><div class=\"dni-plaintext\"><pre>5</pre></div></td></tr><tr><td><div class=\"dni-plaintext\"><pre>2</pre></div></td><td><div class=\"dni-plaintext\"><pre>7</pre></div></td></tr><tr><td><div class=\"dni-plaintext\"><pre>3</pre></div></td><td><div class=\"dni-plaintext\"><pre>7</pre></div></td></tr><tr><td><div class=\"dni-plaintext\"><pre>4</pre></div></td><td><div class=\"dni-plaintext\"><pre>7</pre></div></td></tr><tr><td><div class=\"dni-plaintext\"><pre>5</pre></div></td><td><div class=\"dni-plaintext\"><pre>7</pre></div></td></tr><tr><td><div class=\"dni-plaintext\"><pre>6</pre></div></td><td><div class=\"dni-plaintext\"><pre>7</pre></div></td></tr><tr><td><div class=\"dni-plaintext\"><pre>7</pre></div></td><td><div class=\"dni-plaintext\"><pre>8</pre></div></td></tr><tr><td><div class=\"dni-plaintext\"><pre>8</pre></div></td><td><div class=\"dni-plaintext\"><pre>7</pre></div></td></tr><tr><td><div class=\"dni-plaintext\"><pre>9</pre></div></td><td><div class=\"dni-plaintext\"><pre>7</pre></div></td></tr><tr><td><div class=\"dni-plaintext\"><pre>10</pre></div></td><td><div class=\"dni-plaintext\"><pre>7</pre></div></td></tr><tr><td><div class=\"dni-plaintext\"><pre>11</pre></div></td><td><div class=\"dni-plaintext\"><pre>7</pre></div></td></tr><tr><td><div class=\"dni-plaintext\"><pre>12</pre></div></td><td><div class=\"dni-plaintext\"><pre>7</pre></div></td></tr><tr><td><div class=\"dni-plaintext\"><pre>13</pre></div></td><td><div class=\"dni-plaintext\"><pre>7</pre></div></td></tr><tr><td><div class=\"dni-plaintext\"><pre>14</pre></div></td><td><div class=\"dni-plaintext\"><pre>8</pre></div></td></tr><tr><td><div class=\"dni-plaintext\"><pre>15</pre></div></td><td><div class=\"dni-plaintext\"><pre>7</pre></div></td></tr><tr><td><div class=\"dni-plaintext\"><pre>16</pre></div></td><td><div class=\"dni-plaintext\"><pre>7</pre></div></td></tr><tr><td><div class=\"dni-plaintext\"><pre>17</pre></div></td><td><div class=\"dni-plaintext\"><pre>7</pre></div></td></tr><tr><td><div class=\"dni-plaintext\"><pre>18</pre></div></td><td><div class=\"dni-plaintext\"><pre>7</pre></div></td></tr><tr><td><div class=\"dni-plaintext\"><pre>19</pre></div></td><td><div class=\"dni-plaintext\"><pre>7</pre></div></td></tr><tr><td><div class=\"dni-plaintext\"><pre>20</pre></div></td><td><div class=\"dni-plaintext\"><pre>7</pre></div></td></tr><tr><td colspan=\"2\"><i>(33 more)</i></td></tr></tbody></table><style>\r\n",
                            ".dni-code-hint {\r\n",
                            "    font-style: italic;\r\n",
                            "    overflow: hidden;\r\n",
                            "    white-space: nowrap;\r\n",
                            "}\r\n",
                            ".dni-treeview {\r\n",
                            "    white-space: nowrap;\r\n",
                            "}\r\n",
                            ".dni-treeview td {\r\n",
                            "    vertical-align: top;\r\n",
                            "    text-align: start;\r\n",
                            "}\r\n",
                            "details.dni-treeview {\r\n",
                            "    padding-left: 1em;\r\n",
                            "}\r\n",
                            "table td {\r\n",
                            "    text-align: start;\r\n",
                            "}\r\n",
                            "table tr { \r\n",
                            "    vertical-align: top; \r\n",
                            "    margin: 0em 0px;\r\n",
                            "}\r\n",
                            "table tr td pre \r\n",
                            "{ \r\n",
                            "    vertical-align: top !important; \r\n",
                            "    margin: 0em 0px !important;\r\n",
                            "} \r\n",
                            "table th {\r\n",
                            "    text-align: start;\r\n",
                            "}\r\n",
                            "</style>"
                        ]
                    },
                    "metadata": {},
                    "output_type": "display_data"
                }
            ],
            "source": [
                "USE Pampero;\n",
                "SELECT DATEPART(ISO_WEEK, FechaPedido) AS Semana,  COUNT(IDPedido) AS Cant2020\n",
                "FROM Pedidos\n",
                "WHERE FechaPedido >= '20200101' AND FechaPedido < '20210101'\n",
                "GROUP BY DATEPART(ISO_WEEK, FechaPedido);"
            ]
        },
        {
            "attachments": {},
            "cell_type": "markdown",
            "metadata": {
                "azdata_cell_guid": "05817d6b-18f0-4def-aadb-b3deba30c0f1",
                "language": "sql"
            },
            "source": [
                "22) Compare los resultados de las consultas 19, 20 y 21. ¿En las tres se obtiene el mismo resultado? Si realiza las consultas considerando el año 2021 (en lugar de 2020), ¿las tres consultas dan los mismos resultados entre sí? ¿Por qué?"
            ]
        },
        {
            "cell_type": "code",
            "execution_count": 30,
            "metadata": {
                "polyglot_notebook": {
                    "kernelName": "sql-Pampero"
                },
                "vscode": {
                    "languageId": "polyglot-notebook"
                }
            },
            "outputs": [
                {
                    "data": {
                        "text/plain": [
                            "(270 rows affected)"
                        ]
                    },
                    "metadata": {},
                    "output_type": "display_data"
                },
                {
                    "data": {
                        "text/csv": [
                            "Semana,SemISO,SemDiff\r\n",
                            "1,53,1\r\n",
                            "1,53,1\r\n",
                            "1,53,1\r\n",
                            "1,53,1\r\n",
                            "1,53,1\r\n",
                            "2,1,2\r\n",
                            "2,1,2\r\n",
                            "2,1,2\r\n",
                            "2,1,2\r\n",
                            "2,1,2\r\n",
                            "2,1,2\r\n",
                            "2,1,2\r\n",
                            "2,1,2\r\n",
                            "2,1,2\r\n",
                            "2,1,2\r\n",
                            "2,1,2\r\n",
                            "2,1,2\r\n",
                            "2,1,2\r\n",
                            "3,2,3\r\n",
                            "3,2,3\r\n",
                            "3,2,3\r\n",
                            "3,2,3\r\n",
                            "3,2,3\r\n",
                            "3,2,3\r\n",
                            "3,2,3\r\n",
                            "3,2,3\r\n",
                            "3,2,3\r\n",
                            "3,2,3\r\n",
                            "3,2,3\r\n",
                            "3,2,3\r\n",
                            "4,3,4\r\n",
                            "4,3,4\r\n",
                            "4,3,4\r\n",
                            "4,3,4\r\n",
                            "4,3,4\r\n",
                            "4,3,4\r\n",
                            "4,3,4\r\n",
                            "4,3,4\r\n",
                            "4,3,4\r\n",
                            "4,3,4\r\n",
                            "4,3,4\r\n",
                            "4,3,4\r\n",
                            "4,3,4\r\n",
                            "5,4,5\r\n",
                            "5,4,5\r\n",
                            "5,4,5\r\n",
                            "5,4,5\r\n",
                            "5,4,5\r\n",
                            "5,4,5\r\n",
                            "5,4,5\r\n",
                            "5,4,5\r\n",
                            "5,4,5\r\n",
                            "5,4,5\r\n",
                            "5,4,5\r\n",
                            "5,4,5\r\n",
                            "6,5,6\r\n",
                            "6,5,6\r\n",
                            "6,5,6\r\n",
                            "6,5,6\r\n",
                            "6,5,6\r\n",
                            "6,5,6\r\n",
                            "6,5,6\r\n",
                            "6,5,6\r\n",
                            "6,5,6\r\n",
                            "6,5,6\r\n",
                            "6,5,6\r\n",
                            "6,5,6\r\n",
                            "6,5,6\r\n",
                            "7,6,7\r\n",
                            "7,6,7\r\n",
                            "7,6,7\r\n",
                            "7,6,7\r\n",
                            "7,6,7\r\n",
                            "7,6,7\r\n",
                            "7,6,7\r\n",
                            "7,6,7\r\n",
                            "7,6,7\r\n",
                            "7,6,7\r\n",
                            "7,6,7\r\n",
                            "7,6,7\r\n",
                            "8,7,8\r\n",
                            "8,7,8\r\n",
                            "8,7,8\r\n",
                            "8,7,8\r\n",
                            "8,7,8\r\n",
                            "8,7,8\r\n",
                            "8,7,8\r\n",
                            "8,7,8\r\n",
                            "8,7,8\r\n",
                            "8,7,8\r\n",
                            "8,7,8\r\n",
                            "8,7,8\r\n",
                            "8,7,8\r\n",
                            "9,8,9\r\n",
                            "9,8,9\r\n",
                            "9,8,9\r\n",
                            "9,8,9\r\n",
                            "9,8,9\r\n",
                            "9,8,9\r\n",
                            "9,8,9\r\n",
                            "9,8,9\r\n",
                            "9,8,9\r\n",
                            "9,8,9\r\n",
                            "9,8,9\r\n",
                            "9,8,9\r\n",
                            "9,8,9\r\n",
                            "9,8,9\r\n",
                            "9,8,9\r\n",
                            "9,8,9\r\n",
                            "10,9,10\r\n",
                            "10,9,10\r\n",
                            "10,9,10\r\n",
                            "10,9,10\r\n",
                            "10,9,10\r\n",
                            "10,9,10\r\n",
                            "10,9,10\r\n",
                            "10,9,10\r\n",
                            "10,9,10\r\n",
                            "10,9,10\r\n",
                            "10,9,10\r\n",
                            "10,9,10\r\n",
                            "10,9,10\r\n",
                            "10,9,10\r\n",
                            "10,9,10\r\n",
                            "10,9,10\r\n",
                            "10,9,10\r\n",
                            "11,10,11\r\n",
                            "11,10,11\r\n",
                            "11,10,11\r\n",
                            "11,10,11\r\n",
                            "11,10,11\r\n",
                            "11,10,11\r\n",
                            "11,10,11\r\n",
                            "11,10,11\r\n",
                            "11,10,11\r\n",
                            "11,10,11\r\n",
                            "11,10,11\r\n",
                            "11,10,11\r\n",
                            "11,10,11\r\n",
                            "11,10,11\r\n",
                            "11,10,11\r\n",
                            "11,10,11\r\n",
                            "12,11,12\r\n",
                            "12,11,12\r\n",
                            "12,11,12\r\n",
                            "12,11,12\r\n",
                            "12,11,12\r\n",
                            "12,11,12\r\n",
                            "12,11,12\r\n",
                            "12,11,12\r\n",
                            "12,11,12\r\n",
                            "12,11,12\r\n",
                            "12,11,12\r\n",
                            "12,11,12\r\n",
                            "12,11,12\r\n",
                            "12,11,12\r\n",
                            "12,11,12\r\n",
                            "12,11,12\r\n",
                            "12,11,12\r\n",
                            "13,12,13\r\n",
                            "13,12,13\r\n",
                            "13,12,13\r\n",
                            "13,12,13\r\n",
                            "13,12,13\r\n",
                            "13,12,13\r\n",
                            "13,12,13\r\n",
                            "13,12,13\r\n",
                            "13,12,13\r\n",
                            "13,12,13\r\n",
                            "13,12,13\r\n",
                            "13,12,13\r\n",
                            "13,12,13\r\n",
                            "13,12,13\r\n",
                            "13,12,13\r\n",
                            "13,12,13\r\n",
                            "13,12,13\r\n",
                            "14,13,14\r\n",
                            "14,13,14\r\n",
                            "14,13,14\r\n",
                            "14,13,14\r\n",
                            "14,13,14\r\n",
                            "14,13,14\r\n",
                            "14,13,14\r\n",
                            "14,13,14\r\n",
                            "14,13,14\r\n",
                            "14,13,14\r\n",
                            "14,13,14\r\n",
                            "14,13,14\r\n",
                            "14,13,14\r\n",
                            "14,13,14\r\n",
                            "14,13,14\r\n",
                            "14,13,14\r\n",
                            "15,14,15\r\n",
                            "15,14,15\r\n",
                            "15,14,15\r\n",
                            "15,14,15\r\n",
                            "15,14,15\r\n",
                            "15,14,15\r\n",
                            "15,14,15\r\n",
                            "15,14,15\r\n",
                            "15,14,15\r\n",
                            "15,14,15\r\n",
                            "15,14,15\r\n",
                            "15,14,15\r\n",
                            "15,14,15\r\n",
                            "15,14,15\r\n",
                            "15,14,15\r\n",
                            "15,14,15\r\n",
                            "15,14,15\r\n",
                            "16,15,16\r\n",
                            "16,15,16\r\n",
                            "16,15,16\r\n",
                            "16,15,16\r\n",
                            "16,15,16\r\n",
                            "16,15,16\r\n",
                            "16,15,16\r\n",
                            "16,15,16\r\n",
                            "16,15,16\r\n",
                            "16,15,16\r\n",
                            "16,15,16\r\n",
                            "16,15,16\r\n",
                            "16,15,16\r\n",
                            "16,15,16\r\n",
                            "16,15,16\r\n",
                            "16,15,16\r\n",
                            "16,15,16\r\n",
                            "17,16,17\r\n",
                            "17,16,17\r\n",
                            "17,16,17\r\n",
                            "17,16,17\r\n",
                            "17,16,17\r\n",
                            "17,16,17\r\n",
                            "17,16,17\r\n",
                            "17,16,17\r\n",
                            "17,16,17\r\n",
                            "17,16,17\r\n",
                            "17,16,17\r\n",
                            "17,16,17\r\n",
                            "17,16,17\r\n",
                            "17,16,17\r\n",
                            "17,16,17\r\n",
                            "17,16,17\r\n",
                            "18,17,18\r\n",
                            "18,17,18\r\n",
                            "18,17,18\r\n",
                            "18,17,18\r\n",
                            "18,17,18\r\n",
                            "18,17,18\r\n",
                            "18,17,18\r\n",
                            "18,17,18\r\n",
                            "18,17,18\r\n",
                            "18,17,18\r\n",
                            "18,17,18\r\n",
                            "18,17,18\r\n",
                            "18,17,18\r\n",
                            "18,17,18\r\n",
                            "18,17,18\r\n",
                            "18,17,18\r\n",
                            "18,17,18\r\n",
                            "19,18,19\r\n",
                            "19,18,19\r\n",
                            "19,18,19\r\n",
                            "19,18,19\r\n",
                            "19,18,19\r\n",
                            "19,18,19\r\n",
                            "19,18,19\r\n",
                            "19,18,19\r\n",
                            "19,18,19\r\n",
                            "19,18,19\r\n",
                            "19,18,19\r\n"
                        ],
                        "text/html": [
                            "<table><thead><tr><td><span>Semana</span></td><td><span>SemISO</span></td><td><span>SemDiff</span></td></tr></thead><tbody><tr><td><div class=\"dni-plaintext\"><pre>1</pre></div></td><td><div class=\"dni-plaintext\"><pre>53</pre></div></td><td><div class=\"dni-plaintext\"><pre>1</pre></div></td></tr><tr><td><div class=\"dni-plaintext\"><pre>1</pre></div></td><td><div class=\"dni-plaintext\"><pre>53</pre></div></td><td><div class=\"dni-plaintext\"><pre>1</pre></div></td></tr><tr><td><div class=\"dni-plaintext\"><pre>1</pre></div></td><td><div class=\"dni-plaintext\"><pre>53</pre></div></td><td><div class=\"dni-plaintext\"><pre>1</pre></div></td></tr><tr><td><div class=\"dni-plaintext\"><pre>1</pre></div></td><td><div class=\"dni-plaintext\"><pre>53</pre></div></td><td><div class=\"dni-plaintext\"><pre>1</pre></div></td></tr><tr><td><div class=\"dni-plaintext\"><pre>1</pre></div></td><td><div class=\"dni-plaintext\"><pre>53</pre></div></td><td><div class=\"dni-plaintext\"><pre>1</pre></div></td></tr><tr><td><div class=\"dni-plaintext\"><pre>2</pre></div></td><td><div class=\"dni-plaintext\"><pre>1</pre></div></td><td><div class=\"dni-plaintext\"><pre>2</pre></div></td></tr><tr><td><div class=\"dni-plaintext\"><pre>2</pre></div></td><td><div class=\"dni-plaintext\"><pre>1</pre></div></td><td><div class=\"dni-plaintext\"><pre>2</pre></div></td></tr><tr><td><div class=\"dni-plaintext\"><pre>2</pre></div></td><td><div class=\"dni-plaintext\"><pre>1</pre></div></td><td><div class=\"dni-plaintext\"><pre>2</pre></div></td></tr><tr><td><div class=\"dni-plaintext\"><pre>2</pre></div></td><td><div class=\"dni-plaintext\"><pre>1</pre></div></td><td><div class=\"dni-plaintext\"><pre>2</pre></div></td></tr><tr><td><div class=\"dni-plaintext\"><pre>2</pre></div></td><td><div class=\"dni-plaintext\"><pre>1</pre></div></td><td><div class=\"dni-plaintext\"><pre>2</pre></div></td></tr><tr><td><div class=\"dni-plaintext\"><pre>2</pre></div></td><td><div class=\"dni-plaintext\"><pre>1</pre></div></td><td><div class=\"dni-plaintext\"><pre>2</pre></div></td></tr><tr><td><div class=\"dni-plaintext\"><pre>2</pre></div></td><td><div class=\"dni-plaintext\"><pre>1</pre></div></td><td><div class=\"dni-plaintext\"><pre>2</pre></div></td></tr><tr><td><div class=\"dni-plaintext\"><pre>2</pre></div></td><td><div class=\"dni-plaintext\"><pre>1</pre></div></td><td><div class=\"dni-plaintext\"><pre>2</pre></div></td></tr><tr><td><div class=\"dni-plaintext\"><pre>2</pre></div></td><td><div class=\"dni-plaintext\"><pre>1</pre></div></td><td><div class=\"dni-plaintext\"><pre>2</pre></div></td></tr><tr><td><div class=\"dni-plaintext\"><pre>2</pre></div></td><td><div class=\"dni-plaintext\"><pre>1</pre></div></td><td><div class=\"dni-plaintext\"><pre>2</pre></div></td></tr><tr><td><div class=\"dni-plaintext\"><pre>2</pre></div></td><td><div class=\"dni-plaintext\"><pre>1</pre></div></td><td><div class=\"dni-plaintext\"><pre>2</pre></div></td></tr><tr><td><div class=\"dni-plaintext\"><pre>2</pre></div></td><td><div class=\"dni-plaintext\"><pre>1</pre></div></td><td><div class=\"dni-plaintext\"><pre>2</pre></div></td></tr><tr><td><div class=\"dni-plaintext\"><pre>2</pre></div></td><td><div class=\"dni-plaintext\"><pre>1</pre></div></td><td><div class=\"dni-plaintext\"><pre>2</pre></div></td></tr><tr><td><div class=\"dni-plaintext\"><pre>3</pre></div></td><td><div class=\"dni-plaintext\"><pre>2</pre></div></td><td><div class=\"dni-plaintext\"><pre>3</pre></div></td></tr><tr><td><div class=\"dni-plaintext\"><pre>3</pre></div></td><td><div class=\"dni-plaintext\"><pre>2</pre></div></td><td><div class=\"dni-plaintext\"><pre>3</pre></div></td></tr><tr><td colspan=\"3\"><i>(250 more)</i></td></tr></tbody></table><style>\r\n",
                            ".dni-code-hint {\r\n",
                            "    font-style: italic;\r\n",
                            "    overflow: hidden;\r\n",
                            "    white-space: nowrap;\r\n",
                            "}\r\n",
                            ".dni-treeview {\r\n",
                            "    white-space: nowrap;\r\n",
                            "}\r\n",
                            ".dni-treeview td {\r\n",
                            "    vertical-align: top;\r\n",
                            "    text-align: start;\r\n",
                            "}\r\n",
                            "details.dni-treeview {\r\n",
                            "    padding-left: 1em;\r\n",
                            "}\r\n",
                            "table td {\r\n",
                            "    text-align: start;\r\n",
                            "}\r\n",
                            "table tr { \r\n",
                            "    vertical-align: top; \r\n",
                            "    margin: 0em 0px;\r\n",
                            "}\r\n",
                            "table tr td pre \r\n",
                            "{ \r\n",
                            "    vertical-align: top !important; \r\n",
                            "    margin: 0em 0px !important;\r\n",
                            "} \r\n",
                            "table th {\r\n",
                            "    text-align: start;\r\n",
                            "}\r\n",
                            "</style>"
                        ]
                    },
                    "metadata": {},
                    "output_type": "display_data"
                }
            ],
            "source": [
                "USE Pampero;\n",
                "-- Las tres dan lo mismo en 2020, pero no dan lo mismo en 2021. Lo verificamos con:\n",
                "SELECT DATEPART(WEEK, FechaPedido) AS Semana, DATEPART(ISO_WEEK, FechaPedido) AS SemISO, DATEDIFF(WEEK,'20210101',FechaPedido)+1 AS SemDiff\n",
                "FROM Pedidos\n",
                "WHERE FechaPedido >= '20210101' AND FechaPedido < '20220101'\n",
                "AND NOT (DATEPART(WEEK, FechaPedido) = DATEPART(ISO_WEEK, FechaPedido) AND DATEPART(ISO_WEEK, FechaPedido) = DATEDIFF(WEEK,'20210101',FechaPedido)+1);\n"
            ]
        }
    ],
    "metadata": {
        "kernelspec": {
            "display_name": ".NET (C#)",
            "language": "C#",
            "name": ".net-csharp"
        },
        "language_info": {
            "name": "sql",
            "version": ""
        },
        "polyglot_notebook": {
            "kernelInfo": {
                "defaultKernelName": "csharp",
                "items": [
                    {
                        "aliases": [],
                        "name": "csharp"
                    },
                    {
                        "aliases": [],
                        "languageName": "T-SQL",
                        "name": "sql-Pampero"
                    }
                ]
            }
        }
    },
    "nbformat": 4,
    "nbformat_minor": 2
}
