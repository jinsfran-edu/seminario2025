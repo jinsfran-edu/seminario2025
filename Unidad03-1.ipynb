{
 "cells": [
  {
   "cell_type": "markdown",
   "id": "4a20d513",
   "metadata": {},
   "source": [
    "# Unidad 03"
   ]
  },
  {
   "cell_type": "code",
   "execution_count": null,
   "id": "92ccd597",
   "metadata": {
    "language_info": {
     "name": "polyglot-notebook"
    },
    "polyglot_notebook": {
     "kernelName": "csharp"
    }
   },
   "outputs": [],
   "source": [
    "#r \"nuget: Microsoft.DotNet.Interactive.SqlServer, *-*\""
   ]
  },
  {
   "cell_type": "code",
   "execution_count": null,
   "id": "7ebe4509",
   "metadata": {
    "language_info": {
     "name": "polyglot-notebook"
    },
    "polyglot_notebook": {
     "kernelName": "csharp"
    }
   },
   "outputs": [],
   "source": [
    "foreach (var line in System.IO.File.ReadLines(\".env\"))\n",
    "{\n",
    "    var parts = line.Split('=');\n",
    "    if (parts.Length == 2)\n",
    "    {\n",
    "        var key = parts[0].Trim();\n",
    "        var value = parts[1].Trim();\n",
    "        Environment.SetEnvironmentVariable(key, value);\n",
    "    }\n",
    "}\n",
    "\n",
    "string connectionString = \"Server=\" + Environment.GetEnvironmentVariable(\"Server\") + \";Database=\" + Environment.GetEnvironmentVariable(\"Database\") + \";User Id=\" + Environment.GetEnvironmentVariable(\"User\") + \";Password=\" + Environment.GetEnvironmentVariable(\"Password\") + \";Encrypt=True;TrustServerCertificate=True;Connection Timeout=30;\";\n"
   ]
  },
  {
   "cell_type": "code",
   "execution_count": null,
   "id": "383f71d7",
   "metadata": {
    "language_info": {
     "name": "polyglot-notebook"
    },
    "polyglot_notebook": {
     "kernelName": "csharp"
    }
   },
   "outputs": [],
   "source": [
    "#!connect mssql --kernel-name Pampero @csharp:connectionString"
   ]
  },
  {
   "cell_type": "markdown",
   "id": "dbdc62f3",
   "metadata": {},
   "source": [
    "## Usando variables"
   ]
  },
  {
   "cell_type": "code",
   "execution_count": null,
   "id": "962b4ee4",
   "metadata": {
    "language_info": {
     "name": "polyglot-notebook"
    },
    "polyglot_notebook": {
     "kernelName": "sql-Pampero"
    }
   },
   "outputs": [],
   "source": [
    "USE Pampero;\n",
    "DECLARE @maxid AS INT = (SELECT MAX(IDPedido) FROM Pedidos);\n",
    "SELECT IDPedido, FechaPedido, IDEmpleado, IDCliente\n",
    "FROM Pedidos\n",
    "WHERE IDPedido = @maxid;"
   ]
  },
  {
   "cell_type": "markdown",
   "id": "06f738ea",
   "metadata": {},
   "source": [
    "## Usando Subconsultas"
   ]
  },
  {
   "cell_type": "code",
   "execution_count": null,
   "id": "c5ca93d7",
   "metadata": {
    "language_info": {
     "name": "polyglot-notebook"
    },
    "polyglot_notebook": {
     "kernelName": "sql-Pampero"
    }
   },
   "outputs": [],
   "source": [
    "SELECT IDPedido, FechaPedido, IDEmpleado, IDCliente\n",
    "FROM Pedidos\n",
    "WHERE IDPedido = (SELECT MAX(O.IDPedido)\n",
    "FROM Pedidos AS O);"
   ]
  },
  {
   "cell_type": "markdown",
   "id": "4c8f57d6",
   "metadata": {},
   "source": [
    "## Comparando por ="
   ]
  },
  {
   "cell_type": "code",
   "execution_count": null,
   "id": "06b0e600",
   "metadata": {
    "language_info": {
     "name": "polyglot-notebook"
    },
    "polyglot_notebook": {
     "kernelName": "sql-Pampero"
    }
   },
   "outputs": [],
   "source": [
    "SELECT IDPedido\n",
    "FROM Pedidos\n",
    "WHERE IDEmpleado =\n",
    "(SELECT E.IDEmpleado\n",
    "FROM Empleados AS E\n",
    "WHERE E.Apellido LIKE 'C%');"
   ]
  },
  {
   "cell_type": "code",
   "execution_count": null,
   "id": "0930b45c",
   "metadata": {
    "language_info": {
     "name": "polyglot-notebook"
    },
    "polyglot_notebook": {
     "kernelName": "sql-Pampero"
    }
   },
   "outputs": [],
   "source": [
    "SELECT IDPedido\n",
    "FROM Pedidos\n",
    "WHERE IDEmpleado =\n",
    "(SELECT E.IDEmpleado\n",
    "FROM Empleados AS E\n",
    "WHERE E.Apellido LIKE 'D%');"
   ]
  },
  {
   "cell_type": "markdown",
   "id": "dffe189a",
   "metadata": {},
   "source": [
    "## Usando IN"
   ]
  },
  {
   "cell_type": "code",
   "execution_count": null,
   "id": "17b8fae5",
   "metadata": {
    "language_info": {
     "name": "polyglot-notebook"
    },
    "polyglot_notebook": {
     "kernelName": "sql-Pampero"
    }
   },
   "outputs": [],
   "source": [
    "SELECT IDPedido\n",
    "FROM Pedidos\n",
    "WHERE IDEmpleado IN\n",
    "(SELECT E.IDEmpleado\n",
    "FROM Empleados AS E\n",
    "WHERE E.Apellido LIKE 'D%');"
   ]
  },
  {
   "cell_type": "markdown",
   "id": "5daf50e4",
   "metadata": {},
   "source": [
    "## Subconsulta correlacionada"
   ]
  },
  {
   "cell_type": "code",
   "execution_count": null,
   "id": "f64b537a",
   "metadata": {
    "language_info": {
     "name": "polyglot-notebook"
    },
    "polyglot_notebook": {
     "kernelName": "sql-Pampero"
    }
   },
   "outputs": [],
   "source": [
    "SELECT IDCliente, IDPedido, FechaPedido, IDEmpleado\n",
    "FROM Pedidos AS P1\n",
    "WHERE IDPedido =\n",
    "(SELECT MAX(P2.IDPedido)\n",
    "FROM Pedidos AS P2\n",
    "WHERE P2.IDCliente = P1.IDCliente);"
   ]
  },
  {
   "cell_type": "markdown",
   "id": "7056e211",
   "metadata": {},
   "source": [
    "## Exists"
   ]
  },
  {
   "cell_type": "code",
   "execution_count": null,
   "id": "aa92e65d",
   "metadata": {
    "language_info": {
     "name": "polyglot-notebook"
    },
    "polyglot_notebook": {
     "kernelName": "sql-Pampero"
    }
   },
   "outputs": [],
   "source": [
    "SELECT IDCliente, NombreEmpresa\n",
    "FROM Clientes AS C\n",
    "WHERE Pais = 'España'\n",
    "AND EXISTS\n",
    "(SELECT * FROM Pedidos AS P\n",
    "WHERE P.IDCliente = C.IDCliente);"
   ]
  },
  {
   "cell_type": "code",
   "execution_count": null,
   "id": "267138ee",
   "metadata": {
    "language_info": {
     "name": "polyglot-notebook"
    },
    "polyglot_notebook": {
     "kernelName": "sql-Pampero"
    }
   },
   "outputs": [],
   "source": [
    "SELECT IDCliente, NombreEmpresa\n",
    "FROM Clientes AS C\n",
    "WHERE pais = 'España'\n",
    "AND NOT EXISTS\n",
    "(SELECT * FROM Pedidos AS P\n",
    "WHERE P.IDCliente = C.IDCliente);"
   ]
  },
  {
   "cell_type": "markdown",
   "id": "878e9ec5",
   "metadata": {},
   "source": [
    "## Con NOT IN"
   ]
  },
  {
   "cell_type": "code",
   "execution_count": null,
   "id": "f81aae8e",
   "metadata": {
    "language_info": {
     "name": "polyglot-notebook"
    },
    "polyglot_notebook": {
     "kernelName": "sql-Pampero"
    }
   },
   "outputs": [],
   "source": [
    "SELECT IDCliente, NombreEmpresa\n",
    "FROM Clientes AS C\n",
    "WHERE pais = 'España'\n",
    "AND IDCliente NOT IN\n",
    "(SELECT IDCliente FROM Pedidos AS P WHERE IDCliente IS NOT NULL);"
   ]
  },
  {
   "cell_type": "markdown",
   "id": "f77c6f88",
   "metadata": {},
   "source": [
    "## Si agrego un Pedido..."
   ]
  },
  {
   "cell_type": "code",
   "execution_count": null,
   "id": "5990f240",
   "metadata": {
    "language_info": {
     "name": "polyglot-notebook"
    },
    "polyglot_notebook": {
     "kernelName": "sql-Pampero"
    }
   },
   "outputs": [],
   "source": [
    "INSERT INTO [Pedidos]\n",
    "([IDCliente], [IDEmpleado], [FechaPedido], [FechaRequerida], [FechaEnvio], [EnvioPor], [Flete],\n",
    "[NombreEnvio], [DireccionEnvio], [CiudadEnvio], [RegionEnvio], [CodigoPostalEnvio], [PaisEnvio])\n",
    "VALUES\n",
    "(NULL, 1, '20090212', '20090212', '20090212', 1, 123.00, \n",
    "'abc', 'abc', 'abc', 'abc', 'abc', 'abc')"
   ]
  },
  {
   "cell_type": "markdown",
   "id": "4c3bd927",
   "metadata": {},
   "source": [
    "## Chequeando NOT NULL"
   ]
  },
  {
   "cell_type": "code",
   "execution_count": null,
   "id": "d0359660",
   "metadata": {
    "language_info": {
     "name": "polyglot-notebook"
    },
    "polyglot_notebook": {
     "kernelName": "sql-Pampero"
    }
   },
   "outputs": [],
   "source": [
    "SELECT IDCliente, NombreEmpresa\n",
    "FROM Clientes AS C\n",
    "WHERE pais = 'España'\n",
    "AND IDCliente NOT IN\n",
    "(SELECT IDCliente FROM Pedidos AS P\n",
    "WHERE IDCliente IS NOT NULL);"
   ]
  },
  {
   "cell_type": "code",
   "execution_count": null,
   "id": "47d6abe2",
   "metadata": {
    "language_info": {
     "name": "polyglot-notebook"
    },
    "polyglot_notebook": {
     "kernelName": "sql-Pampero"
    }
   },
   "outputs": [],
   "source": [
    "DELETE FROM Pedidos WHERE IDCliente IS NULL;"
   ]
  },
  {
   "cell_type": "markdown",
   "id": "4e6545d9",
   "metadata": {},
   "source": [
    "## Division Relacional"
   ]
  },
  {
   "cell_type": "code",
   "execution_count": null,
   "id": "cd0b985b",
   "metadata": {
    "language_info": {
     "name": "polyglot-notebook"
    },
    "polyglot_notebook": {
     "kernelName": "sql-Pampero"
    }
   },
   "outputs": [],
   "source": [
    "SELECT IDEmpleado\n",
    "FROM Empleados\n",
    "WHERE Pais = 'EE.UU.'"
   ]
  },
  {
   "cell_type": "code",
   "execution_count": null,
   "id": "826be43a",
   "metadata": {
    "language_info": {
     "name": "polyglot-notebook"
    },
    "polyglot_notebook": {
     "kernelName": "sql-Pampero"
    }
   },
   "outputs": [],
   "source": [
    "SELECT IDCliente \n",
    "FROM Pedidos\n",
    "WHERE IDEmpleado IN (1, 2, 3, 4, 8)\n",
    "GROUP BY IDCliente\n",
    "HAVING COUNT(DISTINCT IDEmpleado) = 5;"
   ]
  },
  {
   "cell_type": "code",
   "execution_count": null,
   "id": "9e006139",
   "metadata": {
    "language_info": {
     "name": "polyglot-notebook"
    },
    "polyglot_notebook": {
     "kernelName": "sql-Pampero"
    }
   },
   "outputs": [],
   "source": [
    "SELECT IDCliente \n",
    "FROM Pedidos\n",
    "WHERE IDEmpleado IN \n",
    "(SELECT IDEmpleado \n",
    "FROM Empleados \n",
    "WHERE Pais = 'EE.UU.')\n",
    "GROUP BY IDCliente\n",
    "HAVING COUNT(DISTINCT IDEmpleado) = \n",
    "(SELECT COUNT(*) \n",
    "FROM Empleados\n",
    "WHERE Pais = 'EE.UU.');"
   ]
  },
  {
   "cell_type": "code",
   "execution_count": null,
   "id": "a46d0703",
   "metadata": {
    "language_info": {
     "name": "polyglot-notebook"
    },
    "polyglot_notebook": {
     "kernelName": "sql-Pampero"
    }
   },
   "outputs": [],
   "source": [
    "SELECT IDCliente FROM Clientes AS C\n",
    "WHERE NOT EXISTS\n",
    "(SELECT * FROM Empleados AS E\n",
    "WHERE pais = 'EE.UU.'\n",
    "AND NOT EXISTS\n",
    "(SELECT * FROM Pedidos AS P\n",
    "WHERE P.IDCliente = C.IDCliente\n",
    "AND P.IDEmpleado = E.IDEmpleado));"
   ]
  }
 ],
 "metadata": {
  "kernelspec": {
   "display_name": ".NET (C#)",
   "language": "C#",
   "name": ".net-csharp"
  },
  "language_info": {
   "name": "polyglot-notebook"
  },
  "polyglot_notebook": {
   "kernelInfo": {
    "defaultKernelName": "csharp",
    "items": [
     {
      "aliases": [],
      "languageName": "csharp",
      "name": "csharp"
     },
     {
      "aliases": [],
      "languageName": "T-SQL",
      "name": "sql-Pampero"
     }
    ]
   }
  }
 },
 "nbformat": 4,
 "nbformat_minor": 5
}
