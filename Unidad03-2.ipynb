{
 "cells": [
  {
   "cell_type": "markdown",
   "id": "0df8a915",
   "metadata": {},
   "source": [
    "# Unidad 03"
   ]
  },
  {
   "cell_type": "code",
   "execution_count": null,
   "id": "92f4549a",
   "metadata": {
    "language_info": {
     "name": "polyglot-notebook"
    },
    "polyglot_notebook": {
     "kernelName": "csharp"
    }
   },
   "outputs": [],
   "source": [
    "#r \"nuget: Microsoft.DotNet.Interactive.SqlServer, *-*\""
   ]
  },
  {
   "cell_type": "code",
   "execution_count": null,
   "id": "fe20b028",
   "metadata": {
    "language_info": {
     "name": "polyglot-notebook"
    },
    "polyglot_notebook": {
     "kernelName": "csharp"
    }
   },
   "outputs": [],
   "source": [
    "foreach (var line in System.IO.File.ReadLines(\".env\"))\n",
    "{\n",
    "    var parts = line.Split('=');\n",
    "    if (parts.Length == 2)\n",
    "    {\n",
    "        var key = parts[0].Trim();\n",
    "        var value = parts[1].Trim();\n",
    "        Environment.SetEnvironmentVariable(key, value);\n",
    "    }\n",
    "}\n",
    "\n",
    "string connectionString = \"Server=\" + Environment.GetEnvironmentVariable(\"Server\") + \";Database=\" + Environment.GetEnvironmentVariable(\"Database\") + \";User Id=\" + Environment.GetEnvironmentVariable(\"User\") + \";Password=\" + Environment.GetEnvironmentVariable(\"Password\") + \";Encrypt=True;TrustServerCertificate=True;Connection Timeout=30;\";\n"
   ]
  },
  {
   "cell_type": "code",
   "execution_count": null,
   "id": "a0b9ac76",
   "metadata": {
    "language_info": {
     "name": "polyglot-notebook"
    },
    "polyglot_notebook": {
     "kernelName": "csharp"
    }
   },
   "outputs": [],
   "source": [
    "#!connect mssql --kernel-name Pampero @csharp:connectionString"
   ]
  },
  {
   "cell_type": "markdown",
   "id": "b0d48557",
   "metadata": {},
   "source": [
    "## Ejercicios Subconsultas\n",
    "1. Crear un reporte que muestre el nombre del producto y el id del proveedor para todos los productos suministrados por “Exotic Liquids”, “Grandma Kelly's Homestead”, y “Tokyo Traders”. (NombreEmpresa)\n"
   ]
  },
  {
   "cell_type": "code",
   "execution_count": null,
   "id": "93085c09",
   "metadata": {
    "language_info": {
     "name": "polyglot-notebook"
    },
    "polyglot_notebook": {
     "kernelName": "sql-Pampero"
    }
   },
   "outputs": [],
   "source": [
    "SELECT P.NombreProducto, P.IDProveedor\n",
    "FROM Productos P \n",
    "WHERE P.IDProveedor IN \n",
    "    (SELECT PR.IDProveedor\n",
    "    FROM Proveedores PR\n",
    "    WHERE PR.NombreEmpresa IN (\n",
    "    'Exotic Liquids', \n",
    "    'Grandma Kelly''s Homestead', \n",
    "    'Tokyo Traders')\n",
    ");\n"
   ]
  },
  {
   "cell_type": "markdown",
   "id": "39feaa63",
   "metadata": {},
   "source": [
    "2. Crear un reporte que muestre todos los productos por nombre que son de la categoría “Mariscos”"
   ]
  },
  {
   "cell_type": "code",
   "execution_count": null,
   "id": "d81a1108",
   "metadata": {
    "language_info": {
     "name": "polyglot-notebook"
    },
    "polyglot_notebook": {
     "kernelName": "sql-Pampero"
    }
   },
   "outputs": [],
   "source": [
    "SELECT P.NombreProducto\n",
    "FROM Productos P\n",
    "WHERE P.IDCategoria IN \n",
    "    (SELECT C.IDCategoria\n",
    "    FROM Categorias C\n",
    "    WHERE C.NombreCategoria = 'Mariscos');"
   ]
  },
  {
   "cell_type": "markdown",
   "id": "f2848210",
   "metadata": {},
   "source": [
    "3. Crear un reporte que muestre todas las compañias por su nombre, que comercialicen productos de la categoría 8. "
   ]
  },
  {
   "cell_type": "code",
   "execution_count": null,
   "id": "346dcbb1",
   "metadata": {
    "language_info": {
     "name": "polyglot-notebook"
    },
    "polyglot_notebook": {
     "kernelName": "sql-Pampero"
    }
   },
   "outputs": [],
   "source": [
    "SELECT PR.NombreEmpresa\n",
    "FROM Proveedores PR\n",
    "WHERE PR.IDProveedor IN \n",
    "    (SELECT P.IDProveedor\n",
    "    FROM Productos P\n",
    "    WHERE P.IDCategoria = 8);\n"
   ]
  },
  {
   "cell_type": "markdown",
   "id": "e9e09501",
   "metadata": {},
   "source": [
    "4. Crear un reporte que muestre por su nombre a todas las compañías que comercializan productos de la categoría “Mariscos”"
   ]
  },
  {
   "cell_type": "code",
   "execution_count": null,
   "id": "9ce3bc2c",
   "metadata": {
    "language_info": {
     "name": "polyglot-notebook"
    },
    "polyglot_notebook": {
     "kernelName": "sql-Pampero"
    }
   },
   "outputs": [],
   "source": [
    "SELECT PR.nombreempresa\n",
    "FROM Proveedores PR\n",
    "WHERE PR.IDProveedor IN \n",
    "    (SELECT P.IDProveedor\n",
    "    FROM Productos P\n",
    "    WHERE P.IDCategoria IN \n",
    "        (SELECT C.IDCategoria\n",
    "        FROM Categorias C\n",
    "        WHERE C.NombreCategoria = 'Mariscos'));\n"
   ]
  },
  {
   "cell_type": "markdown",
   "id": "ca29416a",
   "metadata": {},
   "source": [
    "## Expresiones de Tabla"
   ]
  },
  {
   "cell_type": "code",
   "execution_count": null,
   "id": "2a03c5b1",
   "metadata": {
    "language_info": {
     "name": "polyglot-notebook"
    },
    "polyglot_notebook": {
     "kernelName": "sql-Pampero"
    }
   },
   "outputs": [],
   "source": [
    "SELECT *\n",
    "FROM (SELECT IDCliente, NombreEmpresa\n",
    "FROM Clientes\n",
    "WHERE Pais = 'EE.UU.') AS USAClies;"
   ]
  },
  {
   "cell_type": "code",
   "execution_count": null,
   "id": "9665c1d2",
   "metadata": {
    "language_info": {
     "name": "polyglot-notebook"
    },
    "polyglot_notebook": {
     "kernelName": "sql-Pampero"
    }
   },
   "outputs": [],
   "source": [
    "SELECT YEAR(FechaPedido) AS ordenanio, COUNT(DISTINCT IDCliente) AS numclies\n",
    "FROM Pedidos\n",
    "GROUP BY ordenanio;"
   ]
  },
  {
   "cell_type": "code",
   "execution_count": null,
   "id": "84ba7a34",
   "metadata": {
    "language_info": {
     "name": "polyglot-notebook"
    },
    "polyglot_notebook": {
     "kernelName": "sql-Pampero"
    }
   },
   "outputs": [],
   "source": [
    "SELECT ordenanio, \n",
    "COUNT(DISTINCT IDCliente) AS numclies\n",
    "FROM (SELECT YEAR(FechaPedido) AS ordenanio, IDCliente\n",
    "FROM Pedidos) AS D\n",
    "GROUP BY ordenanio;"
   ]
  },
  {
   "cell_type": "code",
   "execution_count": null,
   "id": "a20dd785",
   "metadata": {
    "language_info": {
     "name": "polyglot-notebook"
    },
    "polyglot_notebook": {
     "kernelName": "sql-Pampero"
    }
   },
   "outputs": [],
   "source": [
    "SELECT ordenanio, \n",
    "COUNT(DISTINCT IDCliente) AS numclies\n",
    "FROM (SELECT YEAR(FechaPedido), IDCliente\n",
    "FROM Pedidos) AS D(ordenanio, IDCliente)\n",
    "GROUP BY ordenanio;"
   ]
  },
  {
   "cell_type": "code",
   "execution_count": null,
   "id": "7bb311af",
   "metadata": {
    "language_info": {
     "name": "polyglot-notebook"
    },
    "polyglot_notebook": {
     "kernelName": "sql-Pampero"
    }
   },
   "outputs": [],
   "source": [
    "SELECT ordenanio, numcusts\n",
    "FROM (SELECT ordenanio, COUNT(DISTINCT IDCliente) AS numcusts\n",
    "FROM (SELECT YEAR(FechaPedido) AS ordenanio, IDCliente\n",
    "FROM Pedidos) AS D1\n",
    "GROUP BY ordenanio) AS D2\n",
    "WHERE numcusts > 70;"
   ]
  },
  {
   "cell_type": "markdown",
   "id": "28b8446f",
   "metadata": {},
   "source": [
    "| Año  | Clientes Año Actual | Clientes Año Anterior | Crecimiento |\n",
    "|------|---------------------|-----------------------|-------------|\n",
    "| 2019 | 67                  |                       |             |\n",
    "| 2020 | 86                  | 67                    | 19          |\n",
    "| 2021 | 81                  | 86                    | -5          |"
   ]
  },
  {
   "cell_type": "code",
   "execution_count": null,
   "id": "29952a36",
   "metadata": {
    "language_info": {
     "name": "polyglot-notebook"
    },
    "polyglot_notebook": {
     "kernelName": "sql-Pampero"
    }
   },
   "outputs": [],
   "source": [
    "SELECT Cur.ordenanio AS Año, Cur.numcusts AS ClientesAñoActual, Prv.numclies AS ClientesAñoAnterior, Cur.numcusts - Prv.numclies AS Crecimiento\n",
    "FROM (SELECT YEAR(FechaPedido) AS ordenanio, COUNT(DISTINCT IDCliente) AS numcusts\n",
    "FROM Pedidos GROUP BY YEAR(FechaPedido)) AS Cur\n",
    "LEFT OUTER JOIN\n",
    "(SELECT YEAR(FechaPedido) AS ordenanio, COUNT(DISTINCT IDCliente) AS numclies\n",
    "FROM Pedidos GROUP BY YEAR(FechaPedido)) AS Prv\n",
    "ON Cur.ordenanio = Prv.ordenanio + 1;"
   ]
  },
  {
   "cell_type": "code",
   "execution_count": null,
   "id": "d5dfcd76",
   "metadata": {
    "language_info": {
     "name": "polyglot-notebook"
    },
    "polyglot_notebook": {
     "kernelName": "sql-Pampero"
    }
   },
   "outputs": [],
   "source": [
    "WITH UsaClies AS\n",
    "(\n",
    "SELECT IDCliente, NombreEmpresa\n",
    "FROM Clientes\n",
    "WHERE Pais = 'EE.UU.'\n",
    ")\n",
    "SELECT * FROM UsaClies;"
   ]
  },
  {
   "cell_type": "code",
   "execution_count": null,
   "id": "5c7bf8df",
   "metadata": {
    "language_info": {
     "name": "polyglot-notebook"
    },
    "polyglot_notebook": {
     "kernelName": "sql-Pampero"
    }
   },
   "outputs": [],
   "source": [
    "WITH C AS\n",
    "(\n",
    "SELECT YEAR(FechaPedido) AS ordenanio, IDCliente\n",
    "FROM Pedidos\n",
    ")\n",
    "SELECT ordenanio, COUNT(DISTINCT IDCliente) AS numcusts\n",
    "FROM C\n",
    "GROUP BY ordenanio;"
   ]
  },
  {
   "cell_type": "code",
   "execution_count": null,
   "id": "0713947b",
   "metadata": {
    "language_info": {
     "name": "polyglot-notebook"
    },
    "polyglot_notebook": {
     "kernelName": "sql-Pampero"
    }
   },
   "outputs": [],
   "source": [
    "WITH C(ordenanio, IDCliente) AS\n",
    "(\n",
    "SELECT YEAR(FechaPedido), IDCliente\n",
    "FROM Pedidos\n",
    ")\n",
    "SELECT ordenanio, COUNT(DISTINCT IDCliente) AS numcusts\n",
    "FROM C\n",
    "GROUP BY ordenanio;"
   ]
  },
  {
   "cell_type": "code",
   "execution_count": null,
   "id": "1d8300d0",
   "metadata": {
    "language_info": {
     "name": "polyglot-notebook"
    },
    "polyglot_notebook": {
     "kernelName": "sql-Pampero"
    }
   },
   "outputs": [],
   "source": [
    "WITH C1 AS\n",
    "(\n",
    "SELECT YEAR(FechaPedido) AS ordenanio, IDCliente\n",
    "FROM Pedidos\n",
    "),\n",
    "C2 AS\n",
    "(\n",
    "SELECT ordenanio, COUNT(DISTINCT IDCliente) AS numclies\n",
    "FROM C1\n",
    "GROUP BY ordenanio\n",
    ")\n",
    "SELECT ordenanio, numclies\n",
    "FROM C2\n",
    "WHERE numclies > 70;"
   ]
  },
  {
   "cell_type": "markdown",
   "id": "8a1b9e4f",
   "metadata": {},
   "source": [
    "| Año  | Clientes Año Actual | Clientes Año Anterior | Crecimiento |\n",
    "|------|---------------------|-----------------------|-------------|\n",
    "| 2019 | 67                  |                       |             |\n",
    "| 2020 | 86                  | 67                    | 19          |\n",
    "| 2021 | 81                  | 86                    | -5          |"
   ]
  },
  {
   "cell_type": "code",
   "execution_count": null,
   "id": "dc4dba17",
   "metadata": {
    "language_info": {
     "name": "polyglot-notebook"
    },
    "polyglot_notebook": {
     "kernelName": "sql-Pampero"
    }
   },
   "outputs": [],
   "source": [
    "WITH CuentaAnual AS\n",
    "(\n",
    "SELECT YEAR(FechaPedido) AS ordenanio,\n",
    "COUNT(DISTINCT IDCliente) AS numclies\n",
    "FROM Pedidos\n",
    "GROUP BY YEAR(FechaPedido)\n",
    ")\n",
    "SELECT Cur.ordenanio AS Año,\n",
    "Cur.numclies AS ClientesAñoActual, Prv.numclies AS ClientesAñoAnterior,\n",
    "Cur.numclies - Prv.numclies AS Crecimiento\n",
    "FROM CuentaAnual AS Cur\n",
    "LEFT OUTER JOIN CuentaAnual AS Prv\n",
    "ON Cur.ordenanio = Prv.ordenanio + 1;"
   ]
  },
  {
   "cell_type": "code",
   "execution_count": null,
   "id": "e7fc4962",
   "metadata": {
    "language_info": {
     "name": "polyglot-notebook"
    },
    "polyglot_notebook": {
     "kernelName": "sql-Pampero"
    }
   },
   "outputs": [],
   "source": [
    "WITH FactorialCTE (Numero, Factorial) AS\n",
    "(\n",
    "    SELECT 1 Numero, 1 Factorial\n",
    "    UNION ALL\n",
    "    SELECT Numero + 1, Factorial * (Numero + 1)\n",
    "    FROM FactorialCTE\n",
    "    WHERE Numero < 10\n",
    ")\n",
    "SELECT Numero, Factorial\n",
    "FROM FactorialCTE\n",
    "OPTION (MAXRECURSION 0);\n"
   ]
  },
  {
   "cell_type": "code",
   "execution_count": null,
   "id": "ebf051bf",
   "metadata": {
    "language_info": {
     "name": "polyglot-notebook"
    },
    "polyglot_notebook": {
     "kernelName": "sql-Pampero"
    }
   },
   "outputs": [],
   "source": [
    "--Consulta Recursiva para listar al empleado y todos los subordinados en el organigrama hasta el mas bajo en la piramide\n",
    "WITH EmpCTE (IDEmpleado, Nombre, Apellido, puesto, jefeid)\n",
    "AS\n",
    "(\n",
    "SELECT IDEmpleado, Nombre, Apellido, Puesto, JefeID\n",
    "FROM Empleados\n",
    "WHERE IDEmpleado = 5\n",
    "UNION ALL\n",
    "--RECURSIVIDAD\n",
    "SELECT e.IDEmpleado, e.Nombre, e.Apellido, e.Puesto, e.JefeID\n",
    "FROM Empleados AS e JOIN EmpCTE AS m\n",
    "ON e.JefeID = m.IDEmpleado\n",
    ")\n",
    "-- Desplegar ResultSet\n",
    "SELECT * FROM EmpCTE;"
   ]
  },
  {
   "cell_type": "code",
   "execution_count": null,
   "id": "1f1dd963",
   "metadata": {
    "language_info": {
     "name": "polyglot-notebook"
    },
    "polyglot_notebook": {
     "kernelName": "sql-Pampero"
    }
   },
   "outputs": [],
   "source": [
    "--Consulta Recursiva para listar al empleado y todos los subordinados en el organigrama hasta el mas bajo en la piramide\n",
    "WITH EmpCTE (IDEmpleado, Nombre, Apellido, puesto, jefeid)\n",
    "AS\n",
    "(\n",
    "SELECT IDEmpleado, Nombre, Apellido, Puesto, JefeID\n",
    "FROM Empleados\n",
    "WHERE IDEmpleado = 5\n",
    "UNION ALL\n",
    "--RECURSIVIDAD\n",
    "SELECT e.IDEmpleado, e.Nombre, e.Apellido, e.Puesto, e.JefeID\n",
    "FROM Empleados AS e JOIN EmpCTE AS m\n",
    "ON e.IDEmpleado = m.jefeid\n",
    ")\n",
    "-- Desplegar ResultSet\n",
    "SELECT * FROM EmpCTE;"
   ]
  },
  {
   "cell_type": "code",
   "execution_count": null,
   "id": "a4536139",
   "metadata": {
    "language_info": {
     "name": "polyglot-notebook"
    },
    "polyglot_notebook": {
     "kernelName": "sql-Pampero"
    }
   },
   "outputs": [],
   "source": [
    "DROP VIEW IF EXISTS ClientesUSA;\n",
    "GO\n",
    "CREATE VIEW ClientesUSA\n",
    "AS\n",
    "SELECT\n",
    "IDCliente, NombreEmpresa, NombreContacto, PuestoContacto, Direccion,\n",
    "Ciudad, Region, CodigoPostal, Pais, Telefono, Fax\n",
    "FROM Clientes\n",
    "WHERE Pais = 'EE.UU.';\n",
    "GO"
   ]
  },
  {
   "cell_type": "code",
   "execution_count": null,
   "id": "82dbbbed",
   "metadata": {
    "language_info": {
     "name": "polyglot-notebook"
    },
    "polyglot_notebook": {
     "kernelName": "sql-Pampero"
    }
   },
   "outputs": [],
   "source": [
    "SELECT IDCliente, NombreEmpresa, Pais FROM ClientesUSA;"
   ]
  },
  {
   "cell_type": "code",
   "execution_count": null,
   "id": "a00ab832",
   "metadata": {
    "language_info": {
     "name": "polyglot-notebook"
    },
    "polyglot_notebook": {
     "kernelName": "sql-Pampero"
    }
   },
   "outputs": [],
   "source": [
    "DROP FUNCTION IF EXISTS GetClieOrdenes;\n",
    "GO\n",
    "CREATE FUNCTION GetClieOrdenes\n",
    "(@cid AS char(5)) RETURNS TABLE\n",
    "AS\n",
    "RETURN\n",
    "SELECT IDPedido, IDCliente, IDEmpleado, FechaPedido, FechaRequerida,\n",
    "FechaEnvio, EnvioPor, Flete, NombreEnvio, DireccionEnvio, CiudadEnvio,\n",
    "RegionEnvio, CodigoPostalEnvio, PaisEnvio\n",
    "FROM Pedidos\n",
    "WHERE IDCliente = @cid;\n",
    "GO"
   ]
  },
  {
   "cell_type": "code",
   "execution_count": null,
   "id": "b62f3d00",
   "metadata": {
    "language_info": {
     "name": "polyglot-notebook"
    },
    "polyglot_notebook": {
     "kernelName": "sql-Pampero"
    }
   },
   "outputs": [],
   "source": [
    "SELECT IDPedido, IDCliente\n",
    "FROM GetClieOrdenes('ALFKI') AS O;"
   ]
  },
  {
   "cell_type": "code",
   "execution_count": null,
   "id": "0c3ca9d1",
   "metadata": {
    "language_info": {
     "name": "polyglot-notebook"
    },
    "polyglot_notebook": {
     "kernelName": "sql-Pampero"
    }
   },
   "outputs": [],
   "source": [
    "SELECT O.IDPedido, O.IDCliente, DP.IDProducto, DP.Cantidad\n",
    "FROM GetClieOrdenes('ALFKI') AS O\n",
    "JOIN [Detalles Pedido] AS DP\n",
    "ON O.IDPedido = DP.IDPedido;"
   ]
  }
 ],
 "metadata": {
  "kernelspec": {
   "display_name": ".NET (C#)",
   "language": "C#",
   "name": ".net-csharp"
  },
  "language_info": {
   "name": "polyglot-notebook"
  },
  "polyglot_notebook": {
   "kernelInfo": {
    "defaultKernelName": "csharp",
    "items": [
     {
      "aliases": [],
      "name": "csharp"
     },
     {
      "aliases": [],
      "languageName": "pwsh",
      "name": "pwsh"
     },
     {
      "aliases": [],
      "languageName": "T-SQL",
      "name": "sql-Pampero"
     }
    ]
   }
  }
 },
 "nbformat": 4,
 "nbformat_minor": 5
}
