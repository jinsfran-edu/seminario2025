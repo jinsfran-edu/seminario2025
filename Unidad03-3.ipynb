{
 "cells": [
  {
   "cell_type": "markdown",
   "id": "f7b6efd9",
   "metadata": {},
   "source": [
    "# Unidad 03"
   ]
  },
  {
   "cell_type": "code",
   "execution_count": null,
   "id": "df280346",
   "metadata": {
    "language_info": {
     "name": "polyglot-notebook"
    },
    "polyglot_notebook": {
     "kernelName": "csharp"
    }
   },
   "outputs": [],
   "source": [
    "#r \"nuget: Microsoft.DotNet.Interactive.SqlServer, *-*\""
   ]
  },
  {
   "cell_type": "code",
   "execution_count": null,
   "id": "ebdb0cf4",
   "metadata": {
    "language_info": {
     "name": "polyglot-notebook"
    },
    "polyglot_notebook": {
     "kernelName": "csharp"
    }
   },
   "outputs": [],
   "source": [
    "foreach (var line in System.IO.File.ReadLines(\".env\"))\n",
    "{\n",
    "    var parts = line.Split('=');\n",
    "    if (parts.Length == 2)\n",
    "    {\n",
    "        var key = parts[0].Trim();\n",
    "        var value = parts[1].Trim();\n",
    "        Environment.SetEnvironmentVariable(key, value);\n",
    "    }\n",
    "}\n",
    "\n",
    "string connectionString = \"Server=\" + Environment.GetEnvironmentVariable(\"Server\") + \";Database=\" + Environment.GetEnvironmentVariable(\"Database\") + \";User Id=\" + Environment.GetEnvironmentVariable(\"User\") + \";Password=\" + Environment.GetEnvironmentVariable(\"Password\") + \";Encrypt=True;TrustServerCertificate=True;Connection Timeout=30;\";\n"
   ]
  },
  {
   "cell_type": "code",
   "execution_count": null,
   "id": "880e3361",
   "metadata": {
    "language_info": {
     "name": "polyglot-notebook"
    },
    "polyglot_notebook": {
     "kernelName": "csharp"
    }
   },
   "outputs": [],
   "source": [
    "#!connect mssql --kernel-name Pampero @csharp:connectionString"
   ]
  },
  {
   "cell_type": "markdown",
   "id": "e2f374d9",
   "metadata": {},
   "source": [
    "## JOINS"
   ]
  },
  {
   "cell_type": "code",
   "execution_count": null,
   "id": "bba0a50e",
   "metadata": {
    "language_info": {
     "name": "polyglot-notebook"
    },
    "polyglot_notebook": {
     "kernelName": "sql-Pampero"
    }
   },
   "outputs": [],
   "source": [
    "-- ANSI SQL-92\n",
    "SELECT C.IDCliente, E.IDEmpleado\n",
    "FROM Clientes AS C CROSS JOIN Empleados AS E;\n",
    "-- ANSI SQL-86\n",
    "SELECT C.IDCliente, E.IDEmpleado\n",
    "FROM Clientes AS C, Empleados AS E;"
   ]
  },
  {
   "cell_type": "code",
   "execution_count": null,
   "id": "904e41c3",
   "metadata": {
    "language_info": {
     "name": "polyglot-notebook"
    },
    "polyglot_notebook": {
     "kernelName": "sql-Pampero"
    }
   },
   "outputs": [],
   "source": [
    "SELECT E1.IDEmpleado, E1.Nombre, E1.Apellido, E2.IDEmpleado, E2.Nombre, E2.Apellido\n",
    "FROM Empleados AS E1 CROSS JOIN Empleados AS E2;"
   ]
  },
  {
   "cell_type": "code",
   "execution_count": null,
   "id": "1ee512ec",
   "metadata": {
    "language_info": {
     "name": "polyglot-notebook"
    },
    "polyglot_notebook": {
     "kernelName": "sql-Pampero"
    }
   },
   "outputs": [],
   "source": [
    "USE Pampero;\n",
    "DROP TABLE IF EXISTS Digitos;\n",
    "CREATE TABLE Digitos(digito INT NOT NULL PRIMARY KEY);\n",
    "INSERT INTO Digitos(digito)\n",
    "VALUES (0),(1),(2),(3),(4),(5),(6),(7),(8),(9);\n",
    "SELECT digito FROM Digitos;\n",
    "SELECT D3.digito * 100 + D2.digito * 10 + D1.digito + 1 AS n\n",
    "FROM Digitos AS D1\n",
    "CROSS JOIN Digitos AS D2\n",
    "CROSS JOIN Digitos AS D3\n",
    "ORDER BY n;"
   ]
  },
  {
   "cell_type": "code",
   "execution_count": null,
   "id": "ff1e0ec4",
   "metadata": {
    "language_info": {
     "name": "polyglot-notebook"
    },
    "polyglot_notebook": {
     "kernelName": "sql-Pampero"
    }
   },
   "outputs": [],
   "source": [
    "-- ANSI SQL-92\n",
    "SELECT E.IDEmpleado, E.Nombre, E.Apellido, O.IDPedido\n",
    "FROM Empleados AS E JOIN Pedidos AS O ON E.IDEmpleado = O.IDEmpleado;\n",
    "\n",
    "-- ANSI SQL-89\n",
    "SELECT E.IDEmpleado, E.Nombre, E.Apellido, O.IDPedido\n",
    "FROM Empleados AS E, Pedidos AS O\n",
    "WHERE E.IDEmpleado = O.IDEmpleado;"
   ]
  },
  {
   "cell_type": "code",
   "execution_count": null,
   "id": "dc657ba5",
   "metadata": {
    "language_info": {
     "name": "polyglot-notebook"
    },
    "polyglot_notebook": {
     "kernelName": "sql-Pampero"
    }
   },
   "outputs": [],
   "source": [
    "SELECT E1.IDEmpleado, E1.Nombre, E1.Apellido, E2.IDEmpleado, E2.Nombre, E2.Apellido\n",
    "FROM Empleados AS E1 JOIN Empleados AS E2 \n",
    "ON E1.IDEmpleado < E2.IDEmpleado;"
   ]
  },
  {
   "cell_type": "code",
   "execution_count": null,
   "id": "de152880",
   "metadata": {
    "language_info": {
     "name": "polyglot-notebook"
    },
    "polyglot_notebook": {
     "kernelName": "sql-Pampero"
    }
   },
   "outputs": [],
   "source": [
    "SELECT C.IDCliente, C.NombreEmpresa, O.IDPedido, DO.IDProducto, DO.Cantidad\n",
    "FROM Clientes AS C \n",
    "JOIN Pedidos AS O ON C.IDCliente = O.IDCliente\n",
    "JOIN [Detalles Pedido] AS DO ON O.IDPedido = DO.IDPedido;"
   ]
  },
  {
   "cell_type": "code",
   "execution_count": null,
   "id": "02c1bb23",
   "metadata": {
    "language_info": {
     "name": "polyglot-notebook"
    },
    "polyglot_notebook": {
     "kernelName": "sql-Pampero"
    }
   },
   "outputs": [],
   "source": [
    "SELECT C.IDCliente, C.NombreEmpresa, O.IDPedido\n",
    "FROM Clientes AS C LEFT OUTER JOIN Pedidos AS O \n",
    "ON C.IDCliente = O.IDCliente;"
   ]
  },
  {
   "cell_type": "code",
   "execution_count": null,
   "id": "796e2869",
   "metadata": {
    "language_info": {
     "name": "polyglot-notebook"
    },
    "polyglot_notebook": {
     "kernelName": "sql-Pampero"
    }
   },
   "outputs": [],
   "source": [
    "SELECT C.IDCliente, C.NombreEmpresa\n",
    "FROM Clientes AS C\n",
    "WHERE C.IDCliente NOT IN (\n",
    "SELECT O.IDCliente\n",
    "FROM Pedidos AS O\n",
    "WHERE O.IDCliente = C.IDCliente)\n",
    "\n",
    "SELECT C.IDCliente, C.NombreEmpresa\n",
    "FROM Clientes AS C LEFT OUTER JOIN Pedidos AS O \n",
    "ON C.IDCliente = O.IDCliente\n",
    "WHERE O.IDPedido IS NULL;"
   ]
  },
  {
   "cell_type": "code",
   "execution_count": null,
   "id": "99144d92",
   "metadata": {
    "language_info": {
     "name": "polyglot-notebook"
    },
    "polyglot_notebook": {
     "kernelName": "sql-Pampero"
    }
   },
   "outputs": [],
   "source": [
    "/* Crear un reporte que muestre IDPedido, y nombre de la empresa que realizó el pedido, y el nombre y apellido del empleado que lo ingresó. Sólo mostrar pedidos efectuados después del 1 de Enero de 2021 que fueron despachados luego de la fecha requerida. Ordenar por Nombre de empresa */\n",
    "SELECT o.IDPedido, c.NombreEmpresa, e.Nombre, e.Apellido\n",
    "FROM Pedidos o\n",
    "    JOIN Empleados e ON (e.IDEmpleado = o.IDEmpleado)\n",
    "    JOIN Clientes c ON (c.IDCliente = o.IDCliente)\n",
    "WHERE o.FechaEnvio > o.FechaRequerida AND o.FechaPedido > '20210101'\n",
    "ORDER BY c.nombreempresa;"
   ]
  },
  {
   "cell_type": "code",
   "execution_count": null,
   "id": "f5c06ac8",
   "metadata": {
    "language_info": {
     "name": "polyglot-notebook"
    },
    "polyglot_notebook": {
     "kernelName": "sql-Pampero"
    }
   },
   "outputs": [],
   "source": [
    "SELECT DATEADD(day, n-1, CAST('20190101' AS DATE)) AS FechaPedido\n",
    "FROM Nums\n",
    "WHERE n <= DATEDIFF(day, '20190101', '20211231') + 1\n",
    "ORDER BY FechaPedido;\n",
    "\n",
    "SELECT DATEADD(day, Nums.n - 1, CAST('20190101' AS DATE)) AS FechaPedido,\n",
    "O.IDPedido, O.IDCliente, O.IDEmpleado\n",
    "FROM Nums\n",
    "LEFT OUTER JOIN Pedidos AS O\n",
    "ON DATEADD(day, Nums.n - 1, CAST('20190101' AS DATE)) = DATETRUNC(DAY, O.FechaPedido)\n",
    "WHERE Nums.n <= DATEDIFF(day, '20190101', '20211231') + 1\n",
    "ORDER BY FechaPedido;"
   ]
  },
  {
   "cell_type": "code",
   "execution_count": null,
   "id": "aec74948",
   "metadata": {
    "language_info": {
     "name": "polyglot-notebook"
    },
    "polyglot_notebook": {
     "kernelName": "sql-Pampero"
    }
   },
   "outputs": [],
   "source": [
    "SELECT C.IDCliente, COUNT(*) AS numordenes\n",
    "FROM Clientes AS C\n",
    "LEFT OUTER JOIN Pedidos AS O\n",
    "ON C.IDCliente = O.IDCliente\n",
    "GROUP BY C.IDCliente;"
   ]
  },
  {
   "cell_type": "code",
   "execution_count": null,
   "id": "09eee8ba",
   "metadata": {
    "language_info": {
     "name": "polyglot-notebook"
    },
    "polyglot_notebook": {
     "kernelName": "sql-Pampero"
    }
   },
   "outputs": [],
   "source": [
    "SELECT C.IDCliente, COUNT(O.IDPedido) AS numordenes\n",
    "FROM Clientes AS C\n",
    "LEFT OUTER JOIN Pedidos AS O\n",
    "ON C.IDCliente = O.IDCliente\n",
    "GROUP BY C.IDCliente;"
   ]
  }
 ],
 "metadata": {
  "kernelspec": {
   "display_name": ".NET (C#)",
   "language": "C#",
   "name": ".net-csharp"
  },
  "language_info": {
   "name": "polyglot-notebook"
  },
  "polyglot_notebook": {
   "kernelInfo": {
    "defaultKernelName": "csharp",
    "items": [
     {
      "aliases": [],
      "name": "csharp"
     },
     {
      "aliases": [],
      "languageName": "T-SQL",
      "name": "sql-Pampero"
     }
    ]
   }
  }
 },
 "nbformat": 4,
 "nbformat_minor": 5
}
