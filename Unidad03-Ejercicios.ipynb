{
 "cells": [
  {
   "cell_type": "markdown",
   "id": "c1f8ca0b",
   "metadata": {},
   "source": [
    "# Unidad 03 - Ejercicios"
   ]
  },
  {
   "cell_type": "code",
   "execution_count": null,
   "id": "479384c0",
   "metadata": {
    "language_info": {
     "name": "polyglot-notebook"
    },
    "polyglot_notebook": {
     "kernelName": "csharp"
    }
   },
   "outputs": [],
   "source": [
    "#r \"nuget: Microsoft.DotNet.Interactive.SqlServer, *-*\""
   ]
  },
  {
   "cell_type": "code",
   "execution_count": null,
   "id": "216d42f3",
   "metadata": {
    "language_info": {
     "name": "polyglot-notebook"
    },
    "polyglot_notebook": {
     "kernelName": "csharp"
    }
   },
   "outputs": [],
   "source": [
    "foreach (var line in System.IO.File.ReadLines(\".env\"))\n",
    "{\n",
    "    var parts = line.Split('=');\n",
    "    if (parts.Length == 2)\n",
    "    {\n",
    "        var key = parts[0].Trim();\n",
    "        var value = parts[1].Trim();\n",
    "        Environment.SetEnvironmentVariable(key, value);\n",
    "    }\n",
    "}\n",
    "\n",
    "string connectionString = \"Server=\" + Environment.GetEnvironmentVariable(\"Server\") + \";Database=\" + Environment.GetEnvironmentVariable(\"Database\") + \";User Id=\" + Environment.GetEnvironmentVariable(\"User\") + \";Password=\" + Environment.GetEnvironmentVariable(\"Password\") + \";Encrypt=True;TrustServerCertificate=True;Connection Timeout=30;\";\n"
   ]
  },
  {
   "cell_type": "code",
   "execution_count": null,
   "id": "4297b6be",
   "metadata": {
    "language_info": {
     "name": "polyglot-notebook"
    },
    "polyglot_notebook": {
     "kernelName": "csharp"
    }
   },
   "outputs": [],
   "source": [
    "#!connect mssql --kernel-name Pampero @csharp:connectionString"
   ]
  },
  {
   "cell_type": "markdown",
   "id": "40305840",
   "metadata": {},
   "source": [
    "1)\tEscriba una consulta que devuelva los pedidos realizados en el último día de actividad que se encuentre en la tabla Pedidos\n"
   ]
  },
  {
   "cell_type": "code",
   "execution_count": null,
   "id": "c7e95aa1",
   "metadata": {
    "language_info": {
     "name": "polyglot-notebook"
    },
    "polyglot_notebook": {
     "kernelName": "sql-Pampero"
    }
   },
   "outputs": [],
   "source": [
    "SELECT IDPedido, IDCliente, IDEmpleado, FechaPedido\n",
    "FROM Pedidos AS P\n",
    "WHERE P.FechaPedido >= (SELECT MAX(DATETRUNC(DAY, PI.FechaPedido)) FROM Pedidos AS PI);"
   ]
  },
  {
   "cell_type": "markdown",
   "id": "621f53eb",
   "metadata": {},
   "source": [
    "2)\tEscribir una consulta que devuelva todos los pedidos realizados por el cliente/s que realizó el mayor número de pedidos.\n"
   ]
  },
  {
   "cell_type": "code",
   "execution_count": null,
   "id": "4c7baeb1",
   "metadata": {
    "language_info": {
     "name": "polyglot-notebook"
    },
    "polyglot_notebook": {
     "kernelName": "sql-Pampero"
    }
   },
   "outputs": [],
   "source": [
    "SELECT IDCliente, IDPedido, FechaPedido, IDEmpleado\n",
    "FROM Pedidos\n",
    "WHERE IDCliente IN\n",
    "(SELECT TOP (1) WITH TIES P.IDCliente\n",
    "FROM Pedidos AS P\n",
    "GROUP BY P.IDCliente\n",
    "ORDER BY COUNT(*) DESC);"
   ]
  },
  {
   "cell_type": "markdown",
   "id": "cb06174d",
   "metadata": {},
   "source": [
    "3)\tEscriba una consulta que devuelva los empleados que no registraron pedidos luego del 1 de mayo de 2021\n"
   ]
  },
  {
   "cell_type": "code",
   "execution_count": null,
   "id": "56cc0f27",
   "metadata": {
    "language_info": {
     "name": "polyglot-notebook"
    },
    "polyglot_notebook": {
     "kernelName": "sql-Pampero"
    }
   },
   "outputs": [],
   "source": [
    "SELECT IDEmpleado, Nombre, Apellido\n",
    "FROM Empleados\n",
    "WHERE IDEmpleado NOT IN\n",
    "(SELECT P.IDEmpleado\n",
    "FROM Pedidos AS P\n",
    "WHERE P.FechaPedido >= '20210501');"
   ]
  },
  {
   "cell_type": "markdown",
   "id": "933263e9",
   "metadata": {},
   "source": [
    "4)\tEscriba una consulta que devuelva los países donde hay clientes, pero no hay empleados."
   ]
  },
  {
   "cell_type": "code",
   "execution_count": null,
   "id": "4898a9ae",
   "metadata": {
    "language_info": {
     "name": "polyglot-notebook"
    },
    "polyglot_notebook": {
     "kernelName": "sql-Pampero"
    }
   },
   "outputs": [],
   "source": [
    "SELECT DISTINCT C.Pais\n",
    "FROM Clientes AS C\n",
    "WHERE C.Pais NOT IN\n",
    "(SELECT E.Pais FROM Empleados AS E);"
   ]
  },
  {
   "cell_type": "markdown",
   "id": "bda678bd",
   "metadata": {},
   "source": [
    "5)\tEscriba una consulta que devuelva para cada cliente todos los pedidos realizados en el último día de actividad de ese cliente."
   ]
  },
  {
   "cell_type": "code",
   "execution_count": null,
   "id": "97182e0f",
   "metadata": {
    "language_info": {
     "name": "polyglot-notebook"
    },
    "polyglot_notebook": {
     "kernelName": "sql-Pampero"
    }
   },
   "outputs": [],
   "source": [
    "SELECT IDCliente, IDPedido, FechaPedido, IDEmpleado\n",
    "FROM Pedidos AS P1\n",
    "WHERE DATETRUNC(DAY, FechaPedido) =\n",
    "(SELECT MAX(DATETRUNC(DAY, PS.FechaPedido))\n",
    "FROM Pedidos AS PS\n",
    "WHERE PS.IDCliente = P1.IDCliente)\n",
    "ORDER BY IDCliente;"
   ]
  },
  {
   "cell_type": "markdown",
   "id": "e7978a73",
   "metadata": {},
   "source": [
    "6)\tEscriba una consulta que devuelva los clientes que realizaron pedidos en 2020, pero no en 2021."
   ]
  },
  {
   "cell_type": "code",
   "execution_count": null,
   "id": "8f224909",
   "metadata": {
    "language_info": {
     "name": "polyglot-notebook"
    },
    "polyglot_notebook": {
     "kernelName": "sql-Pampero"
    }
   },
   "outputs": [],
   "source": [
    "SELECT IDCliente, NombreEmpresa\n",
    "FROM Clientes AS C\n",
    "WHERE EXISTS\n",
    "(SELECT *\n",
    "FROM Pedidos AS P1\n",
    "WHERE P1.IDCliente = C.IDCliente\n",
    "AND P1.FechaPedido >= '20200101'\n",
    "AND P1.FechaPedido < '20210101')\n",
    "AND NOT EXISTS\n",
    "(SELECT *\n",
    "FROM Pedidos AS P2\n",
    "WHERE P2.IDCliente = C.IDCliente\n",
    "AND P2.FechaPedido >= '20210101'\n",
    "AND P2.FechaPedido < '20220101');"
   ]
  },
  {
   "cell_type": "markdown",
   "id": "1984be13",
   "metadata": {},
   "source": [
    "7)\tEscriba una consulta que devuelva los clientes que pidieron el producto 12"
   ]
  },
  {
   "cell_type": "code",
   "execution_count": null,
   "id": "d66423d2",
   "metadata": {
    "language_info": {
     "name": "polyglot-notebook"
    },
    "polyglot_notebook": {
     "kernelName": "sql-Pampero"
    }
   },
   "outputs": [],
   "source": [
    "SELECT IDCliente, NombreEmpresa\n",
    "FROM Clientes AS C\n",
    "WHERE EXISTS\n",
    "(SELECT *\n",
    "FROM Pedidos AS P\n",
    "WHERE P.IDCliente = C.IDCliente\n",
    "AND EXISTS\n",
    "(SELECT *\n",
    "FROM [Detalles Pedido] AS DP\n",
    "WHERE DP.IDPedido = P.IDPedido\n",
    "AND DP.IDProducto = 12));"
   ]
  },
  {
   "cell_type": "markdown",
   "id": "be908fb3",
   "metadata": {},
   "source": [
    "8)\tEscriba una consulta que devuelva para cada cliente y mes el total vendido, y el total acumulado hasta ese momento."
   ]
  },
  {
   "cell_type": "code",
   "execution_count": null,
   "id": "4be16452",
   "metadata": {
    "language_info": {
     "name": "polyglot-notebook"
    },
    "polyglot_notebook": {
     "kernelName": "sql-Pampero"
    }
   },
   "outputs": [],
   "source": [
    "WITH ClientesMes AS\n",
    "(SELECT\n",
    "    P.IDCliente,\n",
    "    DATETRUNC(MONTH, FechaPedido) AS MesOrden,\n",
    "    SUM(DP.Cantidad) AS cantidad\n",
    "FROM Pedidos AS P\n",
    "    JOIN [Detalles Pedido] AS DP\n",
    "    ON DP.IDPedido = P.IDPedido\n",
    "GROUP BY IDCliente, DATETRUNC(MONTH, FechaPedido)\n",
    ")\n",
    "\n",
    "SELECT\n",
    "    IDCliente,\n",
    "    MesOrden,\n",
    "    cantidad,\n",
    "    SUM(cantidad) OVER (PARTITION BY IDCliente ORDER BY MesOrden) AS cantacum\n",
    "FROM ClientesMes\n",
    "ORDER BY IDCliente, MesOrden;"
   ]
  },
  {
   "cell_type": "code",
   "execution_count": null,
   "id": "b07da399",
   "metadata": {
    "language_info": {
     "name": "polyglot-notebook"
    },
    "polyglot_notebook": {
     "kernelName": "sql-Pampero"
    }
   },
   "outputs": [],
   "source": [
    "WITH ClientesMes AS\n",
    "(SELECT\n",
    "    P.IDCliente,\n",
    "    DATE_BUCKET(MONTH, 1, FechaPedido) AS MesOrden,\n",
    "    SUM(DP.Cantidad) AS cantidad\n",
    "FROM Pedidos AS P\n",
    "    JOIN [Detalles Pedido] AS DP\n",
    "    ON DP.IDPedido = P.IDPedido\n",
    "GROUP BY IDCliente, DATE_BUCKET(MONTH, 1, FechaPedido)\n",
    ")\n",
    "\n",
    "SELECT\n",
    "    IDCliente,\n",
    "    MesOrden,\n",
    "    cantidad,\n",
    "    SUM(cantidad) OVER (PARTITION BY IDCliente ORDER BY MesOrden) AS cantacum\n",
    "FROM ClientesMes\n",
    "ORDER BY IDCliente, MesOrden;"
   ]
  },
  {
   "cell_type": "code",
   "execution_count": null,
   "id": "77e92114",
   "metadata": {
    "language_info": {
     "name": "polyglot-notebook"
    },
    "polyglot_notebook": {
     "kernelName": "sql-Pampero"
    }
   },
   "outputs": [],
   "source": [
    "SELECT IDCliente, MesOrden, cantidad,\n",
    "(SELECT SUM(O2.cantidad)\n",
    "FROM ClientesOrdenes AS O2\n",
    "WHERE O2.IDCliente = O1.IDCliente\n",
    "AND O2.MesOrden <= O1.MesOrden) AS cantacum\n",
    "FROM ClientesOrdenes AS O1\n",
    "ORDER BY IDCliente, MesOrden;"
   ]
  },
  {
   "cell_type": "markdown",
   "id": "f7124c1e",
   "metadata": {},
   "source": [
    "9)\t\n",
    "a.\tEscribir una consulta que genere cinco copias de cada empleado (ID, nombre, apellido, nro de copia)"
   ]
  },
  {
   "cell_type": "code",
   "execution_count": null,
   "id": "a0b542c3",
   "metadata": {
    "language_info": {
     "name": "polyglot-notebook"
    },
    "polyglot_notebook": {
     "kernelName": "sql-Pampero"
    }
   },
   "outputs": [],
   "source": [
    "SELECT E.IDEmpleado, E.Nombre, E.Apellido, N.n\n",
    "FROM Empleados AS E\n",
    "CROSS JOIN dbo.Nums AS N\n",
    "WHERE N.n <= 5\n",
    "ORDER BY IDEmpleado, n;"
   ]
  },
  {
   "cell_type": "code",
   "execution_count": null,
   "id": "d61f4f7b",
   "metadata": {
    "language_info": {
     "name": "polyglot-notebook"
    },
    "polyglot_notebook": {
     "kernelName": "sql-Pampero"
    }
   },
   "outputs": [],
   "source": [
    "SELECT E.IDEmpleado, E.Nombre, E.Apellido, N.value as n\n",
    "FROM Empleados AS E\n",
    "CROSS JOIN GENERATE_SERIES(1, 5) AS N /* Pag 67 del apunte */\n",
    "ORDER BY IDEmpleado, value;"
   ]
  },
  {
   "cell_type": "markdown",
   "id": "3833975d",
   "metadata": {},
   "source": [
    "b.\tEscribir una consulta que devuelva una fila para cada empleado y día entre 12/06/2021 y 16/06/2021 (ID, día)"
   ]
  },
  {
   "cell_type": "code",
   "execution_count": null,
   "id": "36337c49",
   "metadata": {
    "language_info": {
     "name": "polyglot-notebook"
    },
    "polyglot_notebook": {
     "kernelName": "sql-Pampero"
    }
   },
   "outputs": [],
   "source": [
    "SELECT E.IDEmpleado,\n",
    "DATEADD(day, D.n - 1, CAST('20210612' AS DATE)) AS dt\n",
    "FROM Empleados AS E\n",
    "CROSS JOIN dbo.Nums AS D\n",
    "WHERE D.n <= DATEDIFF(day, '20210612', '20210616') + 1\n",
    "ORDER BY IDEmpleado, dt;"
   ]
  },
  {
   "cell_type": "code",
   "execution_count": null,
   "id": "2ee9b870",
   "metadata": {
    "language_info": {
     "name": "polyglot-notebook"
    },
    "polyglot_notebook": {
     "kernelName": "sql-Pampero"
    }
   },
   "outputs": [],
   "source": [
    "SELECT E.IDEmpleado,\n",
    "DATEADD(day, D.[value] - 1, CAST('20210612' AS DATE)) AS dt\n",
    "FROM Empleados AS E\n",
    "CROSS JOIN GENERATE_SERIES(1, DATEDIFF(day, '20210612', '20210616') + 1)  AS D\n",
    "ORDER BY IDEmpleado, dt;"
   ]
  },
  {
   "cell_type": "markdown",
   "id": "f0432039",
   "metadata": {},
   "source": [
    "10)\tExplique qué está mal en la siguiente consulta y escriba una alternativa correcta:\n",
    "```\n",
    "SELECT Clientes.IDCliente, Clientes.Nombreempresa, Pedidos.IDPedido, Pedidos.FechaPedido\n",
    "FROM Clientes AS C\n",
    "INNER JOIN Pedidos AS P\n",
    "ON Clientes.IDCliente = Pedidos.IDCliente;\n",
    "```"
   ]
  },
  {
   "cell_type": "code",
   "execution_count": null,
   "id": "27d2b5c1",
   "metadata": {
    "language_info": {
     "name": "polyglot-notebook"
    },
    "polyglot_notebook": {
     "kernelName": "sql-Pampero"
    }
   },
   "outputs": [],
   "source": [
    "-- Cuidado siempre con los Alias\n",
    "SELECT C.IDCliente, C.Nombreempresa, P.IDPedido, P.FechaPedido\n",
    "FROM Clientes AS C\n",
    "INNER JOIN Pedidos AS P\n",
    "ON C.IDCliente = P.IDCliente;"
   ]
  },
  {
   "cell_type": "markdown",
   "id": "8017ad1b",
   "metadata": {},
   "source": [
    "11)\tDevolver los clientes de Estados Unidos (EE.UU.), y para cada cliente el total de pedidos generados y las cantidades totales pedidas (IDCliente, cant pedidos, cantidad total)"
   ]
  },
  {
   "cell_type": "code",
   "execution_count": null,
   "id": "e05aad2e",
   "metadata": {
    "language_info": {
     "name": "polyglot-notebook"
    },
    "polyglot_notebook": {
     "kernelName": "sql-Pampero"
    }
   },
   "outputs": [],
   "source": [
    "SELECT C.IDCliente, COUNT(DISTINCT P.IDPedido) AS numordenes, SUM(DP.Cantidad) AS cantidadtotal\n",
    "FROM Clientes AS C\n",
    "INNER JOIN Pedidos AS P\n",
    "ON P.IDCliente = C.IDCliente\n",
    "INNER JOIN [Detalles Pedido] AS DP\n",
    "ON DP.IDPedido = P.IDPedido\n",
    "WHERE C.Pais = 'EE.UU.'\n",
    "GROUP BY C.IDCliente;"
   ]
  },
  {
   "cell_type": "markdown",
   "id": "4989242c",
   "metadata": {},
   "source": [
    "12)\tDevolver una lista de clientes (ID, nombreempresa) y sus pedidos (ID, FechaPedido). Incluir a los clientes que no hayan generado pedidos."
   ]
  },
  {
   "cell_type": "code",
   "execution_count": null,
   "id": "a3334b3a",
   "metadata": {
    "language_info": {
     "name": "polyglot-notebook"
    },
    "polyglot_notebook": {
     "kernelName": "sql-Pampero"
    }
   },
   "outputs": [],
   "source": [
    "SELECT C.IDCliente, C.NombreEmpresa, P.IDPedido, P.FechaPedido\n",
    "FROM Clientes AS C\n",
    "LEFT OUTER JOIN Pedidos AS P\n",
    "ON P.IDCliente = C.IDCliente;"
   ]
  },
  {
   "cell_type": "markdown",
   "id": "1cebdff9",
   "metadata": {},
   "source": [
    "13)\tDevolver una lista de los clientes (ID, nombreempres) que no hayan generado pedidos."
   ]
  },
  {
   "cell_type": "code",
   "execution_count": null,
   "id": "51dc192f",
   "metadata": {
    "language_info": {
     "name": "polyglot-notebook"
    },
    "polyglot_notebook": {
     "kernelName": "sql-Pampero"
    }
   },
   "outputs": [],
   "source": [
    "SELECT C.IDCliente, C.NombreEmpresa\n",
    "FROM Clientes AS C\n",
    "LEFT OUTER JOIN Pedidos AS P\n",
    "ON P.IDCliente = C.IDCliente\n",
    "WHERE P.IDPedido IS NULL;"
   ]
  },
  {
   "cell_type": "markdown",
   "id": "7e060650",
   "metadata": {},
   "source": [
    "14)\tDevolver una lista de clientes (ID, nombreempresa) y sus pedidos (ID, FechaPedido), con aquellos clientes que hayan efectuado pedidos el 12/02/2021."
   ]
  },
  {
   "cell_type": "code",
   "execution_count": null,
   "id": "ac1c5bbf",
   "metadata": {
    "language_info": {
     "name": "polyglot-notebook"
    },
    "polyglot_notebook": {
     "kernelName": "sql-Pampero"
    }
   },
   "outputs": [],
   "source": [
    "SELECT C.IDCliente, C.NombreEmpresa, P.IDPedido, P.FechaPedido\n",
    "FROM Clientes AS C\n",
    "JOIN Pedidos AS P\n",
    "ON P.IDCliente = C.IDCliente\n",
    "WHERE P.FechaPedido >= '20210212'\n",
    "AND P.FechaPedido < '20210213';"
   ]
  },
  {
   "cell_type": "markdown",
   "id": "cac8c4c3",
   "metadata": {},
   "source": [
    "15)\tDevolver una lista de clientes (ID, nombreempresa) y sus pedidos (ID, FechaPedido), con TODOS los clientes. Para aquellos clientes que hayan efectuado pedidos el 12/02/2021, deberán aparecer los datos de sus pedidos."
   ]
  },
  {
   "cell_type": "code",
   "execution_count": null,
   "id": "3d23890e",
   "metadata": {
    "language_info": {
     "name": "polyglot-notebook"
    },
    "polyglot_notebook": {
     "kernelName": "sql-Pampero"
    }
   },
   "outputs": [],
   "source": [
    "SELECT C.IDCliente, C.NombreEmpresa, P.IDPedido, P.FechaPedido\n",
    "FROM Clientes AS C\n",
    "LEFT OUTER JOIN Pedidos AS P\n",
    "ON P.IDCliente = C.IDCliente AND P.FechaPedido >= '20210212' AND P.FechaPedido < '20210213';"
   ]
  },
  {
   "cell_type": "markdown",
   "id": "c4bdd144",
   "metadata": {},
   "source": [
    "16)\tExplique por qué la siguiente no es una solución correcta al ejercicio 15\n",
    "```\n",
    "SELECT C.IDCliente, C.NombreEmpresa, P.IDPedido, P.FechaPedido\n",
    "FROM Clientes AS C\n",
    "LEFT OUTER JOIN Pedidos AS P\n",
    "ON P.IDCliente = C.IDCliente\n",
    "WHERE P.FechaPedido = '20210212'\n",
    "OR P.IDPedido IS NULL;\n",
    "```"
   ]
  },
  {
   "cell_type": "code",
   "execution_count": null,
   "metadata": {
    "language_info": {
     "name": "polyglot-notebook"
    },
    "polyglot_notebook": {
     "kernelName": "sql-Pampero"
    }
   },
   "outputs": [],
   "source": [
    "SELECT C.IDCliente, C.NombreEmpresa, P.IDPedido, P.FechaPedido\n",
    "FROM Clientes AS C\n",
    "LEFT OUTER JOIN Pedidos AS P\n",
    "ON P.IDCliente = C.IDCliente\n",
    "WHERE P.FechaPedido >= '20210212' AND P.FechaPedido < '20210213'\n",
    "OR P.IDPedido IS NULL;\n",
    "\n",
    "/* Corrigiendo el problema con el campo fecha de todos modos la consulta no es correcta ya que\n",
    "   se está utilizando un LEFT JOIN y la condición de fecha en el WHERE filtra los resultados\n",
    "   de la tabla Pedidos, lo que provoca que no se muestren los clientes sin pedidos en esa fecha.\n",
    "   Para solucionar esto, se debe mover la condición de fecha a la cláusula ON del JOIN. */\n"
   ]
  },
  {
   "cell_type": "markdown",
   "id": "a7b21dee",
   "metadata": {},
   "source": [
    "17)\tDevolver una lista de TODOS los clientes y para cada uno, agregar una columna con Sí o No, dependiendo de si el cliente generó un pedido el 12/02/2021"
   ]
  },
  {
   "cell_type": "code",
   "execution_count": null,
   "id": "07cc4528",
   "metadata": {
    "language_info": {
     "name": "polyglot-notebook"
    },
    "polyglot_notebook": {
     "kernelName": "sql-Pampero"
    }
   },
   "outputs": [],
   "source": [
    "SELECT DISTINCT C.IDCliente, C.NombreEmpresa,\n",
    "CASE WHEN P.IDPedido IS NOT NULL THEN 'Si' ELSE 'No' END AS Ordenel20210212\n",
    "FROM Clientes AS C\n",
    "LEFT OUTER JOIN Pedidos AS P\n",
    "ON P.IDCliente = C.IDCliente\n",
    "AND P.FechaPedido >= '20210212' AND P.FechaPedido < '20210213';"
   ]
  }
 ],
 "metadata": {
  "kernelspec": {
   "display_name": ".NET (C#)",
   "language": "C#",
   "name": ".net-csharp"
  },
  "language_info": {
   "name": "polyglot-notebook"
  },
  "polyglot_notebook": {
   "kernelInfo": {
    "defaultKernelName": "csharp",
    "items": [
     {
      "aliases": [],
      "name": "csharp"
     },
     {
      "aliases": [],
      "languageName": "T-SQL",
      "name": "sql-Pampero"
     }
    ]
   }
  }
 },
 "nbformat": 4,
 "nbformat_minor": 5
}
