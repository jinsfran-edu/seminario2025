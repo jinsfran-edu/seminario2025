{
 "cells": [
  {
   "cell_type": "markdown",
   "id": "4a20d513",
   "metadata": {},
   "source": [
    "# Unidad 04"
   ]
  },
  {
   "cell_type": "code",
   "execution_count": null,
   "id": "92ccd597",
   "metadata": {
    "language_info": {
     "name": "polyglot-notebook"
    },
    "polyglot_notebook": {
     "kernelName": "csharp"
    }
   },
   "outputs": [],
   "source": [
    "#r \"nuget: Microsoft.DotNet.Interactive.SqlServer, *-*\""
   ]
  },
  {
   "cell_type": "code",
   "execution_count": null,
   "id": "7ebe4509",
   "metadata": {
    "language_info": {
     "name": "polyglot-notebook"
    },
    "polyglot_notebook": {
     "kernelName": "csharp"
    }
   },
   "outputs": [],
   "source": [
    "foreach (var line in System.IO.File.ReadLines(\".env\"))\n",
    "{\n",
    "    var parts = line.Split('=');\n",
    "    if (parts.Length == 2)\n",
    "    {\n",
    "        var key = parts[0].Trim();\n",
    "        var value = parts[1].Trim();\n",
    "        Environment.SetEnvironmentVariable(key, value);\n",
    "    }\n",
    "}\n",
    "\n",
    "string connectionString = \"Server=\" + Environment.GetEnvironmentVariable(\"Server\") + \";Database=\" + Environment.GetEnvironmentVariable(\"Database\") + \";User Id=\" + Environment.GetEnvironmentVariable(\"User\") + \";Password=\" + Environment.GetEnvironmentVariable(\"Password\") + \";Encrypt=True;TrustServerCertificate=True;Connection Timeout=30;\";\n"
   ]
  },
  {
   "cell_type": "code",
   "execution_count": null,
   "id": "383f71d7",
   "metadata": {
    "language_info": {
     "name": "polyglot-notebook"
    },
    "polyglot_notebook": {
     "kernelName": "csharp"
    }
   },
   "outputs": [],
   "source": [
    "#!connect mssql --kernel-name Pampero @csharp:connectionString"
   ]
  },
  {
   "cell_type": "markdown",
   "id": "5326719e",
   "metadata": {},
   "source": [
    "## Busco obtener lo mismo que en esta tabla\n",
    "|IDCliente|IDPedido|val       |pctcliente|\n",
    "|---------|--------|----------|----------|\n",
    "|ALFKI|10643|814.50|19.06|\n",
    "|ALFKI|10692|878.00|20.55|\n",
    "|ALFKI|10702|330.00|7.72|\n",
    "|ALFKI|10835|845.80|19.79|\n",
    "|ALFKI|10952|471.20|11.03|\n",
    "|ALFKI|11011|933.50|21.85|"
   ]
  },
  {
   "cell_type": "code",
   "execution_count": null,
   "metadata": {
    "language_info": {
     "name": "polyglot-notebook"
    },
    "polyglot_notebook": {
     "kernelName": "sql-Pampero"
    }
   },
   "outputs": [],
   "source": [
    "SELECT IDCliente, IDPedido, val\n",
    "FROM ValoresPedido\n",
    "WHERE IDCliente = 'ALFKI'; \n",
    "\n",
    "SELECT SUM(val) as Total\n",
    "FROM ValoresPedido\n",
    "WHERE IDCliente = 'ALFKI'\n",
    ";"
   ]
  },
  {
   "cell_type": "code",
   "execution_count": null,
   "metadata": {
    "language_info": {
     "name": "polyglot-notebook"
    },
    "polyglot_notebook": {
     "kernelName": "sql-Pampero"
    }
   },
   "outputs": [],
   "source": [
    "SELECT IDCliente, IDPedido, val, \n",
    "CAST(val/(SELECT SUM(val) FROM ValoresPedido WHERE IDCliente = 'ALFKI')*100.0 AS NUMERIC(5,2)) AS Porcentaje\n",
    "FROM ValoresPedido\n",
    "WHERE IDCliente = 'ALFKI'; "
   ]
  },
  {
   "cell_type": "markdown",
   "id": "dbdc62f3",
   "metadata": {},
   "source": [
    "## Funciones Aggregate de Ventana"
   ]
  },
  {
   "cell_type": "code",
   "execution_count": null,
   "id": "962b4ee4",
   "metadata": {
    "language_info": {
     "name": "polyglot-notebook"
    },
    "polyglot_notebook": {
     "kernelName": "sql-Pampero"
    }
   },
   "outputs": [],
   "source": [
    "USE Pampero;\n",
    "SELECT IDCliente, IDPedido, val,\n",
    "SUM(val) OVER(PARTITION BY IDCliente) AS clientotal,\n",
    "SUM(val) OVER() AS totalgeneral\n",
    "FROM ValoresPedido;"
   ]
  },
  {
   "cell_type": "code",
   "execution_count": null,
   "metadata": {
    "language_info": {
     "name": "polyglot-notebook"
    },
    "polyglot_notebook": {
     "kernelName": "sql-Pampero"
    }
   },
   "outputs": [],
   "source": [
    "SELECT IDCliente, IDPedido, val,\n",
    "CAST(100.0*val/SUM(val) OVER(PARTITION BY IDCliente) AS NUMERIC(5,2)) AS pctcliente,\n",
    "CAST(100.0*val/SUM(val) OVER() AS NUMERIC(5,2)) AS pcttotal\n",
    "FROM ValoresPedido;"
   ]
  },
  {
   "cell_type": "markdown",
   "id": "06f738ea",
   "metadata": {},
   "source": [
    "## Enmarcado"
   ]
  },
  {
   "cell_type": "code",
   "execution_count": null,
   "id": "c5ca93d7",
   "metadata": {
    "language_info": {
     "name": "polyglot-notebook"
    },
    "polyglot_notebook": {
     "kernelName": "sql-Pampero"
    }
   },
   "outputs": [],
   "source": [
    "SELECT IDCliente, IDPedido, FechaPedido, val,\n",
    "SUM(val) OVER(PARTITION BY IDCliente\n",
    "    ORDER BY FechaPedido, IDPedido\n",
    "    ROWS BETWEEN UNBOUNDED PRECEDING\n",
    "        AND CURRENT ROW) AS totalacumulado\n",
    "FROM ValoresPedido;"
   ]
  },
  {
   "cell_type": "code",
   "execution_count": null,
   "metadata": {
    "language_info": {
     "name": "polyglot-notebook"
    },
    "polyglot_notebook": {
     "kernelName": "sql-Pampero"
    }
   },
   "outputs": [],
   "source": [
    "WITH TotalesAcumulados AS\n",
    "(\n",
    "SELECT IDCliente, IDPedido, FechaPedido, val,\n",
    "SUM(val) OVER(PARTITION BY IDCliente\n",
    "    ORDER BY FechaPedido, IDPedido\n",
    "    ROWS BETWEEN UNBOUNDED PRECEDING\n",
    "        AND CURRENT ROW) AS totalacumulado\n",
    "FROM ValoresPedido\n",
    ")\n",
    "SELECT *\n",
    "FROM TotalesAcumulados\n",
    "WHERE totalacumulado < 1000.00;"
   ]
  },
  {
   "cell_type": "code",
   "execution_count": null,
   "metadata": {
    "language_info": {
     "name": "polyglot-notebook"
    },
    "polyglot_notebook": {
     "kernelName": "sql-Pampero"
    }
   },
   "outputs": [],
   "source": [
    "SELECT IDCliente, IDPedido, FechaPedido, val,\n",
    "SUM(val) OVER(PARTITION BY IDCliente\n",
    "                ORDER BY FechaPedido, IDPedido\n",
    "                ROWS BETWEEN 2 PRECEDING AND CURRENT ROW) AS totalacumulado\n",
    "FROM ValoresPedido;"
   ]
  },
  {
   "cell_type": "markdown",
   "id": "4c8f57d6",
   "metadata": {},
   "source": [
    "## Funciones Ranking de Ventana"
   ]
  },
  {
   "cell_type": "code",
   "execution_count": null,
   "id": "06b0e600",
   "metadata": {
    "language_info": {
     "name": "polyglot-notebook"
    },
    "polyglot_notebook": {
     "kernelName": "sql-Pampero"
    }
   },
   "outputs": [],
   "source": [
    "SELECT IDCliente, IDPedido, val,\n",
    "    ROW_NUMBER() OVER(ORDER BY val) AS rownum,\n",
    "    RANK() OVER(ORDER BY val) AS rnk,\n",
    "    DENSE_RANK() OVER(ORDER BY val) AS densernk,\n",
    "    NTILE(100) OVER(ORDER BY val) AS ntile100\n",
    "FROM ValoresPedido;"
   ]
  },
  {
   "cell_type": "code",
   "execution_count": null,
   "id": "0930b45c",
   "metadata": {
    "language_info": {
     "name": "polyglot-notebook"
    },
    "polyglot_notebook": {
     "kernelName": "sql-Pampero"
    }
   },
   "outputs": [],
   "source": [
    "SELECT IDCliente, IDPedido, FechaPedido, val,\n",
    "LAG(val,1,0) OVER(PARTITION BY IDCliente\n",
    "                ORDER BY FechaPedido, IDPedido) AS prev_val,\n",
    "LEAD(val,1,0) OVER(PARTITION BY IDCliente\n",
    "                ORDER BY FechaPedido, IDPedido) AS next_val\n",
    "FROM ValoresPedido;"
   ]
  },
  {
   "cell_type": "code",
   "execution_count": null,
   "metadata": {
    "language_info": {
     "name": "polyglot-notebook"
    },
    "polyglot_notebook": {
     "kernelName": "sql-Pampero"
    }
   },
   "outputs": [],
   "source": [
    "SELECT IDCliente, IDPedido, FechaPedido, val,\n",
    "FIRST_VALUE(val) OVER(PARTITION BY IDCliente\n",
    "                        ORDER BY FechaPedido, IDPedido\n",
    "                        ROWS BETWEEN UNBOUNDED PRECEDING\n",
    "                            AND CURRENT ROW) AS primer_val,\n",
    "LAST_VALUE(val) OVER(PARTITION BY IDCliente\n",
    "                        ORDER BY FechaPedido, IDPedido\n",
    "                        ROWS BETWEEN CURRENT ROW\n",
    "                            AND UNBOUNDED FOLLOWING) AS ultimo_val\n",
    "FROM ValoresPedido\n",
    "ORDER BY IDCliente, FechaPedido, IDPedido;"
   ]
  },
  {
   "cell_type": "code",
   "execution_count": null,
   "metadata": {
    "language_info": {
     "name": "polyglot-notebook"
    },
    "polyglot_notebook": {
     "kernelName": "sql-Pampero"
    }
   },
   "outputs": [],
   "source": [
    "SELECT IDPedido, IDProducto, Cantidad\n",
    "    ,SUM(Cantidad) OVER (PARTITION BY IDPedido ORDER BY IDPedido, IDProducto) AS Total\n",
    "    ,AVG(Cantidad) OVER (PARTITION BY IDPedido ORDER BY IDPedido, IDProducto) AS Promedio\n",
    "    ,COUNT(Cantidad) OVER (PARTITION BY IDPedido ORDER BY IDPedido, IDProducto) AS Cantidad\n",
    "FROM [Detalles Pedido]\n",
    "WHERE IDPedido IN(10847,10979);"
   ]
  },
  {
   "cell_type": "code",
   "execution_count": null,
   "metadata": {
    "language_info": {
     "name": "polyglot-notebook"
    },
    "polyglot_notebook": {
     "kernelName": "sql-Pampero"
    }
   },
   "outputs": [],
   "source": [
    "USE Pampero;\n",
    "SELECT IDPedido, IDProducto, Cantidad\n",
    "    ,SUM(Cantidad) OVER ven1 AS Total\n",
    "    ,AVG(Cantidad) OVER ven1 AS Promedio\n",
    "    ,COUNT(Cantidad) OVER ven1 AS Cantidad\n",
    "FROM [Detalles Pedido]\n",
    "WHERE IDPedido IN(10847,10979)\n",
    "WINDOW ven1 AS (PARTITION BY IDPedido ORDER BY IDPedido, IDProducto);\n"
   ]
  }
 ],
 "metadata": {
  "kernelspec": {
   "display_name": ".NET (C#)",
   "language": "C#",
   "name": ".net-csharp"
  },
  "language_info": {
   "name": "polyglot-notebook"
  },
  "polyglot_notebook": {
   "kernelInfo": {
    "defaultKernelName": "csharp",
    "items": [
     {
      "aliases": [],
      "languageName": "csharp",
      "name": "csharp"
     },
     {
      "aliases": [],
      "languageName": "T-SQL",
      "name": "sql-Pampero"
     }
    ]
   }
  }
 },
 "nbformat": 4,
 "nbformat_minor": 5
}
