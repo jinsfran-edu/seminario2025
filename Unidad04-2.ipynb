{
 "cells": [
  {
   "cell_type": "markdown",
   "id": "4a20d513",
   "metadata": {},
   "source": [
    "# Unidad 04\n",
    "## Pivoteando Datos"
   ]
  },
  {
   "cell_type": "code",
   "execution_count": null,
   "id": "92ccd597",
   "metadata": {
    "language_info": {
     "name": "polyglot-notebook"
    },
    "polyglot_notebook": {
     "kernelName": "csharp"
    }
   },
   "outputs": [],
   "source": [
    "#r \"nuget: Microsoft.DotNet.Interactive.SqlServer, *-*\""
   ]
  },
  {
   "cell_type": "code",
   "execution_count": null,
   "id": "7ebe4509",
   "metadata": {
    "language_info": {
     "name": "polyglot-notebook"
    },
    "polyglot_notebook": {
     "kernelName": "csharp"
    }
   },
   "outputs": [],
   "source": [
    "foreach (var line in System.IO.File.ReadLines(\".env\"))\n",
    "{\n",
    "    var parts = line.Split('=');\n",
    "    if (parts.Length == 2)\n",
    "    {\n",
    "        var key = parts[0].Trim();\n",
    "        var value = parts[1].Trim();\n",
    "        Environment.SetEnvironmentVariable(key, value);\n",
    "    }\n",
    "}\n",
    "\n",
    "string connectionString = \"Server=\" + Environment.GetEnvironmentVariable(\"Server\") + \";Database=\" + Environment.GetEnvironmentVariable(\"Database\") + \";User Id=\" + Environment.GetEnvironmentVariable(\"User\") + \";Password=\" + Environment.GetEnvironmentVariable(\"Password\") + \";Encrypt=True;TrustServerCertificate=True;Connection Timeout=30;\";\n"
   ]
  },
  {
   "cell_type": "code",
   "execution_count": null,
   "id": "383f71d7",
   "metadata": {
    "language_info": {
     "name": "polyglot-notebook"
    },
    "polyglot_notebook": {
     "kernelName": "csharp"
    }
   },
   "outputs": [],
   "source": [
    "#!connect mssql --kernel-name Pampero @csharp:connectionString"
   ]
  },
  {
   "cell_type": "code",
   "execution_count": null,
   "metadata": {
    "language_info": {
     "name": "polyglot-notebook"
    },
    "polyglot_notebook": {
     "kernelName": "sql-Pampero"
    }
   },
   "outputs": [],
   "source": [
    "USE Pampero;\n",
    "DROP TABLE IF EXISTS dbo.Ordenes;\n",
    "CREATE TABLE dbo.Ordenes\n",
    "(\n",
    "ordenid INT NOT NULL,\n",
    "fechaorden DATE NOT NULL,\n",
    "empid INT NOT NULL,\n",
    "clienteid VARCHAR(5) NOT NULL,\n",
    "cantidad INT NOT NULL,\n",
    "CONSTRAINT PK_Orders PRIMARY KEY(ordenid)\n",
    ");\n"
   ]
  },
  {
   "cell_type": "code",
   "execution_count": null,
   "metadata": {
    "language_info": {
     "name": "polyglot-notebook"
    },
    "polyglot_notebook": {
     "kernelName": "sql-Pampero"
    }
   },
   "outputs": [],
   "source": [
    "INSERT INTO dbo.Ordenes(ordenid, fechaorden, empid, clienteid, cantidad) VALUES\n",
    "(30001, '20140802', 3, 'A', 10),\n",
    "(10001, '20141224', 2, 'A', 12),\n",
    "(10005, '20141224', 1, 'B', 20),\n",
    "(40001, '20150109', 2, 'A', 40),\n",
    "(10006, '20150118', 1, 'C', 14),\n",
    "(20001, '20150212', 2, 'B', 12),\n",
    "(40005, '20160212', 3, 'A', 10),\n",
    "(20002, '20160216', 1, 'C', 20),\n",
    "(30003, '20160418', 2, 'B', 15),\n",
    "(30004, '20140418', 3, 'C', 22),\n",
    "(30007, '20160907', 3, 'D', 30);\n",
    "SELECT * FROM dbo.Ordenes;\n"
   ]
  },
  {
   "cell_type": "code",
   "execution_count": null,
   "metadata": {
    "language_info": {
     "name": "polyglot-notebook"
    },
    "polyglot_notebook": {
     "kernelName": "sql-Pampero"
    }
   },
   "outputs": [],
   "source": [
    "SELECT empid, clienteid, SUM(cantidad) AS sumqty\n",
    "FROM dbo.Ordenes\n",
    "GROUP BY empid, clienteid;"
   ]
  },
  {
   "cell_type": "markdown",
   "id": "dbdc62f3",
   "metadata": {},
   "source": [
    "## Los necesitamos asi\n",
    "|empid|A|B       |C|D|\n",
    "|---------|--------|----------|----------|----------|\n",
    "|1|NULL|20|34|NULL|\n",
    "|2|52|27|NULL|NULL|\n",
    "|3|20|NULL|2|30|\n"
   ]
  },
  {
   "cell_type": "code",
   "execution_count": null,
   "id": "962b4ee4",
   "metadata": {
    "language_info": {
     "name": "polyglot-notebook"
    },
    "polyglot_notebook": {
     "kernelName": "sql-Pampero"
    }
   },
   "outputs": [],
   "source": [
    "SELECT empid,\n",
    "SUM(CASE WHEN clienteid = 'A' THEN cantidad END) AS A,\n",
    "SUM(CASE WHEN clienteid = 'B' THEN cantidad END) AS B,\n",
    "SUM(CASE WHEN clienteid = 'C' THEN cantidad END) AS C,\n",
    "SUM(CASE WHEN clienteid = 'D' THEN cantidad END) AS D\n",
    "FROM dbo.Ordenes\n",
    "GROUP BY empid;\n"
   ]
  },
  {
   "cell_type": "code",
   "execution_count": null,
   "metadata": {
    "language_info": {
     "name": "polyglot-notebook"
    },
    "polyglot_notebook": {
     "kernelName": "sql-Pampero"
    }
   },
   "outputs": [],
   "source": [
    "SELECT empid, A, B, C, D\n",
    "FROM (SELECT empid, clienteid, cantidad\n",
    "FROM dbo.Ordenes) AS D\n",
    "PIVOT(SUM(cantidad) FOR clienteid IN(A, B, C, D)) AS P;\n"
   ]
  },
  {
   "cell_type": "code",
   "execution_count": null,
   "metadata": {
    "language_info": {
     "name": "polyglot-notebook"
    },
    "polyglot_notebook": {
     "kernelName": "sql-Pampero"
    }
   },
   "outputs": [],
   "source": [
    "SELECT clienteid, [1], [2], [3]\n",
    "FROM (SELECT empid, clienteid, cantidad\n",
    "FROM dbo.Ordenes) AS D\n",
    "PIVOT(SUM(cantidad) FOR empid IN([1], [2], [3])) AS P;\n"
   ]
  },
  {
   "cell_type": "code",
   "execution_count": null,
   "id": "c5ca93d7",
   "metadata": {
    "language_info": {
     "name": "polyglot-notebook"
    },
    "polyglot_notebook": {
     "kernelName": "sql-Pampero"
    }
   },
   "outputs": [],
   "source": [
    "DECLARE @colnameList varchar(200)\n",
    "SET @colnameList = NULL\n",
    "SELECT @colnameList = COALESCE(@colnameList + ',','') + clienteid\n",
    "FROM (SELECT DISTINCT clienteid FROM dbo.Ordenes) AS O;\n",
    "DECLARE @SQLQuery NVARCHAR(MAX);\n",
    "SET @SQLQuery =\n",
    "'SELECT empid, ' + @colnameList + '\n",
    "FROM (SELECT empid, clienteid, cantidad\n",
    "FROM dbo.Ordenes) AS D\n",
    "PIVOT(SUM(cantidad) FOR clienteid IN(' + @colnameList + ')) AS P'\n",
    "\n",
    "EXEC(@SQLQuery)\n"
   ]
  },
  {
   "cell_type": "markdown",
   "id": "22866b55",
   "metadata": {},
   "source": [
    "## Despivoteando"
   ]
  },
  {
   "cell_type": "code",
   "execution_count": null,
   "metadata": {
    "language_info": {
     "name": "polyglot-notebook"
    },
    "polyglot_notebook": {
     "kernelName": "sql-Pampero"
    }
   },
   "outputs": [],
   "source": [
    "USE Pampero;\n",
    "DROP TABLE IF EXISTS dbo.EmpClieOrdenes;\n",
    "CREATE TABLE dbo.EmpClieOrdenes\n",
    "(\n",
    "empid INT NOT NULL\n",
    "CONSTRAINT PK_EmpClieOrdenes PRIMARY KEY,\n",
    "A VARCHAR(5) NULL,\n",
    "B VARCHAR(5) NULL,\n",
    "C VARCHAR(5) NULL,\n",
    "D VARCHAR(5) NULL\n",
    ");"
   ]
  },
  {
   "cell_type": "code",
   "execution_count": null,
   "metadata": {
    "language_info": {
     "name": "polyglot-notebook"
    },
    "polyglot_notebook": {
     "kernelName": "sql-Pampero"
    }
   },
   "outputs": [],
   "source": [
    "INSERT INTO dbo.EmpClieOrdenes(empid, A, B, C, D)\n",
    "SELECT empid, A, B, C, D\n",
    "FROM (SELECT empid, clienteid, cantidad\n",
    "FROM dbo.Ordenes) AS D\n",
    "PIVOT(SUM(cantidad) FOR clienteid IN(A, B, C, D)) AS P;\n",
    "SELECT * FROM dbo.EmpClieOrdenes;"
   ]
  },
  {
   "cell_type": "markdown",
   "id": "4c8f57d6",
   "metadata": {},
   "source": [
    "### Producción de copias"
   ]
  },
  {
   "cell_type": "code",
   "execution_count": null,
   "id": "06b0e600",
   "metadata": {
    "language_info": {
     "name": "polyglot-notebook"
    },
    "polyglot_notebook": {
     "kernelName": "sql-Pampero"
    }
   },
   "outputs": [],
   "source": [
    "SELECT *\n",
    "FROM dbo.EmpClieOrdenes\n",
    "CROSS JOIN (VALUES('A'),('B'),('C'),('D')) AS C(clienteid);"
   ]
  },
  {
   "cell_type": "markdown",
   "id": "1efcd313",
   "metadata": {},
   "source": [
    "### Extracción de valores"
   ]
  },
  {
   "cell_type": "code",
   "execution_count": null,
   "id": "0930b45c",
   "metadata": {
    "language_info": {
     "name": "polyglot-notebook"
    },
    "polyglot_notebook": {
     "kernelName": "sql-Pampero"
    }
   },
   "outputs": [],
   "source": [
    "SELECT empid, clienteid, cantidad\n",
    "FROM dbo.EmpClieOrdenes\n",
    "CROSS APPLY (VALUES('A', A),('B', B),('C', C),('D', D)) AS C(clienteid, cantidad);"
   ]
  },
  {
   "cell_type": "markdown",
   "id": "a73924cc",
   "metadata": {},
   "source": [
    "### Eliminación de filas irrelevantes"
   ]
  },
  {
   "cell_type": "code",
   "execution_count": null,
   "metadata": {
    "language_info": {
     "name": "polyglot-notebook"
    },
    "polyglot_notebook": {
     "kernelName": "sql-Pampero"
    }
   },
   "outputs": [],
   "source": [
    "SELECT empid, clienteid, cantidad\n",
    "FROM dbo.EmpClieOrdenes\n",
    "CROSS APPLY (VALUES('A', A),('B', B),('C', C),('D', D)) AS C(clienteid, cantidad)\n",
    "WHERE cantidad IS NOT NULL;"
   ]
  },
  {
   "cell_type": "markdown",
   "id": "39df636d",
   "metadata": {},
   "source": [
    "### UNPIVOT"
   ]
  },
  {
   "cell_type": "code",
   "execution_count": null,
   "metadata": {
    "language_info": {
     "name": "polyglot-notebook"
    },
    "polyglot_notebook": {
     "kernelName": "sql-Pampero"
    }
   },
   "outputs": [],
   "source": [
    "SELECT empid, clienteid, cantidad\n",
    "FROM dbo.EmpClieOrdenes\n",
    "    UNPIVOT(cantidad FOR clienteid IN (A, B, C, D)) AS U;"
   ]
  }
 ],
 "metadata": {
  "kernelspec": {
   "display_name": ".NET (C#)",
   "language": "C#",
   "name": ".net-csharp"
  },
  "language_info": {
   "name": "polyglot-notebook"
  },
  "polyglot_notebook": {
   "kernelInfo": {
    "defaultKernelName": "csharp",
    "items": [
     {
      "aliases": [],
      "languageName": "csharp",
      "name": "csharp"
     },
     {
      "aliases": [],
      "languageName": "T-SQL",
      "name": "sql-Pampero"
     }
    ]
   }
  }
 },
 "nbformat": 4,
 "nbformat_minor": 5
}
