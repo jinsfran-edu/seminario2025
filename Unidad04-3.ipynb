{
 "cells": [
  {
   "cell_type": "markdown",
   "id": "4a20d513",
   "metadata": {},
   "source": [
    "# Unidad 04\n",
    "## Conjuntos de Agrupación"
   ]
  },
  {
   "cell_type": "code",
   "execution_count": null,
   "id": "92ccd597",
   "metadata": {
    "language_info": {
     "name": "polyglot-notebook"
    },
    "polyglot_notebook": {
     "kernelName": "csharp"
    }
   },
   "outputs": [],
   "source": [
    "#r \"nuget: Microsoft.DotNet.Interactive.SqlServer, *-*\""
   ]
  },
  {
   "cell_type": "code",
   "execution_count": null,
   "id": "7ebe4509",
   "metadata": {
    "language_info": {
     "name": "polyglot-notebook"
    },
    "polyglot_notebook": {
     "kernelName": "csharp"
    }
   },
   "outputs": [],
   "source": [
    "foreach (var line in System.IO.File.ReadLines(\".env\"))\n",
    "{\n",
    "    var parts = line.Split('=');\n",
    "    if (parts.Length == 2)\n",
    "    {\n",
    "        var key = parts[0].Trim();\n",
    "        var value = parts[1].Trim();\n",
    "        Environment.SetEnvironmentVariable(key, value);\n",
    "    }\n",
    "}\n",
    "\n",
    "string connectionString = \"Server=\" + Environment.GetEnvironmentVariable(\"Server\") + \";Database=\" + Environment.GetEnvironmentVariable(\"Database\") + \";User Id=\" + Environment.GetEnvironmentVariable(\"User\") + \";Password=\" + Environment.GetEnvironmentVariable(\"Password\") + \";Encrypt=True;TrustServerCertificate=True;Connection Timeout=30;\";\n"
   ]
  },
  {
   "cell_type": "code",
   "execution_count": null,
   "id": "383f71d7",
   "metadata": {
    "language_info": {
     "name": "polyglot-notebook"
    },
    "polyglot_notebook": {
     "kernelName": "csharp"
    }
   },
   "outputs": [],
   "source": [
    "#!connect mssql --kernel-name Pampero @csharp:connectionString"
   ]
  },
  {
   "cell_type": "code",
   "execution_count": null,
   "metadata": {
    "language_info": {
     "name": "polyglot-notebook"
    },
    "polyglot_notebook": {
     "kernelName": "sql-Pampero"
    }
   },
   "outputs": [],
   "source": [
    "SELECT empid, clienteid, SUM(cantidad) AS sumcantidad\n",
    "FROM dbo.Ordenes\n",
    "GROUP BY empid, clienteid;\n",
    "SELECT empid, SUM(cantidad) AS sumcantidad\n",
    "FROM dbo.Ordenes\n",
    "GROUP BY empid;\n",
    "SELECT clienteid, SUM(cantidad) AS sumcantidad\n",
    "FROM dbo.Ordenes\n",
    "GROUP BY clienteid;\n",
    "SELECT SUM(cantidad) AS sumcantidad\n",
    "FROM dbo.Ordenes;"
   ]
  },
  {
   "cell_type": "code",
   "execution_count": null,
   "metadata": {
    "language_info": {
     "name": "polyglot-notebook"
    },
    "polyglot_notebook": {
     "kernelName": "sql-Pampero"
    }
   },
   "outputs": [],
   "source": [
    "SELECT empid, clienteid, SUM(cantidad) AS sumcantidad\n",
    "FROM dbo.Ordenes\n",
    "GROUP BY empid, clienteid\n",
    "UNION ALL\n",
    "SELECT empid, NULL, SUM(cantidad) AS sumcantidad\n",
    "FROM dbo.Ordenes\n",
    "GROUP BY empid\n",
    "UNION ALL\n",
    "SELECT NULL, clienteid, SUM(cantidad) AS sumcantidad\n",
    "FROM dbo.Ordenes\n",
    "GROUP BY clienteid\n",
    "UNION ALL\n",
    "SELECT NULL, NULL, SUM(cantidad) AS sumcantidad\n",
    "FROM dbo.Ordenes;"
   ]
  },
  {
   "cell_type": "markdown",
   "id": "dbdc62f3",
   "metadata": {},
   "source": [
    "## GROUPING SETS"
   ]
  },
  {
   "cell_type": "code",
   "execution_count": null,
   "id": "962b4ee4",
   "metadata": {
    "language_info": {
     "name": "polyglot-notebook"
    },
    "polyglot_notebook": {
     "kernelName": "sql-Pampero"
    }
   },
   "outputs": [],
   "source": [
    "SELECT empid, clienteid, SUM(cantidad) AS sumcantidad\n",
    "FROM dbo.Ordenes\n",
    "GROUP BY\n",
    "GROUPING SETS\n",
    "(\n",
    "(empid, clienteid),\n",
    "(empid),\n",
    "(clienteid),\n",
    "()\n",
    ");"
   ]
  },
  {
   "cell_type": "markdown",
   "id": "bbb92e22",
   "metadata": {},
   "source": [
    "## CUBE"
   ]
  },
  {
   "cell_type": "code",
   "execution_count": null,
   "metadata": {
    "language_info": {
     "name": "polyglot-notebook"
    },
    "polyglot_notebook": {
     "kernelName": "sql-Pampero"
    }
   },
   "outputs": [],
   "source": [
    "SELECT empid, clienteid, SUM(cantidad) AS sumcantidad\n",
    "FROM dbo.Ordenes\n",
    "GROUP BY CUBE(empid, clienteid);"
   ]
  },
  {
   "cell_type": "markdown",
   "id": "871069e7",
   "metadata": {},
   "source": [
    "## ROLLUP"
   ]
  },
  {
   "cell_type": "code",
   "execution_count": null,
   "metadata": {
    "language_info": {
     "name": "polyglot-notebook"
    },
    "polyglot_notebook": {
     "kernelName": "sql-Pampero"
    }
   },
   "outputs": [],
   "source": [
    "SELECT\n",
    "YEAR(fechaorden) AS anioorden,\n",
    "MONTH(fechaorden) AS mesorden,\n",
    "DAY(fechaorden) AS diaorden,\n",
    "SUM(cantidad) AS sumcantidad\n",
    "FROM dbo.Ordenes\n",
    "GROUP BY ROLLUP(YEAR(fechaorden), MONTH(fechaorden), DAY(fechaorden));"
   ]
  },
  {
   "cell_type": "markdown",
   "id": "86452360",
   "metadata": {},
   "source": [
    "## GROUPING y GROUPING_ID"
   ]
  },
  {
   "cell_type": "code",
   "execution_count": null,
   "id": "c5ca93d7",
   "metadata": {
    "language_info": {
     "name": "polyglot-notebook"
    },
    "polyglot_notebook": {
     "kernelName": "sql-Pampero"
    }
   },
   "outputs": [],
   "source": [
    "SELECT empid, clienteid, SUM(cantidad) AS sumcantidad\n",
    "FROM dbo.Ordenes\n",
    "GROUP BY CUBE(empid, clienteid);"
   ]
  },
  {
   "cell_type": "code",
   "execution_count": null,
   "metadata": {
    "language_info": {
     "name": "polyglot-notebook"
    },
    "polyglot_notebook": {
     "kernelName": "sql-Pampero"
    }
   },
   "outputs": [],
   "source": [
    "SELECT\n",
    "GROUPING(empid) AS grpemp,\n",
    "GROUPING(clienteid) AS grpcli,\n",
    "empid, clienteid, SUM(cantidad) AS sumcantidad\n",
    "FROM dbo.Ordenes\n",
    "GROUP BY CUBE(empid, clienteid);"
   ]
  },
  {
   "cell_type": "code",
   "execution_count": null,
   "metadata": {
    "language_info": {
     "name": "polyglot-notebook"
    },
    "polyglot_notebook": {
     "kernelName": "sql-Pampero"
    }
   },
   "outputs": [],
   "source": [
    "SELECT\n",
    "GROUPING_ID(empid, clienteid) AS groupingset,\n",
    "empid, clienteid, SUM(cantidad) AS sumcantidad\n",
    "FROM dbo.Ordenes\n",
    "GROUP BY CUBE(empid, clienteid);"
   ]
  }
 ],
 "metadata": {
  "kernelspec": {
   "display_name": ".NET (C#)",
   "language": "C#",
   "name": ".net-csharp"
  },
  "language_info": {
   "name": "polyglot-notebook"
  },
  "polyglot_notebook": {
   "kernelInfo": {
    "defaultKernelName": "csharp",
    "items": [
     {
      "aliases": [],
      "languageName": "csharp",
      "name": "csharp"
     },
     {
      "aliases": [],
      "languageName": "T-SQL",
      "name": "sql-Pampero"
     }
    ]
   }
  }
 },
 "nbformat": 4,
 "nbformat_minor": 5
}
