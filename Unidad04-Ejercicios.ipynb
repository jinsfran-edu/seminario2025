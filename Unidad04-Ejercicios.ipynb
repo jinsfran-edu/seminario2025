{
 "cells": [
  {
   "cell_type": "markdown",
   "id": "4a20d513",
   "metadata": {},
   "source": [
    "# Unidad 04\n",
    "## Ejercicios"
   ]
  },
  {
   "cell_type": "code",
   "execution_count": 1,
   "id": "92ccd597",
   "metadata": {
    "language_info": {
     "name": "polyglot-notebook"
    },
    "polyglot_notebook": {
     "kernelName": "csharp"
    }
   },
   "outputs": [
    {
     "data": {
      "text/html": [
       "<div><div></div><div></div><div><strong>Installed Packages</strong><ul><li><span>Microsoft.DotNet.Interactive.SqlServer, 1.0.0-beta.25323.1</span></li></ul></div></div>"
      ]
     },
     "metadata": {},
     "output_type": "display_data"
    },
    {
     "data": {
      "text/plain": [
       "Loading extension script from `C:\\Users\\joi\\.nuget\\packages\\microsoft.dotnet.interactive.sqlserver\\1.0.0-beta.25323.1\\interactive-extensions\\dotnet\\extension.dib`"
      ]
     },
     "metadata": {},
     "output_type": "display_data"
    },
    {
     "data": {
      "text/html": [
       "<details><summary>Query Microsoft SQL Server databases.</summary>\r\n",
       "<p>This extension adds support for connecting to Microsoft SQL Server databases using the <code>#!connect mssql</code> magic command. For more information, run a cell using the <code>#!sql</code> magic command.</p>\r\n",
       "</details>"
      ]
     },
     "metadata": {},
     "output_type": "display_data"
    }
   ],
   "source": [
    "#r \"nuget: Microsoft.DotNet.Interactive.SqlServer, *-*\""
   ]
  },
  {
   "cell_type": "code",
   "execution_count": 2,
   "id": "7ebe4509",
   "metadata": {
    "language_info": {
     "name": "polyglot-notebook"
    },
    "polyglot_notebook": {
     "kernelName": "csharp"
    }
   },
   "outputs": [],
   "source": [
    "foreach (var line in System.IO.File.ReadLines(\".env\"))\n",
    "{\n",
    "    var parts = line.Split('=');\n",
    "    if (parts.Length == 2)\n",
    "    {\n",
    "        var key = parts[0].Trim();\n",
    "        var value = parts[1].Trim();\n",
    "        Environment.SetEnvironmentVariable(key, value);\n",
    "    }\n",
    "}\n",
    "\n",
    "string connectionString = \"Server=\" + Environment.GetEnvironmentVariable(\"Server\") + \";Database=\" + Environment.GetEnvironmentVariable(\"Database\") + \";User Id=\" + Environment.GetEnvironmentVariable(\"User\") + \";Password=\" + Environment.GetEnvironmentVariable(\"Password\") + \";Encrypt=True;TrustServerCertificate=True;Connection Timeout=30;\";\n"
   ]
  },
  {
   "cell_type": "code",
   "execution_count": 3,
   "id": "383f71d7",
   "metadata": {
    "language_info": {
     "name": "polyglot-notebook"
    },
    "polyglot_notebook": {
     "kernelName": "csharp"
    }
   },
   "outputs": [
    {
     "data": {
      "text/plain": [
       "Kernel added: #!sql-Pampero"
      ]
     },
     "metadata": {},
     "output_type": "display_data"
    }
   ],
   "source": [
    "#!connect mssql --kernel-name Pampero @csharp:connectionString"
   ]
  },
  {
   "cell_type": "markdown",
   "id": "2bd1a9bf",
   "metadata": {},
   "source": [
    "1.\tEscriba una consulta sobre la vista ValoresPedido que retorne, por cada cliente y orden, el valor promedio de movimiento de los tres últimos pedidos del cliente."
   ]
  },
  {
   "cell_type": "code",
   "execution_count": null,
   "metadata": {
    "language_info": {
     "name": "polyglot-notebook"
    },
    "polyglot_notebook": {
     "kernelName": "sql-Pampero"
    }
   },
   "outputs": [],
   "source": [
    "SELECT IDCliente, IDPedido, FechaPedido, val,\n",
    "  AVG(val) OVER(PARTITION BY IDCliente\n",
    "                ORDER BY FechaPedido, IDPedido\n",
    "                ROWS BETWEEN 2 PRECEDING\n",
    "                        AND CURRENT ROW) AS promovil\n",
    "FROM ValoresPedido;\n"
   ]
  },
  {
   "cell_type": "markdown",
   "id": "70733986",
   "metadata": {},
   "source": [
    "2.\tEscriba una consulta sobre la tabla Pedidos, y filtre los tres pedidos con los valores de flete más altos por cada distribuidor (EnvioPor) utilizando IDPedido como desempate."
   ]
  },
  {
   "cell_type": "code",
   "execution_count": null,
   "metadata": {
    "language_info": {
     "name": "polyglot-notebook"
    },
    "polyglot_notebook": {
     "kernelName": "sql-Pampero"
    }
   },
   "outputs": [],
   "source": [
    "USE Pampero;\n",
    "WITH C AS\n",
    "(\n",
    "  SELECT EnvioPor, IDPedido, Flete,\n",
    "    ROW_NUMBER() OVER(PARTITION BY EnvioPor \n",
    "                      ORDER BY Flete DESC, IDPedido) AS rownum\n",
    "  FROM Pedidos\n",
    ")\n",
    "SELECT EnvioPor, IDPedido, Flete\n",
    "FROM C\n",
    "WHERE rownum <= 3\n",
    "ORDER BY EnvioPor, rownum;\n"
   ]
  },
  {
   "cell_type": "markdown",
   "id": "dbdc62f3",
   "metadata": {},
   "source": [
    "3.\tConsulte la vista ValoresPedido. Necesita calcular la diferencia entre el valor del pedido actual y el valor del pedido previo del cliente, además a la diferencia entre el valor de pedido actual y el valor de pedido siguiente del cliente."
   ]
  },
  {
   "cell_type": "code",
   "execution_count": null,
   "id": "962b4ee4",
   "metadata": {
    "language_info": {
     "name": "polyglot-notebook"
    },
    "polyglot_notebook": {
     "kernelName": "sql-Pampero"
    }
   },
   "outputs": [],
   "source": [
    "SELECT IDCliente, IDPedido, FechaPedido, val, \n",
    "  val - LAG(val) OVER(PARTITION BY IDCliente \n",
    "                      ORDER BY FechaPedido, IDPedido) AS difprev,\n",
    "  val - LEAD(val) OVER(PARTITION BY IDCliente \n",
    "                       ORDER BY FechaPedido, IDPedido) AS difsig\n",
    "FROM ValoresPedido;\n"
   ]
  },
  {
   "cell_type": "markdown",
   "id": "a630ba2e",
   "metadata": {},
   "source": [
    "4.\tCalcular la cantidad total de pedidos agrupados por IDEmpleado, mostrando si los pedidos fueron despachados antes, en la fecha o después de la FechaRequerida. Resolver de dos maneras, una utilizando SUM y CASE y otra utilizando el operador PIVOT"
   ]
  },
  {
   "cell_type": "code",
   "execution_count": null,
   "metadata": {
    "language_info": {
     "name": "polyglot-notebook"
    },
    "polyglot_notebook": {
     "kernelName": "sql-Pampero"
    }
   },
   "outputs": [],
   "source": [
    "SELECT\n",
    "    IDEmpleado,\n",
    "    SUM(CASE WHEN FechaEnvio < FechaRequerida THEN 1 ELSE 0 END) AS Despachado_Anticipado,\n",
    "    SUM(CASE WHEN FechaEnvio = FechaRequerida THEN 1 ELSE 0 END) AS Despachado_A_Tiempo,\n",
    "    SUM(CASE WHEN FechaEnvio > FechaRequerida OR FechaEnvio IS NULL THEN 1 ELSE 0 END) AS Despachado_Tardio\n",
    "FROM Pedidos\n",
    "GROUP BY IDEmpleado\n",
    "ORDER BY IDEmpleado;\n",
    "\n",
    "SELECT IDEmpleado, Despachado_Anticipado, Despachado_A_Tiempo ,Depachado_Tardio\n",
    "FROM (SELECT IDPedido, IDempleado, \n",
    "CASE WHEN FechaEnvio < FechaRequerida THEN 'Despachado_Anticipado'\n",
    "     WHEN FechaEnvio = FechaRequerida THEN 'Despachado_A_Tiempo'\n",
    "     ELSE  'Depachado_Tardio' END AS Despacho FROM Pedidos) AS D\n",
    "PIVOT (COUNT(IDPedido) FOR Despacho IN (Despachado_Anticipado, Despachado_A_Tiempo ,Depachado_Tardio)) AS P\n",
    "ORDER BY IDEmpleado;\n"
   ]
  },
  {
   "cell_type": "markdown",
   "id": "06f738ea",
   "metadata": {},
   "source": [
    "5.\tMuestre la suma total de Flete (flete) para cada IDEmpleado, con los años de pedido (2019, 2020, 2021) como columnas."
   ]
  },
  {
   "cell_type": "code",
   "execution_count": null,
   "id": "c5ca93d7",
   "metadata": {
    "language_info": {
     "name": "polyglot-notebook"
    },
    "polyglot_notebook": {
     "kernelName": "sql-Pampero"
    }
   },
   "outputs": [],
   "source": [
    "SELECT IDEmpleado, [2019], [2020], [2021]\n",
    "FROM (SELECT IDEmpleado, YEAR(FechaPedido) AS Anio, Flete FROM Pedidos) AS D\n",
    "PIVOT (SUM(Flete) FOR Anio IN ([2019], [2020], [2021])) AS P\n",
    "ORDER BY IDEmpleado;\n"
   ]
  },
  {
   "cell_type": "markdown",
   "id": "b80ff58a",
   "metadata": {},
   "source": [
    "6.\tCalcule la suma total de Flete de los pedidos. Muestre totales intermedios por jerarquía, que incluyan el total por año, el total por año/mes, y un total general."
   ]
  },
  {
   "cell_type": "code",
   "execution_count": null,
   "metadata": {
    "language_info": {
     "name": "polyglot-notebook"
    },
    "polyglot_notebook": {
     "kernelName": "sql-Pampero"
    }
   },
   "outputs": [],
   "source": [
    "SELECT\n",
    "    YEAR(FechaPedido) AS anio,\n",
    "    MONTH(FechaPedido) AS mes,\n",
    "    SUM(Flete) AS total_flete\n",
    "FROM Pedidos\n",
    "GROUP BY ROLLUP(YEAR(FechaPedido), MONTH(FechaPedido)) -- Agrupamiento jerárquico\n",
    "ORDER BY anio, mes;\n"
   ]
  },
  {
   "cell_type": "markdown",
   "id": "ba8c8200",
   "metadata": {},
   "source": [
    "7.\tCalcule la suma total de Flete de los pedidos para los siguientes tres conjuntos de agrupamiento no jerárquicos:\n",
    "1. Agrupado por PaisEnvio y Transportista.\n",
    "2. Agrupado solo por PaisEnvio.\n",
    "3. Un total general."
   ]
  },
  {
   "cell_type": "code",
   "execution_count": null,
   "metadata": {
    "language_info": {
     "name": "polyglot-notebook"
    },
    "polyglot_notebook": {
     "kernelName": "sql-Pampero"
    }
   },
   "outputs": [],
   "source": [
    "SELECT\n",
    "    PaisEnvio,\n",
    "    T.NombreEmpresa,\n",
    "    SUM(Flete) AS total_flete\n",
    "FROM Pedidos P JOIN Transportistas T ON T.IDTransportista = P.EnvioPor\n",
    "WHERE PaisEnvio LIKE 'A%'\n",
    "GROUP BY GROUPING SETS (\n",
    "    (PaisEnvio, T.NombreEmpresa), -- Agrupamiento 1\n",
    "    (PaisEnvio),          -- Agrupamiento 2\n",
    "    ()                    -- Agrupamiento 3 (Total General)\n",
    ")\n",
    "ORDER BY PaisEnvio, T.NombreEmpresa;\n"
   ]
  }
 ],
 "metadata": {
  "kernelspec": {
   "display_name": ".NET (C#)",
   "language": "C#",
   "name": ".net-csharp"
  },
  "language_info": {
   "name": "polyglot-notebook"
  },
  "polyglot_notebook": {
   "kernelInfo": {
    "defaultKernelName": "csharp",
    "items": [
     {
      "aliases": [],
      "languageName": "csharp",
      "name": "csharp"
     },
     {
      "aliases": [],
      "languageName": "T-SQL",
      "name": "sql-Pampero"
     }
    ]
   }
  }
 },
 "nbformat": 4,
 "nbformat_minor": 5
}
