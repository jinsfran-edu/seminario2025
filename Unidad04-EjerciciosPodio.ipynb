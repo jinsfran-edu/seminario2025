{
 "cells": [
  {
   "cell_type": "markdown",
   "id": "4a20d513",
   "metadata": {},
   "source": [
    "# Unidad 04\n",
    "## Ejercicios Podio"
   ]
  },
  {
   "cell_type": "code",
   "execution_count": null,
   "id": "92ccd597",
   "metadata": {
    "language_info": {
     "name": "polyglot-notebook"
    },
    "polyglot_notebook": {
     "kernelName": "csharp"
    }
   },
   "outputs": [],
   "source": [
    "#r \"nuget: Microsoft.DotNet.Interactive.SqlServer, *-*\""
   ]
  },
  {
   "cell_type": "code",
   "execution_count": null,
   "id": "7ebe4509",
   "metadata": {
    "language_info": {
     "name": "polyglot-notebook"
    },
    "polyglot_notebook": {
     "kernelName": "csharp"
    }
   },
   "outputs": [],
   "source": [
    "foreach (var line in System.IO.File.ReadLines(\".env\"))\n",
    "{\n",
    "    var parts = line.Split('=');\n",
    "    if (parts.Length == 2)\n",
    "    {\n",
    "        var key = parts[0].Trim();\n",
    "        var value = parts[1].Trim();\n",
    "        Environment.SetEnvironmentVariable(key, value);\n",
    "    }\n",
    "}\n",
    "\n",
    "string connectionString = \"Server=\" + Environment.GetEnvironmentVariable(\"Server\") + \";Database=\" + Environment.GetEnvironmentVariable(\"Database\") + \";User Id=\" + Environment.GetEnvironmentVariable(\"User\") + \";Password=\" + Environment.GetEnvironmentVariable(\"Password\") + \";Encrypt=True;TrustServerCertificate=True;Connection Timeout=30;\";\n"
   ]
  },
  {
   "cell_type": "code",
   "execution_count": null,
   "id": "383f71d7",
   "metadata": {
    "language_info": {
     "name": "polyglot-notebook"
    },
    "polyglot_notebook": {
     "kernelName": "csharp"
    }
   },
   "outputs": [],
   "source": [
    "#!connect mssql --kernel-name Pampero @csharp:connectionString"
   ]
  },
  {
   "cell_type": "code",
   "execution_count": null,
   "metadata": {
    "language_info": {
     "name": "polyglot-notebook"
    },
    "polyglot_notebook": {
     "kernelName": "sql-Pampero"
    }
   },
   "outputs": [],
   "source": [
    "DROP TABLE IF EXISTS dbo.podio;\n",
    "\n",
    "CREATE TABLE dbo.podio ( \n",
    "nombre nvarchar(50) PRIMARY KEY, \n",
    "pais nvarchar(50), \n",
    "tiempo numeric(18,2) \n",
    "); "
   ]
  },
  {
   "cell_type": "code",
   "execution_count": null,
   "metadata": {
    "language_info": {
     "name": "polyglot-notebook"
    },
    "polyglot_notebook": {
     "kernelName": "sql-Pampero"
    }
   },
   "outputs": [],
   "source": [
    "INSERT INTO dbo.podio (nombre, pais, tiempo)\n",
    "VALUES \n",
    "('Aleksandr Sadovnikov', 'RUS', 51.84),\n",
    "('Chad Le Clos', 'RSA', 51.14),\n",
    "('Joseph Schooling', 'SGP', 50.39),\n",
    "('Laszlo Cseh', 'HUN', 51.14),\n",
    "('Medhy Metella', 'FRA', 51.58),\n",
    "('Michael Phelps', 'USA', 51.14),\n",
    "('Tom Shields', 'USA', 51.73),\n",
    "('Zhuhao Li', 'CHN', 51.26);\n"
   ]
  },
  {
   "cell_type": "markdown",
   "id": "dbdc62f3",
   "metadata": {},
   "source": [
    "1) Obtenga el podio utilizando TOP ( WITH TIES )."
   ]
  },
  {
   "cell_type": "code",
   "execution_count": null,
   "id": "962b4ee4",
   "metadata": {
    "language_info": {
     "name": "polyglot-notebook"
    },
    "polyglot_notebook": {
     "kernelName": "sql-Pampero"
    }
   },
   "outputs": [],
   "source": [
    "USE Pampero;\n",
    "SELECT TOP 3 WITH TIES nombre, pais, tiempo\n",
    "FROM dbo.podio\n",
    "ORDER BY tiempo"
   ]
  },
  {
   "cell_type": "markdown",
   "id": "a630ba2e",
   "metadata": {},
   "source": [
    "2) Suponga que no puede utilizar TOP"
   ]
  },
  {
   "cell_type": "code",
   "execution_count": null,
   "metadata": {
    "language_info": {
     "name": "polyglot-notebook"
    },
    "polyglot_notebook": {
     "kernelName": "sql-Pampero"
    }
   },
   "outputs": [],
   "source": [
    "SELECT nombre, pais, tiempo\n",
    "FROM (SELECT nombre, pais, tiempo,\n",
    "    ROW_NUMBER() OVER(ORDER BY tiempo) AS rownum,\n",
    "    RANK() OVER(ORDER BY tiempo) AS rnk,\n",
    "    DENSE_RANK() OVER(ORDER BY tiempo) AS densernk,\n",
    "    NTILE(100) OVER(ORDER BY tiempo) AS ntile100\n",
    "FROM dbo.podio) AS P\n",
    "WHERE rnk <= 3"
   ]
  },
  {
   "cell_type": "markdown",
   "id": "06f738ea",
   "metadata": {},
   "source": [
    "3) Agregue al resultado una columna extra que indique la medalla recibida por cada participante (el primero recibe oro, el segundo plata y el tercero bronce, el resto no recibe medalla). Resultado esperado:\n",
    "\n",
    "|nombre              |pais|tiempo|Medalla|\n",
    "|--------------------|----|------|-------|\n",
    "|Joseph Schooling    |SGP |50.39 |Oro    |\n",
    "|Laszlo Cseh         |HUN |51.14 |Plata  |\n",
    "|Chad Le Clos        |RSA |51.14 |Plata  |\n",
    "|Michael Phelps      |USA |51.14 |Plata  |\n",
    "|Zhuhao Li           |CHN |51.26 |null   |\n",
    "|Medhy Metella       |FRA |51.58 |null   |\n",
    "|Tom Shields         |USA |51.73 |null   |\n",
    "|Aleksandr Sadovnikov|RUS |51.84 |null   |\n",
    "\n"
   ]
  },
  {
   "cell_type": "code",
   "execution_count": null,
   "id": "c5ca93d7",
   "metadata": {
    "language_info": {
     "name": "polyglot-notebook"
    },
    "polyglot_notebook": {
     "kernelName": "sql-Pampero"
    }
   },
   "outputs": [],
   "source": [
    "SELECT nombre, pais, tiempo, \n",
    "CASE RANK() OVER(ORDER BY tiempo) \n",
    "WHEN 1 THEN 'Oro'\n",
    "WHEN 2 THEN 'Plata'\n",
    "WHEN 3 THEN 'Bronce'\n",
    "END AS Medalla\n",
    "FROM podio\n",
    "ORDER BY tiempo"
   ]
  },
  {
   "cell_type": "markdown",
   "id": "b80ff58a",
   "metadata": {},
   "source": [
    "4) Calcule las diferencias entre los corredores por orden de llegada. Resultado esperado:\n",
    "\n",
    "|nombre              |tiempo|Dif |\n",
    "|--------------------|------|----|\n",
    "|Joseph Schooling    |50.39 |null|\n",
    "|Chad Le Clos        |51.14 |0.75|\n",
    "|Laszlo Cseh         |51.14 |0.00|\n",
    "|Michael Phelps      |51.14 |0.00|\n",
    "|Zhuhao Li           |51.26 |0.12|\n",
    "|Medhy Metella       |51.58 |0.32|\n",
    "|Tom Shields         |51.73 |0.15|\n",
    "|Aleksandr Sadovnikov|51.84 |0.11|\n",
    "\n"
   ]
  },
  {
   "cell_type": "code",
   "execution_count": null,
   "metadata": {
    "language_info": {
     "name": "polyglot-notebook"
    },
    "polyglot_notebook": {
     "kernelName": "sql-Pampero"
    }
   },
   "outputs": [],
   "source": [
    "SELECT nombre, tiempo,\n",
    "\ttiempo - LAG(tiempo) \n",
    "OVER(ORDER BY tiempo, nombre) AS Dif\n",
    "FROM dbo.podio;"
   ]
  },
  {
   "cell_type": "markdown",
   "id": "ba8c8200",
   "metadata": {},
   "source": [
    "5) Calcule las diferencias entre los corredores con respecto al ganador. Resultado esperado:\n",
    "\n",
    "|nombre              |tiempo|Dif |\n",
    "|--------------------|------|----|\n",
    "|Joseph Schooling    |50.39 |0.00|\n",
    "|Chad Le Clos        |51.14 |0.75|\n",
    "|Laszlo Cseh         |51.14 |0.75|\n",
    "|Michael Phelps      |51.14 |0.75|\n",
    "|Zhuhao Li           |51.26 |0.87|\n",
    "|Medhy Metella       |51.58 |1.19|\n",
    "|Tom Shields         |51.73 |1.34|\n",
    "|Aleksandr Sadovnikov|51.84 |1.45|\n",
    "\n"
   ]
  },
  {
   "cell_type": "code",
   "execution_count": null,
   "metadata": {
    "language_info": {
     "name": "polyglot-notebook"
    },
    "polyglot_notebook": {
     "kernelName": "sql-Pampero"
    }
   },
   "outputs": [],
   "source": [
    "SELECT nombre, tiempo,\n",
    "\ttiempo - FIRST_VALUE(tiempo) OVER(ORDER BY tiempo, nombre) AS Dif\n",
    "FROM dbo.podio;"
   ]
  },
  {
   "cell_type": "markdown",
   "id": "4c8f57d6",
   "metadata": {},
   "source": [
    "6) ¿Qué corredores tienen tiempo por encima del promedio de su país?"
   ]
  },
  {
   "cell_type": "code",
   "execution_count": null,
   "id": "06b0e600",
   "metadata": {
    "language_info": {
     "name": "polyglot-notebook"
    },
    "polyglot_notebook": {
     "kernelName": "sql-Pampero"
    }
   },
   "outputs": [],
   "source": [
    "SELECT nombre\n",
    "FROM (SELECT nombre, pais, tiempo,\n",
    "AVG(tiempo) OVER(PARTITION BY pais) as promediopais\n",
    "FROM dbo.podio) AS P\n",
    "WHERE tiempo > promediopais"
   ]
  }
 ],
 "metadata": {
  "kernelspec": {
   "display_name": ".NET (C#)",
   "language": "C#",
   "name": ".net-csharp"
  },
  "language_info": {
   "name": "polyglot-notebook"
  },
  "polyglot_notebook": {
   "kernelInfo": {
    "defaultKernelName": "csharp",
    "items": [
     {
      "aliases": [],
      "languageName": "csharp",
      "name": "csharp"
     },
     {
      "aliases": [],
      "languageName": "T-SQL",
      "name": "sql-Pampero"
     }
    ]
   }
  }
 },
 "nbformat": 4,
 "nbformat_minor": 5
}
