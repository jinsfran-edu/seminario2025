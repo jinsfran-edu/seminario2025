{
 "cells": [
  {
   "cell_type": "markdown",
   "id": "4a20d513",
   "metadata": {},
   "source": [
    "# Unidad 05"
   ]
  },
  {
   "cell_type": "code",
   "execution_count": null,
   "id": "92ccd597",
   "metadata": {
    "language_info": {
     "name": "polyglot-notebook"
    },
    "polyglot_notebook": {
     "kernelName": "csharp"
    }
   },
   "outputs": [],
   "source": [
    "#r \"nuget: Microsoft.DotNet.Interactive.SqlServer, *-*\""
   ]
  },
  {
   "cell_type": "code",
   "execution_count": null,
   "id": "7ebe4509",
   "metadata": {
    "language_info": {
     "name": "polyglot-notebook"
    },
    "polyglot_notebook": {
     "kernelName": "csharp"
    }
   },
   "outputs": [],
   "source": [
    "foreach (var line in System.IO.File.ReadLines(\".env\"))\n",
    "{\n",
    "    var parts = line.Split('=');\n",
    "    if (parts.Length == 2)\n",
    "    {\n",
    "        var key = parts[0].Trim();\n",
    "        var value = parts[1].Trim();\n",
    "        Environment.SetEnvironmentVariable(key, value);\n",
    "    }\n",
    "}\n",
    "\n",
    "string connectionString = \"Server=\" + Environment.GetEnvironmentVariable(\"Server\") + \";Database=\" + Environment.GetEnvironmentVariable(\"Database\") + \";User Id=\" + Environment.GetEnvironmentVariable(\"User\") + \";Password=\" + Environment.GetEnvironmentVariable(\"Password\") + \";Encrypt=True;TrustServerCertificate=True;Connection Timeout=30;\";\n"
   ]
  },
  {
   "cell_type": "code",
   "execution_count": null,
   "id": "383f71d7",
   "metadata": {
    "language_info": {
     "name": "polyglot-notebook"
    },
    "polyglot_notebook": {
     "kernelName": "csharp"
    }
   },
   "outputs": [],
   "source": [
    "#!connect mssql --kernel-name Pampero @csharp:connectionString"
   ]
  },
  {
   "cell_type": "markdown",
   "id": "5326719e",
   "metadata": {},
   "source": [
    "## DDM - Dynamic Data Masking"
   ]
  },
  {
   "cell_type": "code",
   "execution_count": null,
   "metadata": {
    "language_info": {
     "name": "polyglot-notebook"
    },
    "polyglot_notebook": {
     "kernelName": "sql-Pampero"
    }
   },
   "outputs": [],
   "source": [
    "-- creamos schema para los datos\n",
    "CREATE SCHEMA Data;\n",
    "GO\n",
    "-- creamos tabla con campos con DDM\n",
    "CREATE TABLE Data.Membership(\n",
    "MemberID    int IDENTITY(1,1) NOT NULL PRIMARY KEY CLUSTERED,\n",
    "FirstName       varchar(100) MASKED WITH (FUNCTION = 'partial(1, \"xxxxx\", 1)') NULL,\n",
    "LastName        varchar(100) NOT NULL,\n",
    "Phone          varchar(12) MASKED WITH (FUNCTION = 'default()') NULL,\n",
    "Email          varchar(100) MASKED WITH (FUNCTION = 'email()') NOT NULL,\n",
    "DiscountCode    smallint MASKED WITH (FUNCTION = 'random(1, 100)') NULL\n",
    ");"
   ]
  },
  {
   "cell_type": "code",
   "execution_count": null,
   "metadata": {
    "language_info": {
     "name": "polyglot-notebook"
    },
    "polyglot_notebook": {
     "kernelName": "sql-Pampero"
    }
   },
   "outputs": [],
   "source": [
    "-- insertamos datos de ejemplo\n",
    "INSERT INTO Data.Membership (FirstName, LastName, Phone, Email, DiscountCode)\n",
    "VALUES\n",
    "('Roberto', 'Tamburello', '555.123.4567', 'RTamburello@contoso.com', 10),\n",
    "('Janice', 'Galvin', '555.123.4568', 'JGalvin@contoso.com.co', 5),\n",
    "('Shakti', 'Menon', '555.123.4570', 'SMenon@contoso.net', 50),\n",
    "('Zheng', 'Mu', '555.123.4569', 'ZMu@contoso.net', 40);"
   ]
  },
  {
   "cell_type": "code",
   "execution_count": null,
   "metadata": {
    "language_info": {
     "name": "polyglot-notebook"
    },
    "polyglot_notebook": {
     "kernelName": "sql-Pampero"
    }
   },
   "outputs": [],
   "source": [
    "CREATE USER MaskingTestUser WITHOUT LOGIN; \n",
    "GRANT SELECT ON SCHEMA::Data TO MaskingTestUser; \n",
    "\n",
    "-- ejecutamos la consulta como el usuario para probar:\n",
    "EXECUTE AS USER = 'MaskingTestUser'; \n",
    "SELECT * FROM Data.Membership; \n",
    "REVERT;"
   ]
  },
  {
   "cell_type": "code",
   "execution_count": null,
   "metadata": {
    "language_info": {
     "name": "polyglot-notebook"
    },
    "polyglot_notebook": {
     "kernelName": "sql-Pampero"
    }
   },
   "outputs": [],
   "source": [
    "GRANT UNMASK TO MaskingTestUser; \n",
    "EXECUTE AS USER = 'MaskingTestUser'; \n",
    "SELECT * FROM Data.Membership; \n",
    "REVERT;\n",
    "\n",
    "-- Quitar permiso de UNMASK\n",
    "REVOKE UNMASK TO MaskingTestUser;"
   ]
  }
 ],
 "metadata": {
  "kernelspec": {
   "display_name": ".NET (C#)",
   "language": "C#",
   "name": ".net-csharp"
  },
  "language_info": {
   "name": "polyglot-notebook"
  },
  "polyglot_notebook": {
   "kernelInfo": {
    "defaultKernelName": "csharp",
    "items": [
     {
      "aliases": [],
      "languageName": "csharp",
      "name": "csharp"
     },
     {
      "aliases": [],
      "languageName": "T-SQL",
      "name": "sql-Pampero"
     }
    ]
   }
  }
 },
 "nbformat": 4,
 "nbformat_minor": 5
}
